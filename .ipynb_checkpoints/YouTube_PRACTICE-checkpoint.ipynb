{
 "cells": [
  {
   "cell_type": "markdown",
   "metadata": {},
   "source": [
    "## Youtube Video Statistics\n",
    "<i>YouTube (the world -famous video sharing website) maintains a list of the top trending videos on the platform . According to Variety magazine , to determine the year's top trending videos , YouTube uses a combination of factors including measuring users interactions (number of views , shares , comments and likes) .Note : that they're not the most - viewed videos overall for the calendar year<i>"
   ]
  },
  {
   "cell_type": "markdown",
   "metadata": {},
   "source": [
    "## Problem Statement\n",
    "<i>Read the youtube data and perform exploratory data analysis<i>"
   ]
  },
  {
   "cell_type": "markdown",
   "metadata": {},
   "source": [
    "## Dataset Information\n",
    "This dataset is the daily record from the top trending YouTube videos . Top 200 trending videos of a given day. Original Data was collected during 14th November 2017 & 5th March 2018(though, data for January 10th & 11th of 2017 is missing). Original dataset was collected by Youtube API."
   ]
  },
  {
   "cell_type": "markdown",
   "metadata": {},
   "source": [
    "## Variable Description\n",
    "<table>\n",
    "    <tr><th>Column</th><th align=\"left\">Description</th></tr>\n",
    "    <tr><td>Video_Id</td><td>Unique Indentity which tells the video_id of each subscribed video </td></tr>\n",
    "    <tr><td>Category_Id</td><td>Unique number assigned to each category of the video</td></tr>\n",
    "    <tr><td>Channel_Title</td><td>Title of youtube channel of the video</td></tr>\n",
    "    <tr><td>Subscriber</td><td>Count of all subscribers for the respective video</td></tr>\n",
    "    <tr><td>Title</td><td>Title of the video</td></tr>\n",
    "    <tr><td>Tags</td><td>Tags are descriptive keywords you can add to your video to help viewers find your content</td></tr>\n",
    "    <tr><td>Description</td><td>Description of the respective video</td></tr>\n",
    "    <tr><td>Trend_day_count</td><td>Trending day count for respective video</td></tr>\n",
    "    <tr><td>Tag_count</td><td>Tag count for the respective video </td></tr>\n",
    "    <tr><td>Trend_tag_count</td><td>Tag count for respective trending video</td></tr>\n",
    "    <tr><td>Comment_count</td><td>Count of Comments for particular video</td></tr>\n",
    "    <tr><td>Comment_disabled</td><td>It represents the boolean value . True represents comments are enabled and False represents comments are disabled</td></tr>\n",
    "    <tr><td>Like dislike disabled</td><td>It represents the boolean value . True represents comments are enabled and False represents comments are disabled</td></tr>\n",
    "    <tr><td>Likes</td><td>Number of Likes for particular video</td></tr>\n",
    "    <tr><td>Dislikes</td><td>Number of Disikes for particular video</td></tr>\n",
    "    <tr><td>Tag appeared in Title</td><td>It represents the boolean value . True represents that the respective tag has appeared in a particular video. False represents that the respective tag has not appeared in particular video</td></tr>\n",
    "    <tr><td>views</td><td>Target variable . Number of veiws for  particular video</td></tr>\n",
    "</table>"
   ]
  },
  {
   "cell_type": "code",
   "execution_count": 1,
   "metadata": {},
   "outputs": [],
   "source": [
    "import numpy as np\n",
    "import pandas as pd\n",
    "\n",
    "#Visualization libraries\n",
    "import matplotlib.pyplot as plt\n",
    "import missingno as ms#find the pattern of missingness in the dataset\n",
    "import seaborn as sns\n",
    "plt.style.use('seaborn-whitegrid')\n",
    "\n",
    "#machine-learning libraries\n",
    "from sklearn.preprocessing import LabelEncoder,OneHotEncoder\n",
    "from scipy.stats import mode\n",
    "\n",
    "# import warnings filter\n",
    "import warnings \n",
    "\n",
    "warnings.simplefilter(action='ignore', category=FutureWarning)\n",
    "warnings.simplefilter(action='ignore', category=UserWarning)\n",
    "warnings.simplefilter(action='ignore', category=PendingDeprecationWarning)\n",
    "warnings.filterwarnings(\"error\")\n",
    "\n",
    "#Plotly commands\n",
    "import plotly\n",
    "import plotly.graph_objs as go\n",
    "\n",
    "%matplotlib inline"
   ]
  },
  {
   "cell_type": "markdown",
   "metadata": {},
   "source": [
    "# Process Division"
   ]
  },
  {
   "cell_type": "markdown",
   "metadata": {},
   "source": [
    "### Data Cleaning"
   ]
  },
  {
   "cell_type": "code",
   "execution_count": 2,
   "metadata": {},
   "outputs": [],
   "source": [
    "hd=pd.read_csv('train (1).csv')"
   ]
  },
  {
   "cell_type": "code",
   "execution_count": 3,
   "metadata": {
    "scrolled": true
   },
   "outputs": [
    {
     "data": {
      "text/html": [
       "<div>\n",
       "<style scoped>\n",
       "    .dataframe tbody tr th:only-of-type {\n",
       "        vertical-align: middle;\n",
       "    }\n",
       "\n",
       "    .dataframe tbody tr th {\n",
       "        vertical-align: top;\n",
       "    }\n",
       "\n",
       "    .dataframe thead th {\n",
       "        text-align: right;\n",
       "    }\n",
       "</style>\n",
       "<table border=\"1\" class=\"dataframe\">\n",
       "  <thead>\n",
       "    <tr style=\"text-align: right;\">\n",
       "      <th></th>\n",
       "      <th>Video_id</th>\n",
       "      <th>category_id</th>\n",
       "      <th>channel_title</th>\n",
       "      <th>subscriber</th>\n",
       "      <th>title</th>\n",
       "      <th>tags</th>\n",
       "      <th>description</th>\n",
       "      <th>Trend_day_count</th>\n",
       "      <th>Tag_count</th>\n",
       "      <th>Trend_tag_count</th>\n",
       "      <th>comment_count</th>\n",
       "      <th>comment_disabled</th>\n",
       "      <th>like dislike disabled</th>\n",
       "      <th>likes</th>\n",
       "      <th>dislike</th>\n",
       "      <th>tag appered in title</th>\n",
       "      <th>views</th>\n",
       "      <th>Unnamed: 17</th>\n",
       "      <th>Unnamed: 18</th>\n",
       "    </tr>\n",
       "  </thead>\n",
       "  <tbody>\n",
       "    <tr>\n",
       "      <td>0</td>\n",
       "      <td>HDR9SQc79</td>\n",
       "      <td>22</td>\n",
       "      <td>CaseyNeistat</td>\n",
       "      <td>9086142.0</td>\n",
       "      <td>WE WANT TO TALK ABOUT OUR MARRIAGE</td>\n",
       "      <td>SHANtell martin</td>\n",
       "      <td>SHANTELL'S CHANNEL - https://www.youtube.com/s...</td>\n",
       "      <td>6.0</td>\n",
       "      <td>21</td>\n",
       "      <td>6</td>\n",
       "      <td></td>\n",
       "      <td>FALSE</td>\n",
       "      <td>FALSE</td>\n",
       "      <td>13342</td>\n",
       "      <td>6089</td>\n",
       "      <td>False</td>\n",
       "      <td>1978978</td>\n",
       "      <td>NaN</td>\n",
       "      <td>NaN</td>\n",
       "    </tr>\n",
       "    <tr>\n",
       "      <td>1</td>\n",
       "      <td>KNH52UF?48</td>\n",
       "      <td>24</td>\n",
       "      <td>LastWeekTonight</td>\n",
       "      <td>5937292.0</td>\n",
       "      <td>The Trump Presidency: Last Week Tonight with J...</td>\n",
       "      <td>last week tonight trump presidency|last week t...</td>\n",
       "      <td>One year after the presidential election, John...</td>\n",
       "      <td>1.0</td>\n",
       "      <td>23</td>\n",
       "      <td>1</td>\n",
       "      <td>116266</td>\n",
       "      <td>TRUE</td>\n",
       "      <td>FALSE</td>\n",
       "      <td>5761</td>\n",
       "      <td>3044</td>\n",
       "      <td>False</td>\n",
       "      <td>1487870</td>\n",
       "      <td>NaN</td>\n",
       "      <td>NaN</td>\n",
       "    </tr>\n",
       "    <tr>\n",
       "      <td>2</td>\n",
       "      <td>QTW28IRG36</td>\n",
       "      <td>23</td>\n",
       "      <td>Rudy Mancuso</td>\n",
       "      <td>4191209.0</td>\n",
       "      <td>Racist Superman | Rudy Mancuso, King Bach &amp; Le...</td>\n",
       "      <td>racist superman|rudy|mancuso|king|bach|racist|...</td>\n",
       "      <td>WATCH MY PREVIOUS VIDEO ▶ \\n\\nSUBSCRIBE ► http...</td>\n",
       "      <td>10.0</td>\n",
       "      <td>22</td>\n",
       "      <td>3</td>\n",
       "      <td>257850</td>\n",
       "      <td>TRUE</td>\n",
       "      <td>TRUE</td>\n",
       "      <td>0</td>\n",
       "      <td>0</td>\n",
       "      <td>True</td>\n",
       "      <td>1502102</td>\n",
       "      <td>NaN</td>\n",
       "      <td>NaN</td>\n",
       "    </tr>\n",
       "    <tr>\n",
       "      <td>3</td>\n",
       "      <td>MGL76WI]26</td>\n",
       "      <td>24</td>\n",
       "      <td>Good Mythical Morning</td>\n",
       "      <td>13186408.0</td>\n",
       "      <td>Nickelback Lyrics: Real or Fake?</td>\n",
       "      <td>rhett and link|gmm|good mythical morning|rhett...</td>\n",
       "      <td>Today we find out if Link is a Nickelback amat...</td>\n",
       "      <td>12.0</td>\n",
       "      <td>17</td>\n",
       "      <td>5</td>\n",
       "      <td>263939</td>\n",
       "      <td>TRUE</td>\n",
       "      <td>TRUE</td>\n",
       "      <td>0</td>\n",
       "      <td>0</td>\n",
       "      <td>True</td>\n",
       "      <td>3519302</td>\n",
       "      <td>NaN</td>\n",
       "      <td>NaN</td>\n",
       "    </tr>\n",
       "    <tr>\n",
       "      <td>4</td>\n",
       "      <td>TWP93KXT70</td>\n",
       "      <td>24</td>\n",
       "      <td>nigahiga</td>\n",
       "      <td>20563106.0</td>\n",
       "      <td>I Dare You: GOING BALD!?</td>\n",
       "      <td>ryan|higa|higatv|nigahiga|i dare you|idy|rhpc|...</td>\n",
       "      <td>I know it's been a while since we did this sho...</td>\n",
       "      <td>11.0</td>\n",
       "      <td>15</td>\n",
       "      <td>7</td>\n",
       "      <td>268085</td>\n",
       "      <td>TRUE</td>\n",
       "      <td>TRUE</td>\n",
       "      <td>0</td>\n",
       "      <td>0</td>\n",
       "      <td>True</td>\n",
       "      <td>4835374</td>\n",
       "      <td>NaN</td>\n",
       "      <td>NaN</td>\n",
       "    </tr>\n",
       "  </tbody>\n",
       "</table>\n",
       "</div>"
      ],
      "text/plain": [
       "     Video_id category_id          channel_title  subscriber  \\\n",
       "0   HDR9SQc79          22           CaseyNeistat   9086142.0   \n",
       "1  KNH52UF?48          24        LastWeekTonight   5937292.0   \n",
       "2  QTW28IRG36          23           Rudy Mancuso   4191209.0   \n",
       "3  MGL76WI]26          24  Good Mythical Morning  13186408.0   \n",
       "4  TWP93KXT70          24               nigahiga  20563106.0   \n",
       "\n",
       "                                               title  \\\n",
       "0                 WE WANT TO TALK ABOUT OUR MARRIAGE   \n",
       "1  The Trump Presidency: Last Week Tonight with J...   \n",
       "2  Racist Superman | Rudy Mancuso, King Bach & Le...   \n",
       "3                   Nickelback Lyrics: Real or Fake?   \n",
       "4                           I Dare You: GOING BALD!?   \n",
       "\n",
       "                                                tags  \\\n",
       "0                                    SHANtell martin   \n",
       "1  last week tonight trump presidency|last week t...   \n",
       "2  racist superman|rudy|mancuso|king|bach|racist|...   \n",
       "3  rhett and link|gmm|good mythical morning|rhett...   \n",
       "4  ryan|higa|higatv|nigahiga|i dare you|idy|rhpc|...   \n",
       "\n",
       "                                         description  Trend_day_count  \\\n",
       "0  SHANTELL'S CHANNEL - https://www.youtube.com/s...              6.0   \n",
       "1  One year after the presidential election, John...              1.0   \n",
       "2  WATCH MY PREVIOUS VIDEO ▶ \\n\\nSUBSCRIBE ► http...             10.0   \n",
       "3  Today we find out if Link is a Nickelback amat...             12.0   \n",
       "4  I know it's been a while since we did this sho...             11.0   \n",
       "\n",
       "  Tag_count Trend_tag_count comment_count comment_disabled  \\\n",
       "0        21               6                          FALSE   \n",
       "1        23               1        116266             TRUE   \n",
       "2        22               3        257850             TRUE   \n",
       "3        17               5        263939             TRUE   \n",
       "4        15               7        268085             TRUE   \n",
       "\n",
       "  like dislike disabled  likes dislike tag appered in title    views  \\\n",
       "0                 FALSE  13342    6089                False  1978978   \n",
       "1                 FALSE   5761    3044                False  1487870   \n",
       "2                  TRUE      0       0                 True  1502102   \n",
       "3                  TRUE      0       0                 True  3519302   \n",
       "4                  TRUE      0       0                 True  4835374   \n",
       "\n",
       "   Unnamed: 17 Unnamed: 18  \n",
       "0          NaN         NaN  \n",
       "1          NaN         NaN  \n",
       "2          NaN         NaN  \n",
       "3          NaN         NaN  \n",
       "4          NaN         NaN  "
      ]
     },
     "execution_count": 3,
     "metadata": {},
     "output_type": "execute_result"
    }
   ],
   "source": [
    "hd.head()"
   ]
  },
  {
   "cell_type": "code",
   "execution_count": 4,
   "metadata": {},
   "outputs": [
    {
     "name": "stdout",
     "output_type": "stream",
     "text": [
      "<class 'pandas.core.frame.DataFrame'>\n",
      "RangeIndex: 3198 entries, 0 to 3197\n",
      "Data columns (total 19 columns):\n",
      "Video_id                 3198 non-null object\n",
      "category_id              3192 non-null object\n",
      "channel_title            3195 non-null object\n",
      "subscriber               3175 non-null float64\n",
      "title                    3195 non-null object\n",
      "tags                     3046 non-null object\n",
      "description              3133 non-null object\n",
      "Trend_day_count          3197 non-null float64\n",
      "Tag_count                3197 non-null object\n",
      "Trend_tag_count          3197 non-null object\n",
      "comment_count            3198 non-null object\n",
      "comment_disabled         3198 non-null object\n",
      "like dislike disabled    3198 non-null object\n",
      "likes                    3198 non-null object\n",
      "dislike                  3198 non-null object\n",
      "tag appered in title     3197 non-null object\n",
      "views                    3198 non-null object\n",
      "Unnamed: 17              1 non-null float64\n",
      "Unnamed: 18              1 non-null object\n",
      "dtypes: float64(3), object(16)\n",
      "memory usage: 474.8+ KB\n"
     ]
    }
   ],
   "source": [
    "hd.info()"
   ]
  },
  {
   "cell_type": "code",
   "execution_count": 5,
   "metadata": {},
   "outputs": [],
   "source": [
    "#Dropping unmatched columns as per dataset\n",
    "hd.drop(['Unnamed: 17','Unnamed: 18'],axis=1,inplace=True)"
   ]
  },
  {
   "cell_type": "code",
   "execution_count": 6,
   "metadata": {},
   "outputs": [
    {
     "name": "stdout",
     "output_type": "stream",
     "text": [
      "<class 'pandas.core.frame.DataFrame'>\n",
      "RangeIndex: 3198 entries, 0 to 3197\n",
      "Data columns (total 17 columns):\n",
      "Video_id                 3198 non-null object\n",
      "category_id              3192 non-null object\n",
      "channel_title            3195 non-null object\n",
      "subscriber               3175 non-null float64\n",
      "title                    3195 non-null object\n",
      "tags                     3046 non-null object\n",
      "description              3133 non-null object\n",
      "Trend_day_count          3197 non-null float64\n",
      "Tag_count                3197 non-null object\n",
      "Trend_tag_count          3197 non-null object\n",
      "comment_count            3198 non-null object\n",
      "comment_disabled         3198 non-null object\n",
      "like dislike disabled    3198 non-null object\n",
      "likes                    3198 non-null object\n",
      "dislike                  3198 non-null object\n",
      "tag appered in title     3197 non-null object\n",
      "views                    3198 non-null object\n",
      "dtypes: float64(2), object(15)\n",
      "memory usage: 424.9+ KB\n"
     ]
    }
   ],
   "source": [
    "hd.info()"
   ]
  },
  {
   "cell_type": "code",
   "execution_count": 7,
   "metadata": {},
   "outputs": [
    {
     "data": {
      "text/plain": [
       "<matplotlib.axes._subplots.AxesSubplot at 0x255cc581c48>"
      ]
     },
     "execution_count": 7,
     "metadata": {},
     "output_type": "execute_result"
    },
    {
     "data": {
      "image/png": "[encoded data removed]",
      "text/plain": [
       "<Figure size 1800x720 with 2 Axes>"
      ]
     },
     "metadata": {
      "needs_background": "light"
     },
     "output_type": "display_data"
    }
   ],
   "source": [
    "ms.matrix(hd)#Finding columns containg null values as per visualization"
   ]
  },
  {
   "cell_type": "code",
   "execution_count": 8,
   "metadata": {},
   "outputs": [
    {
     "data": {
      "text/plain": [
       "Video_id                   0\n",
       "category_id                6\n",
       "channel_title              3\n",
       "subscriber                23\n",
       "title                      3\n",
       "tags                     152\n",
       "description               65\n",
       "Trend_day_count            1\n",
       "Tag_count                  1\n",
       "Trend_tag_count            1\n",
       "comment_count              0\n",
       "comment_disabled           0\n",
       "like dislike disabled      0\n",
       "likes                      0\n",
       "dislike                    0\n",
       "tag appered in title       1\n",
       "views                      0\n",
       "dtype: int64"
      ]
     },
     "execution_count": 8,
     "metadata": {},
     "output_type": "execute_result"
    }
   ],
   "source": [
    "#counting null values in each column\n",
    "hd.isna().sum()"
   ]
  },
  {
   "cell_type": "markdown",
   "metadata": {},
   "source": [
    "#### category_id"
   ]
  },
  {
   "cell_type": "code",
   "execution_count": 9,
   "metadata": {},
   "outputs": [
    {
     "data": {
      "text/plain": [
       "array(['22', '24', '23', '28', '1', '25', '17', '10', '15', '27', '26',\n",
       "       '2', '19', '20', nan, '29', '“24', '43'], dtype=object)"
      ]
     },
     "execution_count": 9,
     "metadata": {},
     "output_type": "execute_result"
    }
   ],
   "source": [
    "hd['category_id'].unique()"
   ]
  },
  {
   "cell_type": "markdown",
   "metadata": {},
   "source": [
    "Removing null value and \"24 value"
   ]
  },
  {
   "cell_type": "code",
   "execution_count": 10,
   "metadata": {},
   "outputs": [
    {
     "data": {
      "text/html": [
       "<div>\n",
       "<style scoped>\n",
       "    .dataframe tbody tr th:only-of-type {\n",
       "        vertical-align: middle;\n",
       "    }\n",
       "\n",
       "    .dataframe tbody tr th {\n",
       "        vertical-align: top;\n",
       "    }\n",
       "\n",
       "    .dataframe thead th {\n",
       "        text-align: right;\n",
       "    }\n",
       "</style>\n",
       "<table border=\"1\" class=\"dataframe\">\n",
       "  <thead>\n",
       "    <tr style=\"text-align: right;\">\n",
       "      <th></th>\n",
       "      <th>Video_id</th>\n",
       "      <th>category_id</th>\n",
       "      <th>channel_title</th>\n",
       "      <th>subscriber</th>\n",
       "      <th>title</th>\n",
       "      <th>tags</th>\n",
       "      <th>description</th>\n",
       "      <th>Trend_day_count</th>\n",
       "      <th>Tag_count</th>\n",
       "      <th>Trend_tag_count</th>\n",
       "      <th>comment_count</th>\n",
       "      <th>comment_disabled</th>\n",
       "      <th>like dislike disabled</th>\n",
       "      <th>likes</th>\n",
       "      <th>dislike</th>\n",
       "      <th>tag appered in title</th>\n",
       "      <th>views</th>\n",
       "    </tr>\n",
       "  </thead>\n",
       "  <tbody>\n",
       "    <tr>\n",
       "      <td>1691</td>\n",
       "      <td>DGQ85KL`7</td>\n",
       "      <td>“24</td>\n",
       "      <td>NaN</td>\n",
       "      <td>1676098.0</td>\n",
       "      <td>Mark Hamill Didn’t Tell Carrie Fisher the Big ...</td>\n",
       "      <td>Graham Norton|Graham Norton Show Official|Ente...</td>\n",
       "      <td>It’s impressive that he kept the secret for th...</td>\n",
       "      <td>12.0</td>\n",
       "      <td>12</td>\n",
       "      <td>7</td>\n",
       "      <td></td>\n",
       "      <td>FALSE</td>\n",
       "      <td>FALSE</td>\n",
       "      <td>10275</td>\n",
       "      <td>8086</td>\n",
       "      <td>False</td>\n",
       "      <td>682724</td>\n",
       "    </tr>\n",
       "  </tbody>\n",
       "</table>\n",
       "</div>"
      ],
      "text/plain": [
       "       Video_id category_id channel_title  subscriber  \\\n",
       "1691  DGQ85KL`7         “24           NaN   1676098.0   \n",
       "\n",
       "                                                  title  \\\n",
       "1691  Mark Hamill Didn’t Tell Carrie Fisher the Big ...   \n",
       "\n",
       "                                                   tags  \\\n",
       "1691  Graham Norton|Graham Norton Show Official|Ente...   \n",
       "\n",
       "                                            description  Trend_day_count  \\\n",
       "1691  It’s impressive that he kept the secret for th...             12.0   \n",
       "\n",
       "     Tag_count Trend_tag_count comment_count comment_disabled  \\\n",
       "1691        12               7                          FALSE   \n",
       "\n",
       "     like dislike disabled  likes dislike tag appered in title   views  \n",
       "1691                 FALSE  10275    8086                False  682724  "
      ]
     },
     "execution_count": 10,
     "metadata": {},
     "output_type": "execute_result"
    }
   ],
   "source": [
    "hd[hd['category_id']=='“24']#finding \"24 value"
   ]
  },
  {
   "cell_type": "code",
   "execution_count": 11,
   "metadata": {},
   "outputs": [],
   "source": [
    "hd['category_id']=hd['category_id'].str.replace('“','',regex=True)#Replacing by regex"
   ]
  },
  {
   "cell_type": "code",
   "execution_count": 12,
   "metadata": {},
   "outputs": [
    {
     "data": {
      "text/plain": [
       "Video_id                                                         DGQ85KL`7\n",
       "category_id                                                             24\n",
       "channel_title                                                          NaN\n",
       "subscriber                                                      1.6761e+06\n",
       "title                    Mark Hamill Didn’t Tell Carrie Fisher the Big ...\n",
       "tags                     Graham Norton|Graham Norton Show Official|Ente...\n",
       "description              It’s impressive that he kept the secret for th...\n",
       "Trend_day_count                                                         12\n",
       "Tag_count                                                               12\n",
       "Trend_tag_count                                                          7\n",
       "comment_count                                                             \n",
       "comment_disabled                                                     FALSE\n",
       "like dislike disabled                                                FALSE\n",
       "likes                                                                10275\n",
       "dislike                                                               8086\n",
       "tag appered in title                                                 False\n",
       "views                                                               682724\n",
       "Name: 1691, dtype: object"
      ]
     },
     "execution_count": 12,
     "metadata": {},
     "output_type": "execute_result"
    }
   ],
   "source": [
    "hd.iloc[1691]"
   ]
  },
  {
   "cell_type": "code",
   "execution_count": 13,
   "metadata": {},
   "outputs": [],
   "source": [
    "hd.dropna(subset=['category_id'],inplace=True)#Removing null values"
   ]
  },
  {
   "cell_type": "code",
   "execution_count": 14,
   "metadata": {},
   "outputs": [
    {
     "data": {
      "text/plain": [
       "0"
      ]
     },
     "execution_count": 14,
     "metadata": {},
     "output_type": "execute_result"
    }
   ],
   "source": [
    "hd['category_id'].isna().sum()"
   ]
  },
  {
   "cell_type": "code",
   "execution_count": 15,
   "metadata": {},
   "outputs": [
    {
     "data": {
      "text/plain": [
       "3192"
      ]
     },
     "execution_count": 15,
     "metadata": {},
     "output_type": "execute_result"
    }
   ],
   "source": [
    "len(hd)"
   ]
  },
  {
   "cell_type": "code",
   "execution_count": 16,
   "metadata": {},
   "outputs": [
    {
     "name": "stdout",
     "output_type": "stream",
     "text": [
      "<class 'pandas.core.frame.DataFrame'>\n",
      "Int64Index: 3192 entries, 0 to 3197\n",
      "Data columns (total 17 columns):\n",
      "Video_id                 3192 non-null object\n",
      "category_id              3192 non-null object\n",
      "channel_title            3189 non-null object\n",
      "subscriber               3169 non-null float64\n",
      "title                    3189 non-null object\n",
      "tags                     3041 non-null object\n",
      "description              3127 non-null object\n",
      "Trend_day_count          3191 non-null float64\n",
      "Tag_count                3191 non-null object\n",
      "Trend_tag_count          3191 non-null object\n",
      "comment_count            3192 non-null object\n",
      "comment_disabled         3192 non-null object\n",
      "like dislike disabled    3192 non-null object\n",
      "likes                    3192 non-null object\n",
      "dislike                  3192 non-null object\n",
      "tag appered in title     3191 non-null object\n",
      "views                    3192 non-null object\n",
      "dtypes: float64(2), object(15)\n",
      "memory usage: 448.9+ KB\n"
     ]
    }
   ],
   "source": [
    "hd.info()"
   ]
  },
  {
   "cell_type": "code",
   "execution_count": 17,
   "metadata": {},
   "outputs": [
    {
     "data": {
      "text/plain": [
       "dtype('int64')"
      ]
     },
     "execution_count": 17,
     "metadata": {},
     "output_type": "execute_result"
    }
   ],
   "source": [
    "#Converting datatype to int64\n",
    "hd['category_id'] = hd['category_id'].astype('int64')\n",
    "np.dtype(hd['category_id'])"
   ]
  },
  {
   "cell_type": "code",
   "execution_count": 18,
   "metadata": {},
   "outputs": [
    {
     "data": {
      "image/png": "[encoded data removed]",
      "text/plain": [
       "<Figure size 432x288 with 1 Axes>"
      ]
     },
     "metadata": {
      "needs_background": "light"
     },
     "output_type": "display_data"
    }
   ],
   "source": [
    "sns.countplot(data=hd,y='category_id')\n",
    "sns.despine(bottom=True)#Removing spines"
   ]
  },
  {
   "cell_type": "markdown",
   "metadata": {},
   "source": [
    "#### channel_title"
   ]
  },
  {
   "cell_type": "code",
   "execution_count": 19,
   "metadata": {},
   "outputs": [
    {
     "data": {
      "text/plain": [
       "3"
      ]
     },
     "execution_count": 19,
     "metadata": {},
     "output_type": "execute_result"
    }
   ],
   "source": [
    "hd['channel_title'].isna().sum()"
   ]
  },
  {
   "cell_type": "code",
   "execution_count": 20,
   "metadata": {},
   "outputs": [
    {
     "data": {
      "text/plain": [
       "3189"
      ]
     },
     "execution_count": 20,
     "metadata": {},
     "output_type": "execute_result"
    }
   ],
   "source": [
    "#In this if we don't have any name it requires cleansing\n",
    "hd.dropna(subset=['channel_title'],inplace=True)\n",
    "len(hd)"
   ]
  },
  {
   "cell_type": "markdown",
   "metadata": {},
   "source": [
    "#### subscriber"
   ]
  },
  {
   "cell_type": "code",
   "execution_count": 21,
   "metadata": {},
   "outputs": [
    {
     "data": {
      "text/plain": [
       "23"
      ]
     },
     "execution_count": 21,
     "metadata": {},
     "output_type": "execute_result"
    }
   ],
   "source": [
    "hd['subscriber'].isna().sum()"
   ]
  },
  {
   "cell_type": "code",
   "execution_count": 22,
   "metadata": {},
   "outputs": [
    {
     "data": {
      "text/plain": [
       "3166"
      ]
     },
     "execution_count": 22,
     "metadata": {},
     "output_type": "execute_result"
    }
   ],
   "source": [
    "hd.dropna(subset=['subscriber'],inplace=True)\n",
    "len(hd)"
   ]
  },
  {
   "cell_type": "code",
   "execution_count": 23,
   "metadata": {},
   "outputs": [
    {
     "name": "stdout",
     "output_type": "stream",
     "text": [
      "<class 'pandas.core.frame.DataFrame'>\n",
      "Int64Index: 3166 entries, 0 to 3197\n",
      "Data columns (total 17 columns):\n",
      "Video_id                 3166 non-null object\n",
      "category_id              3166 non-null int64\n",
      "channel_title            3166 non-null object\n",
      "subscriber               3166 non-null float64\n",
      "title                    3163 non-null object\n",
      "tags                     3018 non-null object\n",
      "description              3102 non-null object\n",
      "Trend_day_count          3165 non-null float64\n",
      "Tag_count                3165 non-null object\n",
      "Trend_tag_count          3165 non-null object\n",
      "comment_count            3166 non-null object\n",
      "comment_disabled         3166 non-null object\n",
      "like dislike disabled    3166 non-null object\n",
      "likes                    3166 non-null object\n",
      "dislike                  3166 non-null object\n",
      "tag appered in title     3165 non-null object\n",
      "views                    3166 non-null object\n",
      "dtypes: float64(2), int64(1), object(14)\n",
      "memory usage: 445.2+ KB\n"
     ]
    }
   ],
   "source": [
    "hd.info()"
   ]
  },
  {
   "cell_type": "markdown",
   "metadata": {},
   "source": [
    "#### title"
   ]
  },
  {
   "cell_type": "code",
   "execution_count": 24,
   "metadata": {},
   "outputs": [
    {
     "data": {
      "text/plain": [
       "3"
      ]
     },
     "execution_count": 24,
     "metadata": {},
     "output_type": "execute_result"
    }
   ],
   "source": [
    "hd['title'].isna().sum()"
   ]
  },
  {
   "cell_type": "code",
   "execution_count": 25,
   "metadata": {},
   "outputs": [
    {
     "data": {
      "text/plain": [
       "3163"
      ]
     },
     "execution_count": 25,
     "metadata": {},
     "output_type": "execute_result"
    }
   ],
   "source": [
    "hd.dropna(subset=['title'],inplace=True)\n",
    "len(hd)"
   ]
  },
  {
   "cell_type": "markdown",
   "metadata": {},
   "source": [
    "#### Trend_day_count"
   ]
  },
  {
   "cell_type": "code",
   "execution_count": 26,
   "metadata": {},
   "outputs": [
    {
     "data": {
      "text/plain": [
       "array([6.000e+00, 1.000e+00, 1.000e+01, 1.200e+01, 1.100e+01, 4.000e+00,\n",
       "       9.000e+00, 8.000e+00, 7.000e+00, 5.000e+00, 3.000e+00, 2.000e+00,\n",
       "       4.444e+03, 0.000e+00])"
      ]
     },
     "execution_count": 26,
     "metadata": {},
     "output_type": "execute_result"
    }
   ],
   "source": [
    "hd['Trend_day_count'].unique()"
   ]
  },
  {
   "cell_type": "code",
   "execution_count": 27,
   "metadata": {},
   "outputs": [
    {
     "data": {
      "text/plain": [
       "10.0      301\n",
       "3.0       280\n",
       "1.0       272\n",
       "4.0       270\n",
       "8.0       269\n",
       "11.0      265\n",
       "12.0      262\n",
       "5.0       260\n",
       "9.0       258\n",
       "7.0       257\n",
       "6.0       256\n",
       "2.0       209\n",
       "0.0         3\n",
       "4444.0      1\n",
       "Name: Trend_day_count, dtype: int64"
      ]
     },
     "execution_count": 27,
     "metadata": {},
     "output_type": "execute_result"
    }
   ],
   "source": [
    "hd['Trend_day_count'].value_counts()"
   ]
  },
  {
   "cell_type": "markdown",
   "metadata": {},
   "source": [
    "Now we have totally 1 value of 4444 which seems to be an outlier"
   ]
  },
  {
   "cell_type": "code",
   "execution_count": 28,
   "metadata": {},
   "outputs": [
    {
     "data": {
      "text/html": [
       "<div>\n",
       "<style scoped>\n",
       "    .dataframe tbody tr th:only-of-type {\n",
       "        vertical-align: middle;\n",
       "    }\n",
       "\n",
       "    .dataframe tbody tr th {\n",
       "        vertical-align: top;\n",
       "    }\n",
       "\n",
       "    .dataframe thead th {\n",
       "        text-align: right;\n",
       "    }\n",
       "</style>\n",
       "<table border=\"1\" class=\"dataframe\">\n",
       "  <thead>\n",
       "    <tr style=\"text-align: right;\">\n",
       "      <th></th>\n",
       "      <th>Video_id</th>\n",
       "      <th>category_id</th>\n",
       "      <th>channel_title</th>\n",
       "      <th>subscriber</th>\n",
       "      <th>title</th>\n",
       "      <th>tags</th>\n",
       "      <th>description</th>\n",
       "      <th>Trend_day_count</th>\n",
       "      <th>Tag_count</th>\n",
       "      <th>Trend_tag_count</th>\n",
       "      <th>comment_count</th>\n",
       "      <th>comment_disabled</th>\n",
       "      <th>like dislike disabled</th>\n",
       "      <th>likes</th>\n",
       "      <th>dislike</th>\n",
       "      <th>tag appered in title</th>\n",
       "      <th>views</th>\n",
       "    </tr>\n",
       "  </thead>\n",
       "  <tbody>\n",
       "    <tr>\n",
       "      <td>1952</td>\n",
       "      <td>KBC90MVa41</td>\n",
       "      <td>25</td>\n",
       "      <td>CBS This Morning</td>\n",
       "      <td>298962.0</td>\n",
       "      <td>Senate passes historic GOP tax bill, House to ...</td>\n",
       "      <td>video|cbs|news|Senate|tax reform|House|Republi...</td>\n",
       "      <td>The Senate approved a historic tax reform bill...</td>\n",
       "      <td>4444.0</td>\n",
       "      <td>13</td>\n",
       "      <td>7</td>\n",
       "      <td>126241</td>\n",
       "      <td>TRUE</td>\n",
       "      <td>FALSE</td>\n",
       "      <td>13482</td>\n",
       "      <td>8034</td>\n",
       "      <td>False</td>\n",
       "      <td>450132</td>\n",
       "    </tr>\n",
       "  </tbody>\n",
       "</table>\n",
       "</div>"
      ],
      "text/plain": [
       "        Video_id  category_id     channel_title  subscriber  \\\n",
       "1952  KBC90MVa41           25  CBS This Morning    298962.0   \n",
       "\n",
       "                                                  title  \\\n",
       "1952  Senate passes historic GOP tax bill, House to ...   \n",
       "\n",
       "                                                   tags  \\\n",
       "1952  video|cbs|news|Senate|tax reform|House|Republi...   \n",
       "\n",
       "                                            description  Trend_day_count  \\\n",
       "1952  The Senate approved a historic tax reform bill...           4444.0   \n",
       "\n",
       "     Tag_count Trend_tag_count comment_count comment_disabled  \\\n",
       "1952        13               7        126241             TRUE   \n",
       "\n",
       "     like dislike disabled  likes dislike tag appered in title   views  \n",
       "1952                 FALSE  13482    8034                False  450132  "
      ]
     },
     "execution_count": 28,
     "metadata": {},
     "output_type": "execute_result"
    }
   ],
   "source": [
    "hd[hd['Trend_day_count']==4444]"
   ]
  },
  {
   "cell_type": "code",
   "execution_count": 29,
   "metadata": {},
   "outputs": [
    {
     "data": {
      "text/html": [
       "<div>\n",
       "<style scoped>\n",
       "    .dataframe tbody tr th:only-of-type {\n",
       "        vertical-align: middle;\n",
       "    }\n",
       "\n",
       "    .dataframe tbody tr th {\n",
       "        vertical-align: top;\n",
       "    }\n",
       "\n",
       "    .dataframe thead th {\n",
       "        text-align: right;\n",
       "    }\n",
       "</style>\n",
       "<table border=\"1\" class=\"dataframe\">\n",
       "  <thead>\n",
       "    <tr style=\"text-align: right;\">\n",
       "      <th></th>\n",
       "      <th>Video_id</th>\n",
       "      <th>category_id</th>\n",
       "      <th>channel_title</th>\n",
       "      <th>subscriber</th>\n",
       "      <th>title</th>\n",
       "      <th>tags</th>\n",
       "      <th>description</th>\n",
       "      <th>Trend_day_count</th>\n",
       "      <th>Tag_count</th>\n",
       "      <th>Trend_tag_count</th>\n",
       "      <th>comment_count</th>\n",
       "      <th>comment_disabled</th>\n",
       "      <th>like dislike disabled</th>\n",
       "      <th>likes</th>\n",
       "      <th>dislike</th>\n",
       "      <th>tag appered in title</th>\n",
       "      <th>views</th>\n",
       "    </tr>\n",
       "  </thead>\n",
       "  <tbody>\n",
       "    <tr>\n",
       "      <td>2024</td>\n",
       "      <td>ADD83ZOA32</td>\n",
       "      <td>22</td>\n",
       "      <td>BuzzFeedVideo</td>\n",
       "      <td>14889874.0</td>\n",
       "      <td>Binging With Babish Cooks Bob's Burgers For Fans</td>\n",
       "      <td>buzzfeed|buzzfeedvideo|binging with babish|bur...</td>\n",
       "      <td>That's not a cartoon burger, that's like legit...</td>\n",
       "      <td>0.0</td>\n",
       "      <td>17</td>\n",
       "      <td>3</td>\n",
       "      <td>59958</td>\n",
       "      <td>TRUE</td>\n",
       "      <td>TRUE</td>\n",
       "      <td>0</td>\n",
       "      <td>0</td>\n",
       "      <td>True</td>\n",
       "      <td>3390169</td>\n",
       "    </tr>\n",
       "    <tr>\n",
       "      <td>2207</td>\n",
       "      <td>WQR72LXe78</td>\n",
       "      <td>25</td>\n",
       "      <td>CNN</td>\n",
       "      <td>3095131.0</td>\n",
       "      <td>Nikki Haley: 'We will never accept a nuclear N...</td>\n",
       "      <td>latest News|Happening Now|CNN|united nations|n...</td>\n",
       "      <td>US Ambassador to the United Nations Nikki Hale...</td>\n",
       "      <td>0.0</td>\n",
       "      <td>19</td>\n",
       "      <td>4</td>\n",
       "      <td>128744</td>\n",
       "      <td>TRUE</td>\n",
       "      <td>FALSE</td>\n",
       "      <td>12386</td>\n",
       "      <td>11936</td>\n",
       "      <td>True</td>\n",
       "      <td>1028936</td>\n",
       "    </tr>\n",
       "    <tr>\n",
       "      <td>2265</td>\n",
       "      <td>TXP42XQF41</td>\n",
       "      <td>1</td>\n",
       "      <td>The Atlantic</td>\n",
       "      <td>93238.0</td>\n",
       "      <td>The Challenge of True Solitude</td>\n",
       "      <td>the atlantic|winter|cold|isolation|ghosts|isla...</td>\n",
       "      <td>“You have to be at peace with the fact that so...</td>\n",
       "      <td>0.0</td>\n",
       "      <td>25</td>\n",
       "      <td>2</td>\n",
       "      <td></td>\n",
       "      <td>FALSE</td>\n",
       "      <td>FALSE</td>\n",
       "      <td>20320</td>\n",
       "      <td>11714</td>\n",
       "      <td>False</td>\n",
       "      <td>154326</td>\n",
       "    </tr>\n",
       "  </tbody>\n",
       "</table>\n",
       "</div>"
      ],
      "text/plain": [
       "        Video_id  category_id  channel_title  subscriber  \\\n",
       "2024  ADD83ZOA32           22  BuzzFeedVideo  14889874.0   \n",
       "2207  WQR72LXe78           25            CNN   3095131.0   \n",
       "2265  TXP42XQF41            1   The Atlantic     93238.0   \n",
       "\n",
       "                                                  title  \\\n",
       "2024   Binging With Babish Cooks Bob's Burgers For Fans   \n",
       "2207  Nikki Haley: 'We will never accept a nuclear N...   \n",
       "2265                     The Challenge of True Solitude   \n",
       "\n",
       "                                                   tags  \\\n",
       "2024  buzzfeed|buzzfeedvideo|binging with babish|bur...   \n",
       "2207  latest News|Happening Now|CNN|united nations|n...   \n",
       "2265  the atlantic|winter|cold|isolation|ghosts|isla...   \n",
       "\n",
       "                                            description  Trend_day_count  \\\n",
       "2024  That's not a cartoon burger, that's like legit...              0.0   \n",
       "2207  US Ambassador to the United Nations Nikki Hale...              0.0   \n",
       "2265  “You have to be at peace with the fact that so...              0.0   \n",
       "\n",
       "     Tag_count Trend_tag_count comment_count comment_disabled  \\\n",
       "2024        17               3         59958             TRUE   \n",
       "2207        19               4        128744             TRUE   \n",
       "2265        25               2                          FALSE   \n",
       "\n",
       "     like dislike disabled  likes dislike tag appered in title    views  \n",
       "2024                  TRUE      0       0                 True  3390169  \n",
       "2207                 FALSE  12386   11936                 True  1028936  \n",
       "2265                 FALSE  20320   11714                False   154326  "
      ]
     },
     "execution_count": 29,
     "metadata": {},
     "output_type": "execute_result"
    }
   ],
   "source": [
    "hd[hd['Trend_day_count']==0]\n",
    "#Now this value seems to be an error as it has some trend_tag_count and views and not in trending so drop it"
   ]
  },
  {
   "cell_type": "code",
   "execution_count": 30,
   "metadata": {},
   "outputs": [
    {
     "data": {
      "text/plain": [
       "3159"
      ]
     },
     "execution_count": 30,
     "metadata": {},
     "output_type": "execute_result"
    }
   ],
   "source": [
    "hd.drop(hd[(hd['Trend_day_count']==0) | (hd['Trend_day_count']==4444)].index, inplace = True) \n",
    "len(hd)"
   ]
  },
  {
   "cell_type": "code",
   "execution_count": 31,
   "metadata": {},
   "outputs": [
    {
     "data": {
      "text/plain": [
       "<matplotlib.axes._subplots.AxesSubplot at 0x255cc50c548>"
      ]
     },
     "execution_count": 31,
     "metadata": {},
     "output_type": "execute_result"
    },
    {
     "data": {
      "image/png": "[encoded data removed]",
      "text/plain": [
       "<Figure size 432x288 with 1 Axes>"
      ]
     },
     "metadata": {
      "needs_background": "light"
     },
     "output_type": "display_data"
    }
   ],
   "source": [
    "yq=hd['Trend_day_count'].value_counts()\n",
    "sns.barplot(x=hd['Trend_day_count'],y=yq)"
   ]
  },
  {
   "cell_type": "code",
   "execution_count": 32,
   "metadata": {},
   "outputs": [
    {
     "name": "stdout",
     "output_type": "stream",
     "text": [
      "<class 'pandas.core.frame.DataFrame'>\n",
      "Int64Index: 3159 entries, 0 to 3197\n",
      "Data columns (total 17 columns):\n",
      "Video_id                 3159 non-null object\n",
      "category_id              3159 non-null int64\n",
      "channel_title            3159 non-null object\n",
      "subscriber               3159 non-null float64\n",
      "title                    3159 non-null object\n",
      "tags                     3012 non-null object\n",
      "description              3095 non-null object\n",
      "Trend_day_count          3159 non-null float64\n",
      "Tag_count                3158 non-null object\n",
      "Trend_tag_count          3158 non-null object\n",
      "comment_count            3159 non-null object\n",
      "comment_disabled         3159 non-null object\n",
      "like dislike disabled    3159 non-null object\n",
      "likes                    3159 non-null object\n",
      "dislike                  3159 non-null object\n",
      "tag appered in title     3158 non-null object\n",
      "views                    3159 non-null object\n",
      "dtypes: float64(2), int64(1), object(14)\n",
      "memory usage: 604.2+ KB\n"
     ]
    }
   ],
   "source": [
    "hd.info()"
   ]
  },
  {
   "cell_type": "markdown",
   "metadata": {},
   "source": [
    "#### Tag_count"
   ]
  },
  {
   "cell_type": "code",
   "execution_count": 33,
   "metadata": {},
   "outputs": [
    {
     "data": {
      "text/plain": [
       "1"
      ]
     },
     "execution_count": 33,
     "metadata": {},
     "output_type": "execute_result"
    }
   ],
   "source": [
    "hd['Tag_count'].isna().sum()"
   ]
  },
  {
   "cell_type": "code",
   "execution_count": 34,
   "metadata": {},
   "outputs": [
    {
     "data": {
      "text/plain": [
       "3158"
      ]
     },
     "execution_count": 34,
     "metadata": {},
     "output_type": "execute_result"
    }
   ],
   "source": [
    "hd.dropna(subset=['Tag_count'],inplace=True)\n",
    "len(hd)"
   ]
  },
  {
   "cell_type": "code",
   "execution_count": 35,
   "metadata": {},
   "outputs": [
    {
     "data": {
      "text/plain": [
       "array(['21', '23', '22', '17', '15', '9', '14', '20', '8', '10', '18',\n",
       "       '19', '25', '12', '24', '16', '11', '13', '3222', '3225', '0'],\n",
       "      dtype=object)"
      ]
     },
     "execution_count": 35,
     "metadata": {},
     "output_type": "execute_result"
    }
   ],
   "source": [
    "hd['Tag_count'].unique()\n",
    "#Seems to be an error in tag_count of higher value"
   ]
  },
  {
   "cell_type": "code",
   "execution_count": 36,
   "metadata": {},
   "outputs": [
    {
     "data": {
      "text/plain": [
       "dtype('int64')"
      ]
     },
     "execution_count": 36,
     "metadata": {},
     "output_type": "execute_result"
    }
   ],
   "source": [
    "hd['Tag_count']=hd['Tag_count'].astype('int64')\n",
    "np.dtype(hd['Tag_count'])"
   ]
  },
  {
   "cell_type": "code",
   "execution_count": 37,
   "metadata": {},
   "outputs": [
    {
     "data": {
      "text/html": [
       "<div>\n",
       "<style scoped>\n",
       "    .dataframe tbody tr th:only-of-type {\n",
       "        vertical-align: middle;\n",
       "    }\n",
       "\n",
       "    .dataframe tbody tr th {\n",
       "        vertical-align: top;\n",
       "    }\n",
       "\n",
       "    .dataframe thead th {\n",
       "        text-align: right;\n",
       "    }\n",
       "</style>\n",
       "<table border=\"1\" class=\"dataframe\">\n",
       "  <thead>\n",
       "    <tr style=\"text-align: right;\">\n",
       "      <th></th>\n",
       "      <th>Video_id</th>\n",
       "      <th>category_id</th>\n",
       "      <th>channel_title</th>\n",
       "      <th>subscriber</th>\n",
       "      <th>title</th>\n",
       "      <th>tags</th>\n",
       "      <th>description</th>\n",
       "      <th>Trend_day_count</th>\n",
       "      <th>Tag_count</th>\n",
       "      <th>Trend_tag_count</th>\n",
       "      <th>comment_count</th>\n",
       "      <th>comment_disabled</th>\n",
       "      <th>like dislike disabled</th>\n",
       "      <th>likes</th>\n",
       "      <th>dislike</th>\n",
       "      <th>tag appered in title</th>\n",
       "      <th>views</th>\n",
       "    </tr>\n",
       "  </thead>\n",
       "  <tbody>\n",
       "    <tr>\n",
       "      <td>116</td>\n",
       "      <td>PEH79DT]73</td>\n",
       "      <td>10</td>\n",
       "      <td>Danny Sapko</td>\n",
       "      <td>5467.0</td>\n",
       "      <td>Typical audience reaction to a bass solo...</td>\n",
       "      <td>danny sapko|bass|funk bass|bass solo|free mp3 ...</td>\n",
       "      <td>Please hit subscribe if you enjoyed this! \\n\\n...</td>\n",
       "      <td>10.0</td>\n",
       "      <td>3222</td>\n",
       "      <td>5</td>\n",
       "      <td></td>\n",
       "      <td>FALSE</td>\n",
       "      <td>TRUE</td>\n",
       "      <td>0</td>\n",
       "      <td>0</td>\n",
       "      <td>False</td>\n",
       "      <td>182400</td>\n",
       "    </tr>\n",
       "    <tr>\n",
       "      <td>1955</td>\n",
       "      <td>QPA87PYs92</td>\n",
       "      <td>24</td>\n",
       "      <td>BUILD Series</td>\n",
       "      <td>86774.0</td>\n",
       "      <td>Christian Bale: Division Is Not The Way To Go</td>\n",
       "      <td>AOL Advertising|BUILDseriesNYC|AOL Inc|AOL|AOL...</td>\n",
       "      <td>The actor says our culture will be richer when...</td>\n",
       "      <td>8.0</td>\n",
       "      <td>3225</td>\n",
       "      <td>6</td>\n",
       "      <td>254849</td>\n",
       "      <td>TRUE</td>\n",
       "      <td>TRUE</td>\n",
       "      <td>0</td>\n",
       "      <td>0</td>\n",
       "      <td>False</td>\n",
       "      <td>592116</td>\n",
       "    </tr>\n",
       "  </tbody>\n",
       "</table>\n",
       "</div>"
      ],
      "text/plain": [
       "        Video_id  category_id channel_title  subscriber  \\\n",
       "116   PEH79DT]73           10   Danny Sapko      5467.0   \n",
       "1955  QPA87PYs92           24  BUILD Series     86774.0   \n",
       "\n",
       "                                              title  \\\n",
       "116     Typical audience reaction to a bass solo...   \n",
       "1955  Christian Bale: Division Is Not The Way To Go   \n",
       "\n",
       "                                                   tags  \\\n",
       "116   danny sapko|bass|funk bass|bass solo|free mp3 ...   \n",
       "1955  AOL Advertising|BUILDseriesNYC|AOL Inc|AOL|AOL...   \n",
       "\n",
       "                                            description  Trend_day_count  \\\n",
       "116   Please hit subscribe if you enjoyed this! \\n\\n...             10.0   \n",
       "1955  The actor says our culture will be richer when...              8.0   \n",
       "\n",
       "      Tag_count Trend_tag_count comment_count comment_disabled  \\\n",
       "116        3222               5                          FALSE   \n",
       "1955       3225               6        254849             TRUE   \n",
       "\n",
       "     like dislike disabled likes dislike tag appered in title   views  \n",
       "116                   TRUE     0       0                False  182400  \n",
       "1955                  TRUE     0       0                False  592116  "
      ]
     },
     "execution_count": 37,
     "metadata": {},
     "output_type": "execute_result"
    }
   ],
   "source": [
    "hd[(hd['Tag_count']==3222)|(hd['Tag_count']==3225)]"
   ]
  },
  {
   "cell_type": "code",
   "execution_count": 38,
   "metadata": {},
   "outputs": [],
   "source": [
    "hd.replace([3222,3225],mode(hd['Tag_count'])[0][0],inplace=True)"
   ]
  },
  {
   "cell_type": "code",
   "execution_count": 39,
   "metadata": {
    "scrolled": true
   },
   "outputs": [
    {
     "data": {
      "text/plain": [
       "array([21, 23, 22, 17, 15,  9, 14, 20,  8, 10, 18, 19, 25, 12, 24, 16, 11,\n",
       "       13,  0], dtype=int64)"
      ]
     },
     "execution_count": 39,
     "metadata": {},
     "output_type": "execute_result"
    }
   ],
   "source": [
    "hd['Tag_count'].unique()"
   ]
  },
  {
   "cell_type": "code",
   "execution_count": 40,
   "metadata": {},
   "outputs": [
    {
     "data": {
      "text/plain": [
       "<matplotlib.axes._subplots.AxesSubplot at 0x255cc847f48>"
      ]
     },
     "execution_count": 40,
     "metadata": {},
     "output_type": "execute_result"
    },
    {
     "data": {
      "image/png": "[encoded data removed]",
      "text/plain": [
       "<Figure size 432x288 with 1 Axes>"
      ]
     },
     "metadata": {
      "needs_background": "light"
     },
     "output_type": "display_data"
    }
   ],
   "source": [
    "sns.countplot(y=hd['Tag_count'])"
   ]
  },
  {
   "cell_type": "markdown",
   "metadata": {},
   "source": [
    "#### Trend_tag_count"
   ]
  },
  {
   "cell_type": "code",
   "execution_count": 41,
   "metadata": {},
   "outputs": [
    {
     "data": {
      "text/plain": [
       "1"
      ]
     },
     "execution_count": 41,
     "metadata": {},
     "output_type": "execute_result"
    }
   ],
   "source": [
    "hd['Trend_tag_count'].isna().sum()"
   ]
  },
  {
   "cell_type": "code",
   "execution_count": 42,
   "metadata": {},
   "outputs": [
    {
     "data": {
      "text/plain": [
       "3157"
      ]
     },
     "execution_count": 42,
     "metadata": {},
     "output_type": "execute_result"
    }
   ],
   "source": [
    "hd.dropna(subset=['Trend_tag_count'],inplace=True)\n",
    "len(hd)"
   ]
  },
  {
   "cell_type": "code",
   "execution_count": 43,
   "metadata": {},
   "outputs": [
    {
     "data": {
      "text/plain": [
       "array(['6', '1', '3', '5', '7', '2', '4', '>', '9903'], dtype=object)"
      ]
     },
     "execution_count": 43,
     "metadata": {},
     "output_type": "execute_result"
    }
   ],
   "source": [
    "hd['Trend_tag_count'].unique()"
   ]
  },
  {
   "cell_type": "markdown",
   "metadata": {},
   "source": [
    "<i>Dropping nan values and > sign also 9903 seems to be an outlier</i>"
   ]
  },
  {
   "cell_type": "code",
   "execution_count": 44,
   "metadata": {},
   "outputs": [
    {
     "data": {
      "text/html": [
       "<div>\n",
       "<style scoped>\n",
       "    .dataframe tbody tr th:only-of-type {\n",
       "        vertical-align: middle;\n",
       "    }\n",
       "\n",
       "    .dataframe tbody tr th {\n",
       "        vertical-align: top;\n",
       "    }\n",
       "\n",
       "    .dataframe thead th {\n",
       "        text-align: right;\n",
       "    }\n",
       "</style>\n",
       "<table border=\"1\" class=\"dataframe\">\n",
       "  <thead>\n",
       "    <tr style=\"text-align: right;\">\n",
       "      <th></th>\n",
       "      <th>Video_id</th>\n",
       "      <th>category_id</th>\n",
       "      <th>channel_title</th>\n",
       "      <th>subscriber</th>\n",
       "      <th>title</th>\n",
       "      <th>tags</th>\n",
       "      <th>description</th>\n",
       "      <th>Trend_day_count</th>\n",
       "      <th>Tag_count</th>\n",
       "      <th>Trend_tag_count</th>\n",
       "      <th>comment_count</th>\n",
       "      <th>comment_disabled</th>\n",
       "      <th>like dislike disabled</th>\n",
       "      <th>likes</th>\n",
       "      <th>dislike</th>\n",
       "      <th>tag appered in title</th>\n",
       "      <th>views</th>\n",
       "    </tr>\n",
       "  </thead>\n",
       "  <tbody>\n",
       "    <tr>\n",
       "      <td>85</td>\n",
       "      <td>DHG52DKE2</td>\n",
       "      <td>22</td>\n",
       "      <td>BuzzFeed Celeb</td>\n",
       "      <td>1360210.0</td>\n",
       "      <td>Mark Ruffalo Reads Hilarious Thirst Tweets</td>\n",
       "      <td>BuzzFeed|buzzfeed celeb|Mark Ruffalo|Thor|Ragn...</td>\n",
       "      <td>I'm just...I'm flattered.\\n\\nCredits: https://...</td>\n",
       "      <td>1.0</td>\n",
       "      <td>11</td>\n",
       "      <td>&gt;</td>\n",
       "      <td></td>\n",
       "      <td>FALSE</td>\n",
       "      <td>TRUE</td>\n",
       "      <td>0</td>\n",
       "      <td>0</td>\n",
       "      <td>True</td>\n",
       "      <td>300566</td>\n",
       "    </tr>\n",
       "    <tr>\n",
       "      <td>102</td>\n",
       "      <td>LOC2QLr9</td>\n",
       "      <td>23</td>\n",
       "      <td>Late Night with Seth Meyers</td>\n",
       "      <td>1968678.0</td>\n",
       "      <td>Mark Wahlberg's Kids Use Him for His Celeb Con...</td>\n",
       "      <td>Late Night|Seth Meyers|Mark Wahlberg|Kids|Cele...</td>\n",
       "      <td>Mark Wahlberg tells Seth how his kids want not...</td>\n",
       "      <td>12.0</td>\n",
       "      <td>24</td>\n",
       "      <td>9903</td>\n",
       "      <td></td>\n",
       "      <td>FALSE</td>\n",
       "      <td>FALSE</td>\n",
       "      <td>4528</td>\n",
       "      <td>2031</td>\n",
       "      <td>True</td>\n",
       "      <td>754626</td>\n",
       "    </tr>\n",
       "  </tbody>\n",
       "</table>\n",
       "</div>"
      ],
      "text/plain": [
       "      Video_id  category_id                channel_title  subscriber  \\\n",
       "85   DHG52DKE2           22               BuzzFeed Celeb   1360210.0   \n",
       "102   LOC2QLr9           23  Late Night with Seth Meyers   1968678.0   \n",
       "\n",
       "                                                 title  \\\n",
       "85          Mark Ruffalo Reads Hilarious Thirst Tweets   \n",
       "102  Mark Wahlberg's Kids Use Him for His Celeb Con...   \n",
       "\n",
       "                                                  tags  \\\n",
       "85   BuzzFeed|buzzfeed celeb|Mark Ruffalo|Thor|Ragn...   \n",
       "102  Late Night|Seth Meyers|Mark Wahlberg|Kids|Cele...   \n",
       "\n",
       "                                           description  Trend_day_count  \\\n",
       "85   I'm just...I'm flattered.\\n\\nCredits: https://...              1.0   \n",
       "102  Mark Wahlberg tells Seth how his kids want not...             12.0   \n",
       "\n",
       "     Tag_count Trend_tag_count comment_count comment_disabled  \\\n",
       "85          11               >                          FALSE   \n",
       "102         24            9903                          FALSE   \n",
       "\n",
       "    like dislike disabled likes dislike tag appered in title   views  \n",
       "85                   TRUE     0       0                 True  300566  \n",
       "102                 FALSE  4528    2031                 True  754626  "
      ]
     },
     "execution_count": 44,
     "metadata": {},
     "output_type": "execute_result"
    }
   ],
   "source": [
    "hd[(hd['Trend_tag_count']=='9903')|(hd['Trend_tag_count']=='>')]"
   ]
  },
  {
   "cell_type": "code",
   "execution_count": 45,
   "metadata": {},
   "outputs": [],
   "source": [
    "hd.drop(hd[(hd['Trend_tag_count']=='9903')|(hd['Trend_tag_count']=='>')].index,inplace=True)"
   ]
  },
  {
   "cell_type": "code",
   "execution_count": 46,
   "metadata": {},
   "outputs": [
    {
     "data": {
      "text/plain": [
       "3155"
      ]
     },
     "execution_count": 46,
     "metadata": {},
     "output_type": "execute_result"
    }
   ],
   "source": [
    "len(hd)"
   ]
  },
  {
   "cell_type": "code",
   "execution_count": 47,
   "metadata": {},
   "outputs": [
    {
     "name": "stdout",
     "output_type": "stream",
     "text": [
      "<class 'pandas.core.frame.DataFrame'>\n",
      "Int64Index: 3155 entries, 0 to 3197\n",
      "Data columns (total 17 columns):\n",
      "Video_id                 3155 non-null object\n",
      "category_id              3155 non-null int64\n",
      "channel_title            3155 non-null object\n",
      "subscriber               3155 non-null float64\n",
      "title                    3155 non-null object\n",
      "tags                     3008 non-null object\n",
      "description              3091 non-null object\n",
      "Trend_day_count          3155 non-null float64\n",
      "Tag_count                3155 non-null int64\n",
      "Trend_tag_count          3155 non-null object\n",
      "comment_count            3155 non-null object\n",
      "comment_disabled         3155 non-null object\n",
      "like dislike disabled    3155 non-null object\n",
      "likes                    3155 non-null object\n",
      "dislike                  3155 non-null object\n",
      "tag appered in title     3154 non-null object\n",
      "views                    3155 non-null object\n",
      "dtypes: float64(2), int64(2), object(13)\n",
      "memory usage: 443.7+ KB\n"
     ]
    }
   ],
   "source": [
    "hd.info()"
   ]
  },
  {
   "cell_type": "markdown",
   "metadata": {},
   "source": [
    "#### comment_count"
   ]
  },
  {
   "cell_type": "code",
   "execution_count": 48,
   "metadata": {},
   "outputs": [
    {
     "data": {
      "text/plain": [
       "0"
      ]
     },
     "execution_count": 48,
     "metadata": {},
     "output_type": "execute_result"
    }
   ],
   "source": [
    "hd['comment_count'].isna().sum()"
   ]
  },
  {
   "cell_type": "code",
   "execution_count": 49,
   "metadata": {
    "scrolled": true
   },
   "outputs": [
    {
     "data": {
      "text/html": [
       "<div>\n",
       "<style scoped>\n",
       "    .dataframe tbody tr th:only-of-type {\n",
       "        vertical-align: middle;\n",
       "    }\n",
       "\n",
       "    .dataframe tbody tr th {\n",
       "        vertical-align: top;\n",
       "    }\n",
       "\n",
       "    .dataframe thead th {\n",
       "        text-align: right;\n",
       "    }\n",
       "</style>\n",
       "<table border=\"1\" class=\"dataframe\">\n",
       "  <thead>\n",
       "    <tr style=\"text-align: right;\">\n",
       "      <th></th>\n",
       "      <th>Video_id</th>\n",
       "      <th>category_id</th>\n",
       "      <th>channel_title</th>\n",
       "      <th>subscriber</th>\n",
       "      <th>title</th>\n",
       "      <th>tags</th>\n",
       "      <th>description</th>\n",
       "      <th>Trend_day_count</th>\n",
       "      <th>Tag_count</th>\n",
       "      <th>Trend_tag_count</th>\n",
       "      <th>comment_count</th>\n",
       "      <th>comment_disabled</th>\n",
       "      <th>like dislike disabled</th>\n",
       "      <th>likes</th>\n",
       "      <th>dislike</th>\n",
       "      <th>tag appered in title</th>\n",
       "      <th>views</th>\n",
       "    </tr>\n",
       "  </thead>\n",
       "  <tbody>\n",
       "    <tr>\n",
       "      <td>0</td>\n",
       "      <td>HDR9SQc79</td>\n",
       "      <td>22</td>\n",
       "      <td>CaseyNeistat</td>\n",
       "      <td>9086142.0</td>\n",
       "      <td>WE WANT TO TALK ABOUT OUR MARRIAGE</td>\n",
       "      <td>SHANtell martin</td>\n",
       "      <td>SHANTELL'S CHANNEL - https://www.youtube.com/s...</td>\n",
       "      <td>6.0</td>\n",
       "      <td>21</td>\n",
       "      <td>6</td>\n",
       "      <td></td>\n",
       "      <td>FALSE</td>\n",
       "      <td>FALSE</td>\n",
       "      <td>13342</td>\n",
       "      <td>6089</td>\n",
       "      <td>False</td>\n",
       "      <td>1978978</td>\n",
       "    </tr>\n",
       "    <tr>\n",
       "      <td>1</td>\n",
       "      <td>KNH52UF?48</td>\n",
       "      <td>24</td>\n",
       "      <td>LastWeekTonight</td>\n",
       "      <td>5937292.0</td>\n",
       "      <td>The Trump Presidency: Last Week Tonight with J...</td>\n",
       "      <td>last week tonight trump presidency|last week t...</td>\n",
       "      <td>One year after the presidential election, John...</td>\n",
       "      <td>1.0</td>\n",
       "      <td>23</td>\n",
       "      <td>1</td>\n",
       "      <td>116266</td>\n",
       "      <td>TRUE</td>\n",
       "      <td>FALSE</td>\n",
       "      <td>5761</td>\n",
       "      <td>3044</td>\n",
       "      <td>False</td>\n",
       "      <td>1487870</td>\n",
       "    </tr>\n",
       "    <tr>\n",
       "      <td>2</td>\n",
       "      <td>QTW28IRG36</td>\n",
       "      <td>23</td>\n",
       "      <td>Rudy Mancuso</td>\n",
       "      <td>4191209.0</td>\n",
       "      <td>Racist Superman | Rudy Mancuso, King Bach &amp; Le...</td>\n",
       "      <td>racist superman|rudy|mancuso|king|bach|racist|...</td>\n",
       "      <td>WATCH MY PREVIOUS VIDEO ▶ \\n\\nSUBSCRIBE ► http...</td>\n",
       "      <td>10.0</td>\n",
       "      <td>22</td>\n",
       "      <td>3</td>\n",
       "      <td>257850</td>\n",
       "      <td>TRUE</td>\n",
       "      <td>TRUE</td>\n",
       "      <td>0</td>\n",
       "      <td>0</td>\n",
       "      <td>True</td>\n",
       "      <td>1502102</td>\n",
       "    </tr>\n",
       "    <tr>\n",
       "      <td>3</td>\n",
       "      <td>MGL76WI]26</td>\n",
       "      <td>24</td>\n",
       "      <td>Good Mythical Morning</td>\n",
       "      <td>13186408.0</td>\n",
       "      <td>Nickelback Lyrics: Real or Fake?</td>\n",
       "      <td>rhett and link|gmm|good mythical morning|rhett...</td>\n",
       "      <td>Today we find out if Link is a Nickelback amat...</td>\n",
       "      <td>12.0</td>\n",
       "      <td>17</td>\n",
       "      <td>5</td>\n",
       "      <td>263939</td>\n",
       "      <td>TRUE</td>\n",
       "      <td>TRUE</td>\n",
       "      <td>0</td>\n",
       "      <td>0</td>\n",
       "      <td>True</td>\n",
       "      <td>3519302</td>\n",
       "    </tr>\n",
       "    <tr>\n",
       "      <td>4</td>\n",
       "      <td>TWP93KXT70</td>\n",
       "      <td>24</td>\n",
       "      <td>nigahiga</td>\n",
       "      <td>20563106.0</td>\n",
       "      <td>I Dare You: GOING BALD!?</td>\n",
       "      <td>ryan|higa|higatv|nigahiga|i dare you|idy|rhpc|...</td>\n",
       "      <td>I know it's been a while since we did this sho...</td>\n",
       "      <td>11.0</td>\n",
       "      <td>15</td>\n",
       "      <td>7</td>\n",
       "      <td>268085</td>\n",
       "      <td>TRUE</td>\n",
       "      <td>TRUE</td>\n",
       "      <td>0</td>\n",
       "      <td>0</td>\n",
       "      <td>True</td>\n",
       "      <td>4835374</td>\n",
       "    </tr>\n",
       "  </tbody>\n",
       "</table>\n",
       "</div>"
      ],
      "text/plain": [
       "     Video_id  category_id          channel_title  subscriber  \\\n",
       "0   HDR9SQc79           22           CaseyNeistat   9086142.0   \n",
       "1  KNH52UF?48           24        LastWeekTonight   5937292.0   \n",
       "2  QTW28IRG36           23           Rudy Mancuso   4191209.0   \n",
       "3  MGL76WI]26           24  Good Mythical Morning  13186408.0   \n",
       "4  TWP93KXT70           24               nigahiga  20563106.0   \n",
       "\n",
       "                                               title  \\\n",
       "0                 WE WANT TO TALK ABOUT OUR MARRIAGE   \n",
       "1  The Trump Presidency: Last Week Tonight with J...   \n",
       "2  Racist Superman | Rudy Mancuso, King Bach & Le...   \n",
       "3                   Nickelback Lyrics: Real or Fake?   \n",
       "4                           I Dare You: GOING BALD!?   \n",
       "\n",
       "                                                tags  \\\n",
       "0                                    SHANtell martin   \n",
       "1  last week tonight trump presidency|last week t...   \n",
       "2  racist superman|rudy|mancuso|king|bach|racist|...   \n",
       "3  rhett and link|gmm|good mythical morning|rhett...   \n",
       "4  ryan|higa|higatv|nigahiga|i dare you|idy|rhpc|...   \n",
       "\n",
       "                                         description  Trend_day_count  \\\n",
       "0  SHANTELL'S CHANNEL - https://www.youtube.com/s...              6.0   \n",
       "1  One year after the presidential election, John...              1.0   \n",
       "2  WATCH MY PREVIOUS VIDEO ▶ \\n\\nSUBSCRIBE ► http...             10.0   \n",
       "3  Today we find out if Link is a Nickelback amat...             12.0   \n",
       "4  I know it's been a while since we did this sho...             11.0   \n",
       "\n",
       "   Tag_count Trend_tag_count comment_count comment_disabled  \\\n",
       "0         21               6                          FALSE   \n",
       "1         23               1        116266             TRUE   \n",
       "2         22               3        257850             TRUE   \n",
       "3         17               5        263939             TRUE   \n",
       "4         15               7        268085             TRUE   \n",
       "\n",
       "  like dislike disabled  likes dislike tag appered in title    views  \n",
       "0                 FALSE  13342    6089                False  1978978  \n",
       "1                 FALSE   5761    3044                False  1487870  \n",
       "2                  TRUE      0       0                 True  1502102  \n",
       "3                  TRUE      0       0                 True  3519302  \n",
       "4                  TRUE      0       0                 True  4835374  "
      ]
     },
     "execution_count": 49,
     "metadata": {},
     "output_type": "execute_result"
    }
   ],
   "source": [
    "hd.head()"
   ]
  },
  {
   "cell_type": "code",
   "execution_count": 50,
   "metadata": {},
   "outputs": [
    {
     "data": {
      "text/plain": [
       "array([' ', '116266', '257850', ..., '56438', '250750', '32337'],\n",
       "      dtype=object)"
      ]
     },
     "execution_count": 50,
     "metadata": {},
     "output_type": "execute_result"
    }
   ],
   "source": [
    "hd['comment_count'].unique()"
   ]
  },
  {
   "cell_type": "code",
   "execution_count": 51,
   "metadata": {},
   "outputs": [],
   "source": [
    "hd['comment_count'].replace(' ',0,inplace=True)"
   ]
  },
  {
   "cell_type": "code",
   "execution_count": 52,
   "metadata": {
    "scrolled": true
   },
   "outputs": [
    {
     "name": "stdout",
     "output_type": "stream",
     "text": [
      "int64\n"
     ]
    },
    {
     "data": {
      "text/html": [
       "<div>\n",
       "<style scoped>\n",
       "    .dataframe tbody tr th:only-of-type {\n",
       "        vertical-align: middle;\n",
       "    }\n",
       "\n",
       "    .dataframe tbody tr th {\n",
       "        vertical-align: top;\n",
       "    }\n",
       "\n",
       "    .dataframe thead th {\n",
       "        text-align: right;\n",
       "    }\n",
       "</style>\n",
       "<table border=\"1\" class=\"dataframe\">\n",
       "  <thead>\n",
       "    <tr style=\"text-align: right;\">\n",
       "      <th></th>\n",
       "      <th>Video_id</th>\n",
       "      <th>category_id</th>\n",
       "      <th>channel_title</th>\n",
       "      <th>subscriber</th>\n",
       "      <th>title</th>\n",
       "      <th>tags</th>\n",
       "      <th>description</th>\n",
       "      <th>Trend_day_count</th>\n",
       "      <th>Tag_count</th>\n",
       "      <th>Trend_tag_count</th>\n",
       "      <th>comment_count</th>\n",
       "      <th>comment_disabled</th>\n",
       "      <th>like dislike disabled</th>\n",
       "      <th>likes</th>\n",
       "      <th>dislike</th>\n",
       "      <th>tag appered in title</th>\n",
       "      <th>views</th>\n",
       "    </tr>\n",
       "  </thead>\n",
       "  <tbody>\n",
       "    <tr>\n",
       "      <td>0</td>\n",
       "      <td>HDR9SQc79</td>\n",
       "      <td>22</td>\n",
       "      <td>CaseyNeistat</td>\n",
       "      <td>9086142.0</td>\n",
       "      <td>WE WANT TO TALK ABOUT OUR MARRIAGE</td>\n",
       "      <td>SHANtell martin</td>\n",
       "      <td>SHANTELL'S CHANNEL - https://www.youtube.com/s...</td>\n",
       "      <td>6.0</td>\n",
       "      <td>21</td>\n",
       "      <td>6</td>\n",
       "      <td>0</td>\n",
       "      <td>FALSE</td>\n",
       "      <td>FALSE</td>\n",
       "      <td>13342</td>\n",
       "      <td>6089</td>\n",
       "      <td>False</td>\n",
       "      <td>1978978</td>\n",
       "    </tr>\n",
       "    <tr>\n",
       "      <td>1</td>\n",
       "      <td>KNH52UF?48</td>\n",
       "      <td>24</td>\n",
       "      <td>LastWeekTonight</td>\n",
       "      <td>5937292.0</td>\n",
       "      <td>The Trump Presidency: Last Week Tonight with J...</td>\n",
       "      <td>last week tonight trump presidency|last week t...</td>\n",
       "      <td>One year after the presidential election, John...</td>\n",
       "      <td>1.0</td>\n",
       "      <td>23</td>\n",
       "      <td>1</td>\n",
       "      <td>116266</td>\n",
       "      <td>TRUE</td>\n",
       "      <td>FALSE</td>\n",
       "      <td>5761</td>\n",
       "      <td>3044</td>\n",
       "      <td>False</td>\n",
       "      <td>1487870</td>\n",
       "    </tr>\n",
       "    <tr>\n",
       "      <td>2</td>\n",
       "      <td>QTW28IRG36</td>\n",
       "      <td>23</td>\n",
       "      <td>Rudy Mancuso</td>\n",
       "      <td>4191209.0</td>\n",
       "      <td>Racist Superman | Rudy Mancuso, King Bach &amp; Le...</td>\n",
       "      <td>racist superman|rudy|mancuso|king|bach|racist|...</td>\n",
       "      <td>WATCH MY PREVIOUS VIDEO ▶ \\n\\nSUBSCRIBE ► http...</td>\n",
       "      <td>10.0</td>\n",
       "      <td>22</td>\n",
       "      <td>3</td>\n",
       "      <td>257850</td>\n",
       "      <td>TRUE</td>\n",
       "      <td>TRUE</td>\n",
       "      <td>0</td>\n",
       "      <td>0</td>\n",
       "      <td>True</td>\n",
       "      <td>1502102</td>\n",
       "    </tr>\n",
       "    <tr>\n",
       "      <td>3</td>\n",
       "      <td>MGL76WI]26</td>\n",
       "      <td>24</td>\n",
       "      <td>Good Mythical Morning</td>\n",
       "      <td>13186408.0</td>\n",
       "      <td>Nickelback Lyrics: Real or Fake?</td>\n",
       "      <td>rhett and link|gmm|good mythical morning|rhett...</td>\n",
       "      <td>Today we find out if Link is a Nickelback amat...</td>\n",
       "      <td>12.0</td>\n",
       "      <td>17</td>\n",
       "      <td>5</td>\n",
       "      <td>263939</td>\n",
       "      <td>TRUE</td>\n",
       "      <td>TRUE</td>\n",
       "      <td>0</td>\n",
       "      <td>0</td>\n",
       "      <td>True</td>\n",
       "      <td>3519302</td>\n",
       "    </tr>\n",
       "    <tr>\n",
       "      <td>4</td>\n",
       "      <td>TWP93KXT70</td>\n",
       "      <td>24</td>\n",
       "      <td>nigahiga</td>\n",
       "      <td>20563106.0</td>\n",
       "      <td>I Dare You: GOING BALD!?</td>\n",
       "      <td>ryan|higa|higatv|nigahiga|i dare you|idy|rhpc|...</td>\n",
       "      <td>I know it's been a while since we did this sho...</td>\n",
       "      <td>11.0</td>\n",
       "      <td>15</td>\n",
       "      <td>7</td>\n",
       "      <td>268085</td>\n",
       "      <td>TRUE</td>\n",
       "      <td>TRUE</td>\n",
       "      <td>0</td>\n",
       "      <td>0</td>\n",
       "      <td>True</td>\n",
       "      <td>4835374</td>\n",
       "    </tr>\n",
       "    <tr>\n",
       "      <td>5</td>\n",
       "      <td>JDJ37HWR29</td>\n",
       "      <td>28</td>\n",
       "      <td>iJustine</td>\n",
       "      <td>4652602.0</td>\n",
       "      <td>2 Weeks with iPhone X</td>\n",
       "      <td>ijustine|week with iPhone X|iphone x|apple|iph...</td>\n",
       "      <td>Thanks for watching! Don't forget to subscribe...</td>\n",
       "      <td>10.0</td>\n",
       "      <td>9</td>\n",
       "      <td>1</td>\n",
       "      <td>198248</td>\n",
       "      <td>TRUE</td>\n",
       "      <td>FALSE</td>\n",
       "      <td>8619</td>\n",
       "      <td>3697</td>\n",
       "      <td>True</td>\n",
       "      <td>1580238</td>\n",
       "    </tr>\n",
       "    <tr>\n",
       "      <td>6</td>\n",
       "      <td>INH29DD?32</td>\n",
       "      <td>24</td>\n",
       "      <td>Saturday Night Live</td>\n",
       "      <td>5292034.0</td>\n",
       "      <td>Roy Moore &amp; Jeff Sessions Cold Open - SNL</td>\n",
       "      <td>SNL|Saturday Night Live|SNL Season 43|Episode ...</td>\n",
       "      <td>Embattled Alabama Senate candidate Roy Moore (...</td>\n",
       "      <td>4.0</td>\n",
       "      <td>17</td>\n",
       "      <td>5</td>\n",
       "      <td>0</td>\n",
       "      <td>FALSE</td>\n",
       "      <td>FALSE</td>\n",
       "      <td>9951</td>\n",
       "      <td>937</td>\n",
       "      <td>False</td>\n",
       "      <td>1204461</td>\n",
       "    </tr>\n",
       "    <tr>\n",
       "      <td>7</td>\n",
       "      <td>ENJ69DGJ93</td>\n",
       "      <td>28</td>\n",
       "      <td>CrazyRussianHacker</td>\n",
       "      <td>10474796.0</td>\n",
       "      <td>5 Ice Cream Gadgets put to the Test</td>\n",
       "      <td>5 Ice Cream Gadgets|Ice Cream|Cream Sandwich M...</td>\n",
       "      <td>Ice Cream Pint Combination Lock - http://amzn....</td>\n",
       "      <td>9.0</td>\n",
       "      <td>14</td>\n",
       "      <td>7</td>\n",
       "      <td>103280</td>\n",
       "      <td>TRUE</td>\n",
       "      <td>FALSE</td>\n",
       "      <td>18010</td>\n",
       "      <td>11026</td>\n",
       "      <td>True</td>\n",
       "      <td>2542878</td>\n",
       "    </tr>\n",
       "    <tr>\n",
       "      <td>8</td>\n",
       "      <td>ZXD32BTa68</td>\n",
       "      <td>1</td>\n",
       "      <td>20th Century Fox</td>\n",
       "      <td>2453494.0</td>\n",
       "      <td>The Greatest Showman | Official Trailer 2 [HD]...</td>\n",
       "      <td>Trailer|Hugh Jackman|Michelle Williams|Zac Efr...</td>\n",
       "      <td>Inspired by the imagination of P.T. Barnum, Th...</td>\n",
       "      <td>8.0</td>\n",
       "      <td>20</td>\n",
       "      <td>1</td>\n",
       "      <td>214583</td>\n",
       "      <td>TRUE</td>\n",
       "      <td>FALSE</td>\n",
       "      <td>12126</td>\n",
       "      <td>7855</td>\n",
       "      <td>True</td>\n",
       "      <td>1090597</td>\n",
       "    </tr>\n",
       "    <tr>\n",
       "      <td>9</td>\n",
       "      <td>NCA33YGN27</td>\n",
       "      <td>25</td>\n",
       "      <td>Vox</td>\n",
       "      <td>3808198.0</td>\n",
       "      <td>Why the rise of the robots won’t mean the end ...</td>\n",
       "      <td>vox.com|vox|explain|shift change|future of wor...</td>\n",
       "      <td>For now, at least, we have better things to wo...</td>\n",
       "      <td>11.0</td>\n",
       "      <td>8</td>\n",
       "      <td>2</td>\n",
       "      <td>223434</td>\n",
       "      <td>TRUE</td>\n",
       "      <td>TRUE</td>\n",
       "      <td>0</td>\n",
       "      <td>0</td>\n",
       "      <td>True</td>\n",
       "      <td>1407313</td>\n",
       "    </tr>\n",
       "    <tr>\n",
       "      <td>10</td>\n",
       "      <td>BQQ21ZVm59</td>\n",
       "      <td>17</td>\n",
       "      <td>NFL</td>\n",
       "      <td>3212413.0</td>\n",
       "      <td>Dion Lewis' 103-Yd Kick Return TD vs. Denver! ...</td>\n",
       "      <td>NFL|Football|offense|defense|afc|nfc|American ...</td>\n",
       "      <td>New England Patriots returner Dion Lewis blast...</td>\n",
       "      <td>4.0</td>\n",
       "      <td>22</td>\n",
       "      <td>3</td>\n",
       "      <td>267443</td>\n",
       "      <td>TRUE</td>\n",
       "      <td>FALSE</td>\n",
       "      <td>11933</td>\n",
       "      <td>9200</td>\n",
       "      <td>False</td>\n",
       "      <td>1293021</td>\n",
       "    </tr>\n",
       "    <tr>\n",
       "      <td>11</td>\n",
       "      <td>SEF40YEp58</td>\n",
       "      <td>24</td>\n",
       "      <td>amc</td>\n",
       "      <td>657573.0</td>\n",
       "      <td>(SPOILERS) 'Shiva Saves the Day' Talked About ...</td>\n",
       "      <td>The Walking Dead|shiva|tiger|king ezekiel|epis...</td>\n",
       "      <td>Shiva arrives just in time as King Ezekiel att...</td>\n",
       "      <td>7.0</td>\n",
       "      <td>10</td>\n",
       "      <td>2</td>\n",
       "      <td>210007</td>\n",
       "      <td>TRUE</td>\n",
       "      <td>FALSE</td>\n",
       "      <td>7256</td>\n",
       "      <td>5442</td>\n",
       "      <td>True</td>\n",
       "      <td>631519</td>\n",
       "    </tr>\n",
       "    <tr>\n",
       "      <td>12</td>\n",
       "      <td>OQU60INj45</td>\n",
       "      <td>10</td>\n",
       "      <td>marshmello</td>\n",
       "      <td>11146743.0</td>\n",
       "      <td>Marshmello - Blocks (Official Music Video)</td>\n",
       "      <td>marshmello|blocks|marshmello blocks|blocks mus...</td>\n",
       "      <td>WATCH SILENCE MUSIC VIDEO ▶ https://youtu.be/T...</td>\n",
       "      <td>7.0</td>\n",
       "      <td>22</td>\n",
       "      <td>4</td>\n",
       "      <td>247944</td>\n",
       "      <td>TRUE</td>\n",
       "      <td>FALSE</td>\n",
       "      <td>15073</td>\n",
       "      <td>13511</td>\n",
       "      <td>NaN</td>\n",
       "      <td>60</td>\n",
       "    </tr>\n",
       "    <tr>\n",
       "      <td>13</td>\n",
       "      <td>QTI12DNb53</td>\n",
       "      <td>25</td>\n",
       "      <td>NowThis World</td>\n",
       "      <td>1740822.0</td>\n",
       "      <td>Which Countries Are About To Collapse?</td>\n",
       "      <td>nowthis|nowthis world|world news|nowthis news|...</td>\n",
       "      <td>The world at large is improving, but some coun...</td>\n",
       "      <td>11.0</td>\n",
       "      <td>18</td>\n",
       "      <td>7</td>\n",
       "      <td>106826</td>\n",
       "      <td>TRUE</td>\n",
       "      <td>FALSE</td>\n",
       "      <td>13923</td>\n",
       "      <td>7470</td>\n",
       "      <td>True</td>\n",
       "      <td>844403</td>\n",
       "    </tr>\n",
       "    <tr>\n",
       "      <td>14</td>\n",
       "      <td>SHP12LIj51</td>\n",
       "      <td>15</td>\n",
       "      <td>The king of DIY</td>\n",
       "      <td>725479.0</td>\n",
       "      <td>SHOPPING FOR NEW FISH!!!</td>\n",
       "      <td>shopping for new fish|new fish|aquarium fish|a...</td>\n",
       "      <td>Here is what i bought: https://www.youtube.com...</td>\n",
       "      <td>9.0</td>\n",
       "      <td>10</td>\n",
       "      <td>2</td>\n",
       "      <td>0</td>\n",
       "      <td>FALSE</td>\n",
       "      <td>FALSE</td>\n",
       "      <td>22331</td>\n",
       "      <td>14557</td>\n",
       "      <td>True</td>\n",
       "      <td>352657</td>\n",
       "    </tr>\n",
       "    <tr>\n",
       "      <td>15</td>\n",
       "      <td>TAE9URl23</td>\n",
       "      <td>28</td>\n",
       "      <td>BostonDynamics</td>\n",
       "      <td>824219.0</td>\n",
       "      <td>The New SpotMini</td>\n",
       "      <td>Robots|Boston Dynamics|SpotMini|Legged Locomot...</td>\n",
       "      <td>For more information . . . stay tuned.</td>\n",
       "      <td>5.0</td>\n",
       "      <td>22</td>\n",
       "      <td>4</td>\n",
       "      <td>0</td>\n",
       "      <td>FALSE</td>\n",
       "      <td>TRUE</td>\n",
       "      <td>0</td>\n",
       "      <td>0</td>\n",
       "      <td>True</td>\n",
       "      <td>271312</td>\n",
       "    </tr>\n",
       "    <tr>\n",
       "      <td>16</td>\n",
       "      <td>MWG80DHU39</td>\n",
       "      <td>23</td>\n",
       "      <td>Cracked</td>\n",
       "      <td>2158902.0</td>\n",
       "      <td>One Change That Would Make Pacific Rim a Classic</td>\n",
       "      <td>pacific rim|pacific rim 2|pacific rim sequel|G...</td>\n",
       "      <td>Pacific Rim was so good, we can’t believe they...</td>\n",
       "      <td>4.0</td>\n",
       "      <td>17</td>\n",
       "      <td>3</td>\n",
       "      <td>0</td>\n",
       "      <td>FALSE</td>\n",
       "      <td>TRUE</td>\n",
       "      <td>0</td>\n",
       "      <td>0</td>\n",
       "      <td>True</td>\n",
       "      <td>518595</td>\n",
       "    </tr>\n",
       "    <tr>\n",
       "      <td>17</td>\n",
       "      <td>TVY50JW\\54</td>\n",
       "      <td>27</td>\n",
       "      <td>TED-Ed</td>\n",
       "      <td>6091542.0</td>\n",
       "      <td>How does your body know you're full? - Hilary ...</td>\n",
       "      <td>TED|TED-Ed|TED Education|TED Ed|Hilary Coller|...</td>\n",
       "      <td>Check out our Patreon page: https://www.patreo...</td>\n",
       "      <td>3.0</td>\n",
       "      <td>18</td>\n",
       "      <td>6</td>\n",
       "      <td>266360</td>\n",
       "      <td>TRUE</td>\n",
       "      <td>TRUE</td>\n",
       "      <td>0</td>\n",
       "      <td>0</td>\n",
       "      <td>False</td>\n",
       "      <td>1782631</td>\n",
       "    </tr>\n",
       "    <tr>\n",
       "      <td>18</td>\n",
       "      <td>QPK66WVC92</td>\n",
       "      <td>28</td>\n",
       "      <td>PeterSripol</td>\n",
       "      <td>483293.0</td>\n",
       "      <td>HomeMade Electric Airplane</td>\n",
       "      <td>ultralight|airplane|homemade|DIY|hoverbike|par...</td>\n",
       "      <td>aaaannnd now to fly out of ground effect! The ...</td>\n",
       "      <td>6.0</td>\n",
       "      <td>23</td>\n",
       "      <td>3</td>\n",
       "      <td>60320</td>\n",
       "      <td>TRUE</td>\n",
       "      <td>FALSE</td>\n",
       "      <td>17366</td>\n",
       "      <td>12195</td>\n",
       "      <td>False</td>\n",
       "      <td>422304</td>\n",
       "    </tr>\n",
       "    <tr>\n",
       "      <td>19</td>\n",
       "      <td>ZGJ23BH=92</td>\n",
       "      <td>27</td>\n",
       "      <td>SciShow</td>\n",
       "      <td>4853444.0</td>\n",
       "      <td>Founding An Inbreeding-Free Space Colony</td>\n",
       "      <td>SciShow|science|Hank|Green|education|learn|ste...</td>\n",
       "      <td>Thanks to 23AndMe for supporting SciShow. Thes...</td>\n",
       "      <td>9.0</td>\n",
       "      <td>19</td>\n",
       "      <td>1</td>\n",
       "      <td>161132</td>\n",
       "      <td>TRUE</td>\n",
       "      <td>FALSE</td>\n",
       "      <td>7182</td>\n",
       "      <td>5147</td>\n",
       "      <td>True</td>\n",
       "      <td>1486250</td>\n",
       "    </tr>\n",
       "  </tbody>\n",
       "</table>\n",
       "</div>"
      ],
      "text/plain": [
       "      Video_id  category_id          channel_title  subscriber  \\\n",
       "0    HDR9SQc79           22           CaseyNeistat   9086142.0   \n",
       "1   KNH52UF?48           24        LastWeekTonight   5937292.0   \n",
       "2   QTW28IRG36           23           Rudy Mancuso   4191209.0   \n",
       "3   MGL76WI]26           24  Good Mythical Morning  13186408.0   \n",
       "4   TWP93KXT70           24               nigahiga  20563106.0   \n",
       "5   JDJ37HWR29           28               iJustine   4652602.0   \n",
       "6   INH29DD?32           24    Saturday Night Live   5292034.0   \n",
       "7   ENJ69DGJ93           28     CrazyRussianHacker  10474796.0   \n",
       "8   ZXD32BTa68            1       20th Century Fox   2453494.0   \n",
       "9   NCA33YGN27           25                    Vox   3808198.0   \n",
       "10  BQQ21ZVm59           17                    NFL   3212413.0   \n",
       "11  SEF40YEp58           24                    amc    657573.0   \n",
       "12  OQU60INj45           10             marshmello  11146743.0   \n",
       "13  QTI12DNb53           25          NowThis World   1740822.0   \n",
       "14  SHP12LIj51           15        The king of DIY    725479.0   \n",
       "15   TAE9URl23           28         BostonDynamics    824219.0   \n",
       "16  MWG80DHU39           23                Cracked   2158902.0   \n",
       "17  TVY50JW\\54           27                 TED-Ed   6091542.0   \n",
       "18  QPK66WVC92           28            PeterSripol    483293.0   \n",
       "19  ZGJ23BH=92           27                SciShow   4853444.0   \n",
       "\n",
       "                                                title  \\\n",
       "0                  WE WANT TO TALK ABOUT OUR MARRIAGE   \n",
       "1   The Trump Presidency: Last Week Tonight with J...   \n",
       "2   Racist Superman | Rudy Mancuso, King Bach & Le...   \n",
       "3                    Nickelback Lyrics: Real or Fake?   \n",
       "4                            I Dare You: GOING BALD!?   \n",
       "5                               2 Weeks with iPhone X   \n",
       "6           Roy Moore & Jeff Sessions Cold Open - SNL   \n",
       "7                 5 Ice Cream Gadgets put to the Test   \n",
       "8   The Greatest Showman | Official Trailer 2 [HD]...   \n",
       "9   Why the rise of the robots won’t mean the end ...   \n",
       "10  Dion Lewis' 103-Yd Kick Return TD vs. Denver! ...   \n",
       "11  (SPOILERS) 'Shiva Saves the Day' Talked About ...   \n",
       "12         Marshmello - Blocks (Official Music Video)   \n",
       "13             Which Countries Are About To Collapse?   \n",
       "14                           SHOPPING FOR NEW FISH!!!   \n",
       "15                                   The New SpotMini   \n",
       "16   One Change That Would Make Pacific Rim a Classic   \n",
       "17  How does your body know you're full? - Hilary ...   \n",
       "18                         HomeMade Electric Airplane   \n",
       "19           Founding An Inbreeding-Free Space Colony   \n",
       "\n",
       "                                                 tags  \\\n",
       "0                                     SHANtell martin   \n",
       "1   last week tonight trump presidency|last week t...   \n",
       "2   racist superman|rudy|mancuso|king|bach|racist|...   \n",
       "3   rhett and link|gmm|good mythical morning|rhett...   \n",
       "4   ryan|higa|higatv|nigahiga|i dare you|idy|rhpc|...   \n",
       "5   ijustine|week with iPhone X|iphone x|apple|iph...   \n",
       "6   SNL|Saturday Night Live|SNL Season 43|Episode ...   \n",
       "7   5 Ice Cream Gadgets|Ice Cream|Cream Sandwich M...   \n",
       "8   Trailer|Hugh Jackman|Michelle Williams|Zac Efr...   \n",
       "9   vox.com|vox|explain|shift change|future of wor...   \n",
       "10  NFL|Football|offense|defense|afc|nfc|American ...   \n",
       "11  The Walking Dead|shiva|tiger|king ezekiel|epis...   \n",
       "12  marshmello|blocks|marshmello blocks|blocks mus...   \n",
       "13  nowthis|nowthis world|world news|nowthis news|...   \n",
       "14  shopping for new fish|new fish|aquarium fish|a...   \n",
       "15  Robots|Boston Dynamics|SpotMini|Legged Locomot...   \n",
       "16  pacific rim|pacific rim 2|pacific rim sequel|G...   \n",
       "17  TED|TED-Ed|TED Education|TED Ed|Hilary Coller|...   \n",
       "18  ultralight|airplane|homemade|DIY|hoverbike|par...   \n",
       "19  SciShow|science|Hank|Green|education|learn|ste...   \n",
       "\n",
       "                                          description  Trend_day_count  \\\n",
       "0   SHANTELL'S CHANNEL - https://www.youtube.com/s...              6.0   \n",
       "1   One year after the presidential election, John...              1.0   \n",
       "2   WATCH MY PREVIOUS VIDEO ▶ \\n\\nSUBSCRIBE ► http...             10.0   \n",
       "3   Today we find out if Link is a Nickelback amat...             12.0   \n",
       "4   I know it's been a while since we did this sho...             11.0   \n",
       "5   Thanks for watching! Don't forget to subscribe...             10.0   \n",
       "6   Embattled Alabama Senate candidate Roy Moore (...              4.0   \n",
       "7   Ice Cream Pint Combination Lock - http://amzn....              9.0   \n",
       "8   Inspired by the imagination of P.T. Barnum, Th...              8.0   \n",
       "9   For now, at least, we have better things to wo...             11.0   \n",
       "10  New England Patriots returner Dion Lewis blast...              4.0   \n",
       "11  Shiva arrives just in time as King Ezekiel att...              7.0   \n",
       "12  WATCH SILENCE MUSIC VIDEO ▶ https://youtu.be/T...              7.0   \n",
       "13  The world at large is improving, but some coun...             11.0   \n",
       "14  Here is what i bought: https://www.youtube.com...              9.0   \n",
       "15             For more information . . . stay tuned.              5.0   \n",
       "16  Pacific Rim was so good, we can’t believe they...              4.0   \n",
       "17  Check out our Patreon page: https://www.patreo...              3.0   \n",
       "18  aaaannnd now to fly out of ground effect! The ...              6.0   \n",
       "19  Thanks to 23AndMe for supporting SciShow. Thes...              9.0   \n",
       "\n",
       "    Tag_count Trend_tag_count  comment_count comment_disabled  \\\n",
       "0          21               6              0            FALSE   \n",
       "1          23               1         116266             TRUE   \n",
       "2          22               3         257850             TRUE   \n",
       "3          17               5         263939             TRUE   \n",
       "4          15               7         268085             TRUE   \n",
       "5           9               1         198248             TRUE   \n",
       "6          17               5              0            FALSE   \n",
       "7          14               7         103280             TRUE   \n",
       "8          20               1         214583             TRUE   \n",
       "9           8               2         223434             TRUE   \n",
       "10         22               3         267443             TRUE   \n",
       "11         10               2         210007             TRUE   \n",
       "12         22               4         247944             TRUE   \n",
       "13         18               7         106826             TRUE   \n",
       "14         10               2              0            FALSE   \n",
       "15         22               4              0            FALSE   \n",
       "16         17               3              0            FALSE   \n",
       "17         18               6         266360             TRUE   \n",
       "18         23               3          60320             TRUE   \n",
       "19         19               1         161132             TRUE   \n",
       "\n",
       "   like dislike disabled  likes dislike tag appered in title    views  \n",
       "0                  FALSE  13342    6089                False  1978978  \n",
       "1                  FALSE   5761    3044                False  1487870  \n",
       "2                   TRUE      0       0                 True  1502102  \n",
       "3                   TRUE      0       0                 True  3519302  \n",
       "4                   TRUE      0       0                 True  4835374  \n",
       "5                  FALSE   8619    3697                 True  1580238  \n",
       "6                  FALSE   9951     937                False  1204461  \n",
       "7                  FALSE  18010   11026                 True  2542878  \n",
       "8                  FALSE  12126    7855                 True  1090597  \n",
       "9                   TRUE      0       0                 True  1407313  \n",
       "10                 FALSE  11933    9200                False  1293021  \n",
       "11                 FALSE   7256    5442                 True   631519  \n",
       "12                 FALSE  15073   13511                  NaN       60  \n",
       "13                 FALSE  13923    7470                 True   844403  \n",
       "14                 FALSE  22331   14557                 True   352657  \n",
       "15                  TRUE      0       0                 True   271312  \n",
       "16                  TRUE      0       0                 True   518595  \n",
       "17                  TRUE      0       0                False  1782631  \n",
       "18                 FALSE  17366   12195                False   422304  \n",
       "19                 FALSE   7182    5147                 True  1486250  "
      ]
     },
     "execution_count": 52,
     "metadata": {},
     "output_type": "execute_result"
    }
   ],
   "source": [
    "hd['comment_count']=hd['comment_count'].astype('int64')\n",
    "print(np.dtype(hd['comment_count']))\n",
    "hd.head(20)"
   ]
  },
  {
   "cell_type": "code",
   "execution_count": 53,
   "metadata": {},
   "outputs": [
    {
     "data": {
      "text/plain": [
       "1002"
      ]
     },
     "execution_count": 53,
     "metadata": {},
     "output_type": "execute_result"
    }
   ],
   "source": [
    "len(hd[hd['comment_count']==0])"
   ]
  },
  {
   "cell_type": "markdown",
   "metadata": {},
   "source": [
    "#### comment_disabled"
   ]
  },
  {
   "cell_type": "code",
   "execution_count": 54,
   "metadata": {},
   "outputs": [
    {
     "data": {
      "text/plain": [
       "array(['FALSE', 'TRUE'], dtype=object)"
      ]
     },
     "execution_count": 54,
     "metadata": {},
     "output_type": "execute_result"
    }
   ],
   "source": [
    "hd['comment_disabled'].unique()"
   ]
  },
  {
   "cell_type": "code",
   "execution_count": 55,
   "metadata": {
    "scrolled": true
   },
   "outputs": [
    {
     "data": {
      "text/html": [
       "<div>\n",
       "<style scoped>\n",
       "    .dataframe tbody tr th:only-of-type {\n",
       "        vertical-align: middle;\n",
       "    }\n",
       "\n",
       "    .dataframe tbody tr th {\n",
       "        vertical-align: top;\n",
       "    }\n",
       "\n",
       "    .dataframe thead th {\n",
       "        text-align: right;\n",
       "    }\n",
       "</style>\n",
       "<table border=\"1\" class=\"dataframe\">\n",
       "  <thead>\n",
       "    <tr style=\"text-align: right;\">\n",
       "      <th></th>\n",
       "      <th>Video_id</th>\n",
       "      <th>category_id</th>\n",
       "      <th>channel_title</th>\n",
       "      <th>subscriber</th>\n",
       "      <th>title</th>\n",
       "      <th>tags</th>\n",
       "      <th>description</th>\n",
       "      <th>Trend_day_count</th>\n",
       "      <th>Tag_count</th>\n",
       "      <th>Trend_tag_count</th>\n",
       "      <th>comment_count</th>\n",
       "      <th>comment_disabled</th>\n",
       "      <th>like dislike disabled</th>\n",
       "      <th>likes</th>\n",
       "      <th>dislike</th>\n",
       "      <th>tag appered in title</th>\n",
       "      <th>views</th>\n",
       "    </tr>\n",
       "  </thead>\n",
       "  <tbody>\n",
       "    <tr>\n",
       "      <td>0</td>\n",
       "      <td>HDR9SQc79</td>\n",
       "      <td>22</td>\n",
       "      <td>CaseyNeistat</td>\n",
       "      <td>9086142.0</td>\n",
       "      <td>WE WANT TO TALK ABOUT OUR MARRIAGE</td>\n",
       "      <td>SHANtell martin</td>\n",
       "      <td>SHANTELL'S CHANNEL - https://www.youtube.com/s...</td>\n",
       "      <td>6.0</td>\n",
       "      <td>21</td>\n",
       "      <td>6</td>\n",
       "      <td>0</td>\n",
       "      <td>True</td>\n",
       "      <td>FALSE</td>\n",
       "      <td>13342</td>\n",
       "      <td>6089</td>\n",
       "      <td>False</td>\n",
       "      <td>1978978</td>\n",
       "    </tr>\n",
       "    <tr>\n",
       "      <td>1</td>\n",
       "      <td>KNH52UF?48</td>\n",
       "      <td>24</td>\n",
       "      <td>LastWeekTonight</td>\n",
       "      <td>5937292.0</td>\n",
       "      <td>The Trump Presidency: Last Week Tonight with J...</td>\n",
       "      <td>last week tonight trump presidency|last week t...</td>\n",
       "      <td>One year after the presidential election, John...</td>\n",
       "      <td>1.0</td>\n",
       "      <td>23</td>\n",
       "      <td>1</td>\n",
       "      <td>116266</td>\n",
       "      <td>False</td>\n",
       "      <td>FALSE</td>\n",
       "      <td>5761</td>\n",
       "      <td>3044</td>\n",
       "      <td>False</td>\n",
       "      <td>1487870</td>\n",
       "    </tr>\n",
       "    <tr>\n",
       "      <td>2</td>\n",
       "      <td>QTW28IRG36</td>\n",
       "      <td>23</td>\n",
       "      <td>Rudy Mancuso</td>\n",
       "      <td>4191209.0</td>\n",
       "      <td>Racist Superman | Rudy Mancuso, King Bach &amp; Le...</td>\n",
       "      <td>racist superman|rudy|mancuso|king|bach|racist|...</td>\n",
       "      <td>WATCH MY PREVIOUS VIDEO ▶ \\n\\nSUBSCRIBE ► http...</td>\n",
       "      <td>10.0</td>\n",
       "      <td>22</td>\n",
       "      <td>3</td>\n",
       "      <td>257850</td>\n",
       "      <td>False</td>\n",
       "      <td>TRUE</td>\n",
       "      <td>0</td>\n",
       "      <td>0</td>\n",
       "      <td>True</td>\n",
       "      <td>1502102</td>\n",
       "    </tr>\n",
       "    <tr>\n",
       "      <td>3</td>\n",
       "      <td>MGL76WI]26</td>\n",
       "      <td>24</td>\n",
       "      <td>Good Mythical Morning</td>\n",
       "      <td>13186408.0</td>\n",
       "      <td>Nickelback Lyrics: Real or Fake?</td>\n",
       "      <td>rhett and link|gmm|good mythical morning|rhett...</td>\n",
       "      <td>Today we find out if Link is a Nickelback amat...</td>\n",
       "      <td>12.0</td>\n",
       "      <td>17</td>\n",
       "      <td>5</td>\n",
       "      <td>263939</td>\n",
       "      <td>False</td>\n",
       "      <td>TRUE</td>\n",
       "      <td>0</td>\n",
       "      <td>0</td>\n",
       "      <td>True</td>\n",
       "      <td>3519302</td>\n",
       "    </tr>\n",
       "    <tr>\n",
       "      <td>4</td>\n",
       "      <td>TWP93KXT70</td>\n",
       "      <td>24</td>\n",
       "      <td>nigahiga</td>\n",
       "      <td>20563106.0</td>\n",
       "      <td>I Dare You: GOING BALD!?</td>\n",
       "      <td>ryan|higa|higatv|nigahiga|i dare you|idy|rhpc|...</td>\n",
       "      <td>I know it's been a while since we did this sho...</td>\n",
       "      <td>11.0</td>\n",
       "      <td>15</td>\n",
       "      <td>7</td>\n",
       "      <td>268085</td>\n",
       "      <td>False</td>\n",
       "      <td>TRUE</td>\n",
       "      <td>0</td>\n",
       "      <td>0</td>\n",
       "      <td>True</td>\n",
       "      <td>4835374</td>\n",
       "    </tr>\n",
       "  </tbody>\n",
       "</table>\n",
       "</div>"
      ],
      "text/plain": [
       "     Video_id  category_id          channel_title  subscriber  \\\n",
       "0   HDR9SQc79           22           CaseyNeistat   9086142.0   \n",
       "1  KNH52UF?48           24        LastWeekTonight   5937292.0   \n",
       "2  QTW28IRG36           23           Rudy Mancuso   4191209.0   \n",
       "3  MGL76WI]26           24  Good Mythical Morning  13186408.0   \n",
       "4  TWP93KXT70           24               nigahiga  20563106.0   \n",
       "\n",
       "                                               title  \\\n",
       "0                 WE WANT TO TALK ABOUT OUR MARRIAGE   \n",
       "1  The Trump Presidency: Last Week Tonight with J...   \n",
       "2  Racist Superman | Rudy Mancuso, King Bach & Le...   \n",
       "3                   Nickelback Lyrics: Real or Fake?   \n",
       "4                           I Dare You: GOING BALD!?   \n",
       "\n",
       "                                                tags  \\\n",
       "0                                    SHANtell martin   \n",
       "1  last week tonight trump presidency|last week t...   \n",
       "2  racist superman|rudy|mancuso|king|bach|racist|...   \n",
       "3  rhett and link|gmm|good mythical morning|rhett...   \n",
       "4  ryan|higa|higatv|nigahiga|i dare you|idy|rhpc|...   \n",
       "\n",
       "                                         description  Trend_day_count  \\\n",
       "0  SHANTELL'S CHANNEL - https://www.youtube.com/s...              6.0   \n",
       "1  One year after the presidential election, John...              1.0   \n",
       "2  WATCH MY PREVIOUS VIDEO ▶ \\n\\nSUBSCRIBE ► http...             10.0   \n",
       "3  Today we find out if Link is a Nickelback amat...             12.0   \n",
       "4  I know it's been a while since we did this sho...             11.0   \n",
       "\n",
       "   Tag_count Trend_tag_count  comment_count  comment_disabled  \\\n",
       "0         21               6              0              True   \n",
       "1         23               1         116266             False   \n",
       "2         22               3         257850             False   \n",
       "3         17               5         263939             False   \n",
       "4         15               7         268085             False   \n",
       "\n",
       "  like dislike disabled  likes dislike tag appered in title    views  \n",
       "0                 FALSE  13342    6089                False  1978978  \n",
       "1                 FALSE   5761    3044                False  1487870  \n",
       "2                  TRUE      0       0                 True  1502102  \n",
       "3                  TRUE      0       0                 True  3519302  \n",
       "4                  TRUE      0       0                 True  4835374  "
      ]
     },
     "execution_count": 55,
     "metadata": {},
     "output_type": "execute_result"
    }
   ],
   "source": [
    "#Converting False to True and vice versa in comment_disabled as it has comment_count value when disabled=True\n",
    "hd['comment_disabled'].replace('TRUE',False,inplace=True)\n",
    "hd['comment_disabled'].replace('FALSE',True,inplace=True)\n",
    "\n",
    "hd.head()"
   ]
  },
  {
   "cell_type": "code",
   "execution_count": 56,
   "metadata": {},
   "outputs": [
    {
     "data": {
      "text/plain": [
       "dtype('bool')"
      ]
     },
     "execution_count": 56,
     "metadata": {},
     "output_type": "execute_result"
    }
   ],
   "source": [
    "np.dtype(hd['comment_disabled'])"
   ]
  },
  {
   "cell_type": "code",
   "execution_count": 57,
   "metadata": {},
   "outputs": [
    {
     "data": {
      "image/png": "[encoded data removed]",
      "text/plain": [
       "<Figure size 432x288 with 1 Axes>"
      ]
     },
     "metadata": {
      "needs_background": "light"
     },
     "output_type": "display_data"
    }
   ],
   "source": [
    "sns.countplot(data=hd,y='comment_disabled')\n",
    "sns.despine(bottom=True)"
   ]
  },
  {
   "cell_type": "code",
   "execution_count": 58,
   "metadata": {},
   "outputs": [
    {
     "name": "stdout",
     "output_type": "stream",
     "text": [
      "<class 'pandas.core.frame.DataFrame'>\n",
      "Int64Index: 3155 entries, 0 to 3197\n",
      "Data columns (total 17 columns):\n",
      "Video_id                 3155 non-null object\n",
      "category_id              3155 non-null int64\n",
      "channel_title            3155 non-null object\n",
      "subscriber               3155 non-null float64\n",
      "title                    3155 non-null object\n",
      "tags                     3008 non-null object\n",
      "description              3091 non-null object\n",
      "Trend_day_count          3155 non-null float64\n",
      "Tag_count                3155 non-null int64\n",
      "Trend_tag_count          3155 non-null object\n",
      "comment_count            3155 non-null int64\n",
      "comment_disabled         3155 non-null bool\n",
      "like dislike disabled    3155 non-null object\n",
      "likes                    3155 non-null object\n",
      "dislike                  3155 non-null object\n",
      "tag appered in title     3154 non-null object\n",
      "views                    3155 non-null object\n",
      "dtypes: bool(1), float64(2), int64(3), object(11)\n",
      "memory usage: 582.1+ KB\n"
     ]
    }
   ],
   "source": [
    "hd.info()"
   ]
  },
  {
   "cell_type": "markdown",
   "metadata": {},
   "source": [
    "#### like dislike disabled"
   ]
  },
  {
   "cell_type": "code",
   "execution_count": 59,
   "metadata": {},
   "outputs": [
    {
     "data": {
      "text/plain": [
       "array(['FALSE', 'TRUE'], dtype=object)"
      ]
     },
     "execution_count": 59,
     "metadata": {},
     "output_type": "execute_result"
    }
   ],
   "source": [
    "hd['like dislike disabled'].unique()"
   ]
  },
  {
   "cell_type": "code",
   "execution_count": 60,
   "metadata": {},
   "outputs": [
    {
     "data": {
      "text/plain": [
       "dtype('bool')"
      ]
     },
     "execution_count": 60,
     "metadata": {},
     "output_type": "execute_result"
    }
   ],
   "source": [
    "hd['like dislike disabled'].replace('TRUE',True,inplace=True)\n",
    "hd['like dislike disabled'].replace('FALSE',False,inplace=True)\n",
    "np.dtype(hd['like dislike disabled'])"
   ]
  },
  {
   "cell_type": "code",
   "execution_count": 61,
   "metadata": {},
   "outputs": [
    {
     "data": {
      "image/png": "[encoded data removed]",
      "text/plain": [
       "<Figure size 432x288 with 1 Axes>"
      ]
     },
     "metadata": {
      "needs_background": "light"
     },
     "output_type": "display_data"
    }
   ],
   "source": [
    "sns.countplot(data=hd,y='like dislike disabled')\n",
    "sns.despine(bottom=True)"
   ]
  },
  {
   "cell_type": "markdown",
   "metadata": {},
   "source": [
    "#### likes and dislike"
   ]
  },
  {
   "cell_type": "code",
   "execution_count": 62,
   "metadata": {},
   "outputs": [
    {
     "data": {
      "text/plain": [
       "0"
      ]
     },
     "execution_count": 62,
     "metadata": {},
     "output_type": "execute_result"
    }
   ],
   "source": [
    "hd['likes'].isna().sum()"
   ]
  },
  {
   "cell_type": "code",
   "execution_count": 63,
   "metadata": {},
   "outputs": [
    {
     "data": {
      "text/plain": [
       "0"
      ]
     },
     "execution_count": 63,
     "metadata": {},
     "output_type": "execute_result"
    }
   ],
   "source": [
    "hd['dislike'].isna().sum()"
   ]
  },
  {
   "cell_type": "code",
   "execution_count": 64,
   "metadata": {},
   "outputs": [
    {
     "data": {
      "text/plain": [
       "826"
      ]
     },
     "execution_count": 64,
     "metadata": {},
     "output_type": "execute_result"
    }
   ],
   "source": [
    "len(hd[hd['likes']=='0'])"
   ]
  },
  {
   "cell_type": "code",
   "execution_count": 65,
   "metadata": {},
   "outputs": [
    {
     "data": {
      "text/plain": [
       "827"
      ]
     },
     "execution_count": 65,
     "metadata": {},
     "output_type": "execute_result"
    }
   ],
   "source": [
    "len(hd[hd['dislike']=='0'])"
   ]
  },
  {
   "cell_type": "code",
   "execution_count": 66,
   "metadata": {},
   "outputs": [
    {
     "name": "stdout",
     "output_type": "stream",
     "text": [
      "int64\n"
     ]
    }
   ],
   "source": [
    "hd['likes']=hd['likes'].astype('int64')\n",
    "print(np.dtype(hd['likes']))"
   ]
  },
  {
   "cell_type": "code",
   "execution_count": 67,
   "metadata": {},
   "outputs": [
    {
     "name": "stdout",
     "output_type": "stream",
     "text": [
      "int64\n"
     ]
    }
   ],
   "source": [
    "hd['dislike']=hd['dislike'].astype('int64')\n",
    "print(np.dtype(hd['dislike']))"
   ]
  },
  {
   "cell_type": "markdown",
   "metadata": {},
   "source": [
    "#### like dislike disabled"
   ]
  },
  {
   "cell_type": "code",
   "execution_count": 68,
   "metadata": {},
   "outputs": [
    {
     "data": {
      "text/plain": [
       "826"
      ]
     },
     "execution_count": 68,
     "metadata": {},
     "output_type": "execute_result"
    }
   ],
   "source": [
    "len(hd[hd['like dislike disabled']==True])"
   ]
  },
  {
   "cell_type": "markdown",
   "metadata": {},
   "source": [
    "#### tag appeared in title"
   ]
  },
  {
   "cell_type": "code",
   "execution_count": 69,
   "metadata": {},
   "outputs": [
    {
     "data": {
      "text/plain": [
       "array([False, True, nan], dtype=object)"
      ]
     },
     "execution_count": 69,
     "metadata": {},
     "output_type": "execute_result"
    }
   ],
   "source": [
    "hd['tag appered in title'].unique()"
   ]
  },
  {
   "cell_type": "code",
   "execution_count": 70,
   "metadata": {},
   "outputs": [
    {
     "data": {
      "text/plain": [
       "1"
      ]
     },
     "execution_count": 70,
     "metadata": {},
     "output_type": "execute_result"
    }
   ],
   "source": [
    "hd['tag appered in title'].isna().sum()"
   ]
  },
  {
   "cell_type": "code",
   "execution_count": 71,
   "metadata": {},
   "outputs": [
    {
     "data": {
      "text/plain": [
       "3154"
      ]
     },
     "execution_count": 71,
     "metadata": {},
     "output_type": "execute_result"
    }
   ],
   "source": [
    "hd.dropna(subset=['tag appered in title'],inplace=True)\n",
    "len(hd)"
   ]
  },
  {
   "cell_type": "code",
   "execution_count": 72,
   "metadata": {},
   "outputs": [
    {
     "data": {
      "text/plain": [
       "dtype('bool')"
      ]
     },
     "execution_count": 72,
     "metadata": {},
     "output_type": "execute_result"
    }
   ],
   "source": [
    "hd['tag appered in title'].replace('TRUE',True,inplace=True)\n",
    "hd['tag appered in title'].replace('FALSE',False,inplace=True)\n",
    "np.dtype(hd['tag appered in title'])"
   ]
  },
  {
   "cell_type": "markdown",
   "metadata": {},
   "source": [
    "#### views"
   ]
  },
  {
   "cell_type": "code",
   "execution_count": 73,
   "metadata": {},
   "outputs": [
    {
     "data": {
      "text/plain": [
       "0"
      ]
     },
     "execution_count": 73,
     "metadata": {},
     "output_type": "execute_result"
    }
   ],
   "source": [
    "hd['views'].isna().sum()"
   ]
  },
  {
   "cell_type": "code",
   "execution_count": 74,
   "metadata": {},
   "outputs": [
    {
     "data": {
      "text/plain": [
       "3154"
      ]
     },
     "execution_count": 74,
     "metadata": {},
     "output_type": "execute_result"
    }
   ],
   "source": [
    "len(hd['views'])"
   ]
  },
  {
   "cell_type": "code",
   "execution_count": 75,
   "metadata": {},
   "outputs": [
    {
     "name": "stdout",
     "output_type": "stream",
     "text": [
      "<class 'pandas.core.frame.DataFrame'>\n",
      "Int64Index: 3154 entries, 0 to 3197\n",
      "Data columns (total 17 columns):\n",
      "Video_id                 3154 non-null object\n",
      "category_id              3154 non-null int64\n",
      "channel_title            3154 non-null object\n",
      "subscriber               3154 non-null float64\n",
      "title                    3154 non-null object\n",
      "tags                     3007 non-null object\n",
      "description              3090 non-null object\n",
      "Trend_day_count          3154 non-null float64\n",
      "Tag_count                3154 non-null int64\n",
      "Trend_tag_count          3154 non-null object\n",
      "comment_count            3154 non-null int64\n",
      "comment_disabled         3154 non-null bool\n",
      "like dislike disabled    3154 non-null bool\n",
      "likes                    3154 non-null int64\n",
      "dislike                  3154 non-null int64\n",
      "tag appered in title     3154 non-null bool\n",
      "views                    3154 non-null object\n",
      "dtypes: bool(3), float64(2), int64(5), object(7)\n",
      "memory usage: 378.8+ KB\n"
     ]
    }
   ],
   "source": [
    "hd.info()"
   ]
  },
  {
   "cell_type": "code",
   "execution_count": 76,
   "metadata": {},
   "outputs": [
    {
     "data": {
      "text/html": [
       "<div>\n",
       "<style scoped>\n",
       "    .dataframe tbody tr th:only-of-type {\n",
       "        vertical-align: middle;\n",
       "    }\n",
       "\n",
       "    .dataframe tbody tr th {\n",
       "        vertical-align: top;\n",
       "    }\n",
       "\n",
       "    .dataframe thead th {\n",
       "        text-align: right;\n",
       "    }\n",
       "</style>\n",
       "<table border=\"1\" class=\"dataframe\">\n",
       "  <thead>\n",
       "    <tr style=\"text-align: right;\">\n",
       "      <th></th>\n",
       "      <th>category_id</th>\n",
       "      <th>subscriber</th>\n",
       "      <th>Trend_day_count</th>\n",
       "      <th>Tag_count</th>\n",
       "      <th>comment_count</th>\n",
       "      <th>likes</th>\n",
       "      <th>dislike</th>\n",
       "    </tr>\n",
       "  </thead>\n",
       "  <tbody>\n",
       "    <tr>\n",
       "      <td>count</td>\n",
       "      <td>3154.000000</td>\n",
       "      <td>3.154000e+03</td>\n",
       "      <td>3154.000000</td>\n",
       "      <td>3154.000000</td>\n",
       "      <td>3154.000000</td>\n",
       "      <td>3.154000e+03</td>\n",
       "      <td>3154.000000</td>\n",
       "    </tr>\n",
       "    <tr>\n",
       "      <td>mean</td>\n",
       "      <td>20.362080</td>\n",
       "      <td>3.825669e+06</td>\n",
       "      <td>6.577679</td>\n",
       "      <td>16.606848</td>\n",
       "      <td>112531.076411</td>\n",
       "      <td>9.795018e+03</td>\n",
       "      <td>5797.046607</td>\n",
       "    </tr>\n",
       "    <tr>\n",
       "      <td>std</td>\n",
       "      <td>7.343472</td>\n",
       "      <td>2.875081e+07</td>\n",
       "      <td>3.442494</td>\n",
       "      <td>5.219583</td>\n",
       "      <td>101863.899169</td>\n",
       "      <td>2.254155e+04</td>\n",
       "      <td>4859.727987</td>\n",
       "    </tr>\n",
       "    <tr>\n",
       "      <td>min</td>\n",
       "      <td>1.000000</td>\n",
       "      <td>0.000000e+00</td>\n",
       "      <td>1.000000</td>\n",
       "      <td>0.000000</td>\n",
       "      <td>0.000000</td>\n",
       "      <td>0.000000e+00</td>\n",
       "      <td>0.000000</td>\n",
       "    </tr>\n",
       "    <tr>\n",
       "      <td>25%</td>\n",
       "      <td>17.000000</td>\n",
       "      <td>2.428800e+05</td>\n",
       "      <td>4.000000</td>\n",
       "      <td>12.000000</td>\n",
       "      <td>0.000000</td>\n",
       "      <td>0.000000e+00</td>\n",
       "      <td>0.000000</td>\n",
       "    </tr>\n",
       "    <tr>\n",
       "      <td>50%</td>\n",
       "      <td>24.000000</td>\n",
       "      <td>1.215014e+06</td>\n",
       "      <td>7.000000</td>\n",
       "      <td>17.000000</td>\n",
       "      <td>99926.000000</td>\n",
       "      <td>1.023550e+04</td>\n",
       "      <td>5386.000000</td>\n",
       "    </tr>\n",
       "    <tr>\n",
       "      <td>75%</td>\n",
       "      <td>25.000000</td>\n",
       "      <td>3.814833e+06</td>\n",
       "      <td>10.000000</td>\n",
       "      <td>21.000000</td>\n",
       "      <td>203133.500000</td>\n",
       "      <td>1.506075e+04</td>\n",
       "      <td>10053.500000</td>\n",
       "    </tr>\n",
       "    <tr>\n",
       "      <td>max</td>\n",
       "      <td>43.000000</td>\n",
       "      <td>1.576229e+09</td>\n",
       "      <td>12.000000</td>\n",
       "      <td>25.000000</td>\n",
       "      <td>299877.000000</td>\n",
       "      <td>1.213628e+06</td>\n",
       "      <td>14858.000000</td>\n",
       "    </tr>\n",
       "  </tbody>\n",
       "</table>\n",
       "</div>"
      ],
      "text/plain": [
       "       category_id    subscriber  Trend_day_count    Tag_count  comment_count  \\\n",
       "count  3154.000000  3.154000e+03      3154.000000  3154.000000    3154.000000   \n",
       "mean     20.362080  3.825669e+06         6.577679    16.606848  112531.076411   \n",
       "std       7.343472  2.875081e+07         3.442494     5.219583  101863.899169   \n",
       "min       1.000000  0.000000e+00         1.000000     0.000000       0.000000   \n",
       "25%      17.000000  2.428800e+05         4.000000    12.000000       0.000000   \n",
       "50%      24.000000  1.215014e+06         7.000000    17.000000   99926.000000   \n",
       "75%      25.000000  3.814833e+06        10.000000    21.000000  203133.500000   \n",
       "max      43.000000  1.576229e+09        12.000000    25.000000  299877.000000   \n",
       "\n",
       "              likes       dislike  \n",
       "count  3.154000e+03   3154.000000  \n",
       "mean   9.795018e+03   5797.046607  \n",
       "std    2.254155e+04   4859.727987  \n",
       "min    0.000000e+00      0.000000  \n",
       "25%    0.000000e+00      0.000000  \n",
       "50%    1.023550e+04   5386.000000  \n",
       "75%    1.506075e+04  10053.500000  \n",
       "max    1.213628e+06  14858.000000  "
      ]
     },
     "execution_count": 76,
     "metadata": {},
     "output_type": "execute_result"
    }
   ],
   "source": [
    "hd.describe()"
   ]
  },
  {
   "cell_type": "code",
   "execution_count": 77,
   "metadata": {},
   "outputs": [],
   "source": [
    "#Converting fully updated file into excel and saving on memory\n",
    "hd.to_csv('Youtube_cleaned.csv')"
   ]
  },
  {
   "cell_type": "markdown",
   "metadata": {},
   "source": [
    "## Data Visualization"
   ]
  },
  {
   "cell_type": "code",
   "execution_count": 78,
   "metadata": {},
   "outputs": [],
   "source": [
    "yt=pd.read_csv('Youtube_cleaned.csv')"
   ]
  },
  {
   "cell_type": "code",
   "execution_count": 79,
   "metadata": {},
   "outputs": [
    {
     "data": {
      "text/html": [
       "<div>\n",
       "<style scoped>\n",
       "    .dataframe tbody tr th:only-of-type {\n",
       "        vertical-align: middle;\n",
       "    }\n",
       "\n",
       "    .dataframe tbody tr th {\n",
       "        vertical-align: top;\n",
       "    }\n",
       "\n",
       "    .dataframe thead th {\n",
       "        text-align: right;\n",
       "    }\n",
       "</style>\n",
       "<table border=\"1\" class=\"dataframe\">\n",
       "  <thead>\n",
       "    <tr style=\"text-align: right;\">\n",
       "      <th></th>\n",
       "      <th>Unnamed: 0</th>\n",
       "      <th>Video_id</th>\n",
       "      <th>category_id</th>\n",
       "      <th>channel_title</th>\n",
       "      <th>subscriber</th>\n",
       "      <th>title</th>\n",
       "      <th>tags</th>\n",
       "      <th>description</th>\n",
       "      <th>Trend_day_count</th>\n",
       "      <th>Tag_count</th>\n",
       "      <th>Trend_tag_count</th>\n",
       "      <th>comment_count</th>\n",
       "      <th>comment_disabled</th>\n",
       "      <th>like dislike disabled</th>\n",
       "      <th>likes</th>\n",
       "      <th>dislike</th>\n",
       "      <th>tag appered in title</th>\n",
       "      <th>views</th>\n",
       "    </tr>\n",
       "  </thead>\n",
       "  <tbody>\n",
       "    <tr>\n",
       "      <td>0</td>\n",
       "      <td>0</td>\n",
       "      <td>HDR9SQc79</td>\n",
       "      <td>22</td>\n",
       "      <td>CaseyNeistat</td>\n",
       "      <td>9086142.0</td>\n",
       "      <td>WE WANT TO TALK ABOUT OUR MARRIAGE</td>\n",
       "      <td>SHANtell martin</td>\n",
       "      <td>SHANTELL'S CHANNEL - https://www.youtube.com/s...</td>\n",
       "      <td>6.0</td>\n",
       "      <td>21</td>\n",
       "      <td>6</td>\n",
       "      <td>0</td>\n",
       "      <td>True</td>\n",
       "      <td>False</td>\n",
       "      <td>13342</td>\n",
       "      <td>6089</td>\n",
       "      <td>False</td>\n",
       "      <td>1978978</td>\n",
       "    </tr>\n",
       "    <tr>\n",
       "      <td>1</td>\n",
       "      <td>1</td>\n",
       "      <td>KNH52UF?48</td>\n",
       "      <td>24</td>\n",
       "      <td>LastWeekTonight</td>\n",
       "      <td>5937292.0</td>\n",
       "      <td>The Trump Presidency: Last Week Tonight with J...</td>\n",
       "      <td>last week tonight trump presidency|last week t...</td>\n",
       "      <td>One year after the presidential election, John...</td>\n",
       "      <td>1.0</td>\n",
       "      <td>23</td>\n",
       "      <td>1</td>\n",
       "      <td>116266</td>\n",
       "      <td>False</td>\n",
       "      <td>False</td>\n",
       "      <td>5761</td>\n",
       "      <td>3044</td>\n",
       "      <td>False</td>\n",
       "      <td>1487870</td>\n",
       "    </tr>\n",
       "    <tr>\n",
       "      <td>2</td>\n",
       "      <td>2</td>\n",
       "      <td>QTW28IRG36</td>\n",
       "      <td>23</td>\n",
       "      <td>Rudy Mancuso</td>\n",
       "      <td>4191209.0</td>\n",
       "      <td>Racist Superman | Rudy Mancuso, King Bach &amp; Le...</td>\n",
       "      <td>racist superman|rudy|mancuso|king|bach|racist|...</td>\n",
       "      <td>WATCH MY PREVIOUS VIDEO ▶ \\n\\nSUBSCRIBE ► http...</td>\n",
       "      <td>10.0</td>\n",
       "      <td>22</td>\n",
       "      <td>3</td>\n",
       "      <td>257850</td>\n",
       "      <td>False</td>\n",
       "      <td>True</td>\n",
       "      <td>0</td>\n",
       "      <td>0</td>\n",
       "      <td>True</td>\n",
       "      <td>1502102</td>\n",
       "    </tr>\n",
       "    <tr>\n",
       "      <td>3</td>\n",
       "      <td>3</td>\n",
       "      <td>MGL76WI]26</td>\n",
       "      <td>24</td>\n",
       "      <td>Good Mythical Morning</td>\n",
       "      <td>13186408.0</td>\n",
       "      <td>Nickelback Lyrics: Real or Fake?</td>\n",
       "      <td>rhett and link|gmm|good mythical morning|rhett...</td>\n",
       "      <td>Today we find out if Link is a Nickelback amat...</td>\n",
       "      <td>12.0</td>\n",
       "      <td>17</td>\n",
       "      <td>5</td>\n",
       "      <td>263939</td>\n",
       "      <td>False</td>\n",
       "      <td>True</td>\n",
       "      <td>0</td>\n",
       "      <td>0</td>\n",
       "      <td>True</td>\n",
       "      <td>3519302</td>\n",
       "    </tr>\n",
       "    <tr>\n",
       "      <td>4</td>\n",
       "      <td>4</td>\n",
       "      <td>TWP93KXT70</td>\n",
       "      <td>24</td>\n",
       "      <td>nigahiga</td>\n",
       "      <td>20563106.0</td>\n",
       "      <td>I Dare You: GOING BALD!?</td>\n",
       "      <td>ryan|higa|higatv|nigahiga|i dare you|idy|rhpc|...</td>\n",
       "      <td>I know it's been a while since we did this sho...</td>\n",
       "      <td>11.0</td>\n",
       "      <td>15</td>\n",
       "      <td>7</td>\n",
       "      <td>268085</td>\n",
       "      <td>False</td>\n",
       "      <td>True</td>\n",
       "      <td>0</td>\n",
       "      <td>0</td>\n",
       "      <td>True</td>\n",
       "      <td>4835374</td>\n",
       "    </tr>\n",
       "  </tbody>\n",
       "</table>\n",
       "</div>"
      ],
      "text/plain": [
       "   Unnamed: 0    Video_id  category_id          channel_title  subscriber  \\\n",
       "0           0   HDR9SQc79           22           CaseyNeistat   9086142.0   \n",
       "1           1  KNH52UF?48           24        LastWeekTonight   5937292.0   \n",
       "2           2  QTW28IRG36           23           Rudy Mancuso   4191209.0   \n",
       "3           3  MGL76WI]26           24  Good Mythical Morning  13186408.0   \n",
       "4           4  TWP93KXT70           24               nigahiga  20563106.0   \n",
       "\n",
       "                                               title  \\\n",
       "0                 WE WANT TO TALK ABOUT OUR MARRIAGE   \n",
       "1  The Trump Presidency: Last Week Tonight with J...   \n",
       "2  Racist Superman | Rudy Mancuso, King Bach & Le...   \n",
       "3                   Nickelback Lyrics: Real or Fake?   \n",
       "4                           I Dare You: GOING BALD!?   \n",
       "\n",
       "                                                tags  \\\n",
       "0                                    SHANtell martin   \n",
       "1  last week tonight trump presidency|last week t...   \n",
       "2  racist superman|rudy|mancuso|king|bach|racist|...   \n",
       "3  rhett and link|gmm|good mythical morning|rhett...   \n",
       "4  ryan|higa|higatv|nigahiga|i dare you|idy|rhpc|...   \n",
       "\n",
       "                                         description  Trend_day_count  \\\n",
       "0  SHANTELL'S CHANNEL - https://www.youtube.com/s...              6.0   \n",
       "1  One year after the presidential election, John...              1.0   \n",
       "2  WATCH MY PREVIOUS VIDEO ▶ \\n\\nSUBSCRIBE ► http...             10.0   \n",
       "3  Today we find out if Link is a Nickelback amat...             12.0   \n",
       "4  I know it's been a while since we did this sho...             11.0   \n",
       "\n",
       "   Tag_count  Trend_tag_count  comment_count  comment_disabled  \\\n",
       "0         21                6              0              True   \n",
       "1         23                1         116266             False   \n",
       "2         22                3         257850             False   \n",
       "3         17                5         263939             False   \n",
       "4         15                7         268085             False   \n",
       "\n",
       "   like dislike disabled  likes  dislike  tag appered in title    views  \n",
       "0                  False  13342     6089                 False  1978978  \n",
       "1                  False   5761     3044                 False  1487870  \n",
       "2                   True      0        0                  True  1502102  \n",
       "3                   True      0        0                  True  3519302  \n",
       "4                   True      0        0                  True  4835374  "
      ]
     },
     "execution_count": 79,
     "metadata": {},
     "output_type": "execute_result"
    }
   ],
   "source": [
    "yt.head()"
   ]
  },
  {
   "cell_type": "code",
   "execution_count": 80,
   "metadata": {},
   "outputs": [],
   "source": [
    "yt = yt.drop(['Unnamed: 0'],axis=1) "
   ]
  },
  {
   "cell_type": "code",
   "execution_count": 81,
   "metadata": {},
   "outputs": [
    {
     "data": {
      "text/html": [
       "<div>\n",
       "<style scoped>\n",
       "    .dataframe tbody tr th:only-of-type {\n",
       "        vertical-align: middle;\n",
       "    }\n",
       "\n",
       "    .dataframe tbody tr th {\n",
       "        vertical-align: top;\n",
       "    }\n",
       "\n",
       "    .dataframe thead th {\n",
       "        text-align: right;\n",
       "    }\n",
       "</style>\n",
       "<table border=\"1\" class=\"dataframe\">\n",
       "  <thead>\n",
       "    <tr style=\"text-align: right;\">\n",
       "      <th></th>\n",
       "      <th>Video_id</th>\n",
       "      <th>category_id</th>\n",
       "      <th>channel_title</th>\n",
       "      <th>subscriber</th>\n",
       "      <th>title</th>\n",
       "      <th>tags</th>\n",
       "      <th>description</th>\n",
       "      <th>Trend_day_count</th>\n",
       "      <th>Tag_count</th>\n",
       "      <th>Trend_tag_count</th>\n",
       "      <th>comment_count</th>\n",
       "      <th>comment_disabled</th>\n",
       "      <th>like dislike disabled</th>\n",
       "      <th>likes</th>\n",
       "      <th>dislike</th>\n",
       "      <th>tag appered in title</th>\n",
       "      <th>views</th>\n",
       "    </tr>\n",
       "  </thead>\n",
       "  <tbody>\n",
       "    <tr>\n",
       "      <td>0</td>\n",
       "      <td>HDR9SQc79</td>\n",
       "      <td>22</td>\n",
       "      <td>CaseyNeistat</td>\n",
       "      <td>9086142.0</td>\n",
       "      <td>WE WANT TO TALK ABOUT OUR MARRIAGE</td>\n",
       "      <td>SHANtell martin</td>\n",
       "      <td>SHANTELL'S CHANNEL - https://www.youtube.com/s...</td>\n",
       "      <td>6.0</td>\n",
       "      <td>21</td>\n",
       "      <td>6</td>\n",
       "      <td>0</td>\n",
       "      <td>True</td>\n",
       "      <td>False</td>\n",
       "      <td>13342</td>\n",
       "      <td>6089</td>\n",
       "      <td>False</td>\n",
       "      <td>1978978</td>\n",
       "    </tr>\n",
       "    <tr>\n",
       "      <td>1</td>\n",
       "      <td>KNH52UF?48</td>\n",
       "      <td>24</td>\n",
       "      <td>LastWeekTonight</td>\n",
       "      <td>5937292.0</td>\n",
       "      <td>The Trump Presidency: Last Week Tonight with J...</td>\n",
       "      <td>last week tonight trump presidency|last week t...</td>\n",
       "      <td>One year after the presidential election, John...</td>\n",
       "      <td>1.0</td>\n",
       "      <td>23</td>\n",
       "      <td>1</td>\n",
       "      <td>116266</td>\n",
       "      <td>False</td>\n",
       "      <td>False</td>\n",
       "      <td>5761</td>\n",
       "      <td>3044</td>\n",
       "      <td>False</td>\n",
       "      <td>1487870</td>\n",
       "    </tr>\n",
       "    <tr>\n",
       "      <td>2</td>\n",
       "      <td>QTW28IRG36</td>\n",
       "      <td>23</td>\n",
       "      <td>Rudy Mancuso</td>\n",
       "      <td>4191209.0</td>\n",
       "      <td>Racist Superman | Rudy Mancuso, King Bach &amp; Le...</td>\n",
       "      <td>racist superman|rudy|mancuso|king|bach|racist|...</td>\n",
       "      <td>WATCH MY PREVIOUS VIDEO ▶ \\n\\nSUBSCRIBE ► http...</td>\n",
       "      <td>10.0</td>\n",
       "      <td>22</td>\n",
       "      <td>3</td>\n",
       "      <td>257850</td>\n",
       "      <td>False</td>\n",
       "      <td>True</td>\n",
       "      <td>0</td>\n",
       "      <td>0</td>\n",
       "      <td>True</td>\n",
       "      <td>1502102</td>\n",
       "    </tr>\n",
       "    <tr>\n",
       "      <td>3</td>\n",
       "      <td>MGL76WI]26</td>\n",
       "      <td>24</td>\n",
       "      <td>Good Mythical Morning</td>\n",
       "      <td>13186408.0</td>\n",
       "      <td>Nickelback Lyrics: Real or Fake?</td>\n",
       "      <td>rhett and link|gmm|good mythical morning|rhett...</td>\n",
       "      <td>Today we find out if Link is a Nickelback amat...</td>\n",
       "      <td>12.0</td>\n",
       "      <td>17</td>\n",
       "      <td>5</td>\n",
       "      <td>263939</td>\n",
       "      <td>False</td>\n",
       "      <td>True</td>\n",
       "      <td>0</td>\n",
       "      <td>0</td>\n",
       "      <td>True</td>\n",
       "      <td>3519302</td>\n",
       "    </tr>\n",
       "    <tr>\n",
       "      <td>4</td>\n",
       "      <td>TWP93KXT70</td>\n",
       "      <td>24</td>\n",
       "      <td>nigahiga</td>\n",
       "      <td>20563106.0</td>\n",
       "      <td>I Dare You: GOING BALD!?</td>\n",
       "      <td>ryan|higa|higatv|nigahiga|i dare you|idy|rhpc|...</td>\n",
       "      <td>I know it's been a while since we did this sho...</td>\n",
       "      <td>11.0</td>\n",
       "      <td>15</td>\n",
       "      <td>7</td>\n",
       "      <td>268085</td>\n",
       "      <td>False</td>\n",
       "      <td>True</td>\n",
       "      <td>0</td>\n",
       "      <td>0</td>\n",
       "      <td>True</td>\n",
       "      <td>4835374</td>\n",
       "    </tr>\n",
       "    <tr>\n",
       "      <td>...</td>\n",
       "      <td>...</td>\n",
       "      <td>...</td>\n",
       "      <td>...</td>\n",
       "      <td>...</td>\n",
       "      <td>...</td>\n",
       "      <td>...</td>\n",
       "      <td>...</td>\n",
       "      <td>...</td>\n",
       "      <td>...</td>\n",
       "      <td>...</td>\n",
       "      <td>...</td>\n",
       "      <td>...</td>\n",
       "      <td>...</td>\n",
       "      <td>...</td>\n",
       "      <td>...</td>\n",
       "      <td>...</td>\n",
       "      <td>...</td>\n",
       "    </tr>\n",
       "    <tr>\n",
       "      <td>3149</td>\n",
       "      <td>OKR48DOE67</td>\n",
       "      <td>20</td>\n",
       "      <td>EA SPORTS FIFA</td>\n",
       "      <td>3150213.0</td>\n",
       "      <td>FIFA 18 - FUT Champions Cup Barcelona - Day 1</td>\n",
       "      <td>fifa|fifa ultimate team|fut|fifa pack opening|...</td>\n",
       "      <td>Day 1 of the FUT Champions Cup Barcelona featu...</td>\n",
       "      <td>7.0</td>\n",
       "      <td>20</td>\n",
       "      <td>5</td>\n",
       "      <td>0</td>\n",
       "      <td>True</td>\n",
       "      <td>False</td>\n",
       "      <td>9734</td>\n",
       "      <td>5912</td>\n",
       "      <td>False</td>\n",
       "      <td>747960</td>\n",
       "    </tr>\n",
       "    <tr>\n",
       "      <td>3150</td>\n",
       "      <td>QJK69DS?91</td>\n",
       "      <td>10</td>\n",
       "      <td>JackWhiteVEVO</td>\n",
       "      <td>261596.0</td>\n",
       "      <td>Jack White - Corporation (Audio)</td>\n",
       "      <td>Alternative|Corporation|Jack White|Third Man R...</td>\n",
       "      <td>“Corporation” by Jack White from the forthcomi...</td>\n",
       "      <td>7.0</td>\n",
       "      <td>8</td>\n",
       "      <td>6</td>\n",
       "      <td>0</td>\n",
       "      <td>True</td>\n",
       "      <td>False</td>\n",
       "      <td>16006</td>\n",
       "      <td>12019</td>\n",
       "      <td>True</td>\n",
       "      <td>200410</td>\n",
       "    </tr>\n",
       "    <tr>\n",
       "      <td>3151</td>\n",
       "      <td>VHF51NVr11</td>\n",
       "      <td>10</td>\n",
       "      <td>JamesBlakeVEVO</td>\n",
       "      <td>28321.0</td>\n",
       "      <td>James Blake - If The Car Beside You Moves Ahea...</td>\n",
       "      <td>James|Blake|If|The|Car|Beside|You|Moves|Ahead|...</td>\n",
       "      <td>If the car beside you moves ahead \\nAs much as...</td>\n",
       "      <td>11.0</td>\n",
       "      <td>15</td>\n",
       "      <td>4</td>\n",
       "      <td>0</td>\n",
       "      <td>True</td>\n",
       "      <td>True</td>\n",
       "      <td>0</td>\n",
       "      <td>0</td>\n",
       "      <td>True</td>\n",
       "      <td>244022</td>\n",
       "    </tr>\n",
       "    <tr>\n",
       "      <td>3152</td>\n",
       "      <td>XHU22OAJ39</td>\n",
       "      <td>26</td>\n",
       "      <td>Refinery29</td>\n",
       "      <td>890739.0</td>\n",
       "      <td>Lucie Fink Trains Like A Professional Gymnast ...</td>\n",
       "      <td>refinery29|refinery 29|r29|r29 video|refinery2...</td>\n",
       "      <td>On this episode of Lucie For Hire, our host Lu...</td>\n",
       "      <td>11.0</td>\n",
       "      <td>14</td>\n",
       "      <td>6</td>\n",
       "      <td>250750</td>\n",
       "      <td>False</td>\n",
       "      <td>False</td>\n",
       "      <td>6859</td>\n",
       "      <td>1247</td>\n",
       "      <td>True</td>\n",
       "      <td>907340</td>\n",
       "    </tr>\n",
       "    <tr>\n",
       "      <td>3153</td>\n",
       "      <td>IFD79NSG47</td>\n",
       "      <td>22</td>\n",
       "      <td>MN khan</td>\n",
       "      <td>0.0</td>\n",
       "      <td>Man drops magnum of Champagne on the floor in ...</td>\n",
       "      <td>NaN</td>\n",
       "      <td>Man spills magnum of champagne ‘worth £30,000’...</td>\n",
       "      <td>12.0</td>\n",
       "      <td>12</td>\n",
       "      <td>4</td>\n",
       "      <td>32337</td>\n",
       "      <td>False</td>\n",
       "      <td>False</td>\n",
       "      <td>8339</td>\n",
       "      <td>5436</td>\n",
       "      <td>True</td>\n",
       "      <td>465531</td>\n",
       "    </tr>\n",
       "  </tbody>\n",
       "</table>\n",
       "<p>3154 rows × 17 columns</p>\n",
       "</div>"
      ],
      "text/plain": [
       "        Video_id  category_id          channel_title  subscriber  \\\n",
       "0      HDR9SQc79           22           CaseyNeistat   9086142.0   \n",
       "1     KNH52UF?48           24        LastWeekTonight   5937292.0   \n",
       "2     QTW28IRG36           23           Rudy Mancuso   4191209.0   \n",
       "3     MGL76WI]26           24  Good Mythical Morning  13186408.0   \n",
       "4     TWP93KXT70           24               nigahiga  20563106.0   \n",
       "...          ...          ...                    ...         ...   \n",
       "3149  OKR48DOE67           20         EA SPORTS FIFA   3150213.0   \n",
       "3150  QJK69DS?91           10          JackWhiteVEVO    261596.0   \n",
       "3151  VHF51NVr11           10         JamesBlakeVEVO     28321.0   \n",
       "3152  XHU22OAJ39           26             Refinery29    890739.0   \n",
       "3153  IFD79NSG47           22                MN khan         0.0   \n",
       "\n",
       "                                                  title  \\\n",
       "0                    WE WANT TO TALK ABOUT OUR MARRIAGE   \n",
       "1     The Trump Presidency: Last Week Tonight with J...   \n",
       "2     Racist Superman | Rudy Mancuso, King Bach & Le...   \n",
       "3                      Nickelback Lyrics: Real or Fake?   \n",
       "4                              I Dare You: GOING BALD!?   \n",
       "...                                                 ...   \n",
       "3149      FIFA 18 - FUT Champions Cup Barcelona - Day 1   \n",
       "3150                   Jack White - Corporation (Audio)   \n",
       "3151  James Blake - If The Car Beside You Moves Ahea...   \n",
       "3152  Lucie Fink Trains Like A Professional Gymnast ...   \n",
       "3153  Man drops magnum of Champagne on the floor in ...   \n",
       "\n",
       "                                                   tags  \\\n",
       "0                                       SHANtell martin   \n",
       "1     last week tonight trump presidency|last week t...   \n",
       "2     racist superman|rudy|mancuso|king|bach|racist|...   \n",
       "3     rhett and link|gmm|good mythical morning|rhett...   \n",
       "4     ryan|higa|higatv|nigahiga|i dare you|idy|rhpc|...   \n",
       "...                                                 ...   \n",
       "3149  fifa|fifa ultimate team|fut|fifa pack opening|...   \n",
       "3150  Alternative|Corporation|Jack White|Third Man R...   \n",
       "3151  James|Blake|If|The|Car|Beside|You|Moves|Ahead|...   \n",
       "3152  refinery29|refinery 29|r29|r29 video|refinery2...   \n",
       "3153                                                NaN   \n",
       "\n",
       "                                            description  Trend_day_count  \\\n",
       "0     SHANTELL'S CHANNEL - https://www.youtube.com/s...              6.0   \n",
       "1     One year after the presidential election, John...              1.0   \n",
       "2     WATCH MY PREVIOUS VIDEO ▶ \\n\\nSUBSCRIBE ► http...             10.0   \n",
       "3     Today we find out if Link is a Nickelback amat...             12.0   \n",
       "4     I know it's been a while since we did this sho...             11.0   \n",
       "...                                                 ...              ...   \n",
       "3149  Day 1 of the FUT Champions Cup Barcelona featu...              7.0   \n",
       "3150  “Corporation” by Jack White from the forthcomi...              7.0   \n",
       "3151  If the car beside you moves ahead \\nAs much as...             11.0   \n",
       "3152  On this episode of Lucie For Hire, our host Lu...             11.0   \n",
       "3153  Man spills magnum of champagne ‘worth £30,000’...             12.0   \n",
       "\n",
       "      Tag_count  Trend_tag_count  comment_count  comment_disabled  \\\n",
       "0            21                6              0              True   \n",
       "1            23                1         116266             False   \n",
       "2            22                3         257850             False   \n",
       "3            17                5         263939             False   \n",
       "4            15                7         268085             False   \n",
       "...         ...              ...            ...               ...   \n",
       "3149         20                5              0              True   \n",
       "3150          8                6              0              True   \n",
       "3151         15                4              0              True   \n",
       "3152         14                6         250750             False   \n",
       "3153         12                4          32337             False   \n",
       "\n",
       "      like dislike disabled  likes  dislike  tag appered in title    views  \n",
       "0                     False  13342     6089                 False  1978978  \n",
       "1                     False   5761     3044                 False  1487870  \n",
       "2                      True      0        0                  True  1502102  \n",
       "3                      True      0        0                  True  3519302  \n",
       "4                      True      0        0                  True  4835374  \n",
       "...                     ...    ...      ...                   ...      ...  \n",
       "3149                  False   9734     5912                 False   747960  \n",
       "3150                  False  16006    12019                  True   200410  \n",
       "3151                   True      0        0                  True   244022  \n",
       "3152                  False   6859     1247                  True   907340  \n",
       "3153                  False   8339     5436                  True   465531  \n",
       "\n",
       "[3154 rows x 17 columns]"
      ]
     },
     "execution_count": 81,
     "metadata": {},
     "output_type": "execute_result"
    }
   ],
   "source": [
    "yt"
   ]
  },
  {
   "cell_type": "code",
   "execution_count": 82,
   "metadata": {},
   "outputs": [
    {
     "name": "stdout",
     "output_type": "stream",
     "text": [
      "<class 'pandas.core.frame.DataFrame'>\n",
      "RangeIndex: 3154 entries, 0 to 3153\n",
      "Data columns (total 17 columns):\n",
      "Video_id                 3154 non-null object\n",
      "category_id              3154 non-null int64\n",
      "channel_title            3154 non-null object\n",
      "subscriber               3154 non-null float64\n",
      "title                    3154 non-null object\n",
      "tags                     3007 non-null object\n",
      "description              3090 non-null object\n",
      "Trend_day_count          3154 non-null float64\n",
      "Tag_count                3154 non-null int64\n",
      "Trend_tag_count          3154 non-null int64\n",
      "comment_count            3154 non-null int64\n",
      "comment_disabled         3154 non-null bool\n",
      "like dislike disabled    3154 non-null bool\n",
      "likes                    3154 non-null int64\n",
      "dislike                  3154 non-null int64\n",
      "tag appered in title     3154 non-null bool\n",
      "views                    3154 non-null int64\n",
      "dtypes: bool(3), float64(2), int64(7), object(5)\n",
      "memory usage: 354.3+ KB\n"
     ]
    }
   ],
   "source": [
    "yt.info()"
   ]
  },
  {
   "cell_type": "code",
   "execution_count": 83,
   "metadata": {},
   "outputs": [
    {
     "data": {
      "text/plain": [
       "<matplotlib.axes._subplots.AxesSubplot at 0x255ccaddb08>"
      ]
     },
     "execution_count": 83,
     "metadata": {},
     "output_type": "execute_result"
    },
    {
     "data": {
      "image/png": "[encoded data removed]",
      "text/plain": [
       "<Figure size 1800x720 with 2 Axes>"
      ]
     },
     "metadata": {
      "needs_background": "light"
     },
     "output_type": "display_data"
    }
   ],
   "source": [
    "ms.matrix(yt)"
   ]
  },
  {
   "cell_type": "code",
   "execution_count": 84,
   "metadata": {},
   "outputs": [],
   "source": [
    "yt['tags']=yt['tags'].astype(str)"
   ]
  },
  {
   "cell_type": "code",
   "execution_count": 85,
   "metadata": {},
   "outputs": [],
   "source": [
    "a=[]\n",
    "def ta(t):\n",
    "    tags=t.split('|')\n",
    "    for i in tags:\n",
    "        if i!='':\n",
    "            a.append(i)\n",
    "            \n",
    "yt['number_of_tags'] = yt.apply(lambda x: ta(x['tags']), axis=1)"
   ]
  },
  {
   "cell_type": "code",
   "execution_count": 86,
   "metadata": {},
   "outputs": [
    {
     "data": {
      "text/plain": [
       "60165"
      ]
     },
     "execution_count": 86,
     "metadata": {},
     "output_type": "execute_result"
    }
   ],
   "source": [
    "len(a)"
   ]
  },
  {
   "cell_type": "code",
   "execution_count": 87,
   "metadata": {},
   "outputs": [
    {
     "data": {
      "text/plain": [
       "['SHANtell martin',\n",
       " 'last week tonight trump presidency',\n",
       " 'last week tonight donald trump',\n",
       " 'john oliver trump',\n",
       " 'donald trump',\n",
       " 'racist superman',\n",
       " 'rudy',\n",
       " 'mancuso',\n",
       " 'king',\n",
       " 'bach',\n",
       " 'racist',\n",
       " 'superman',\n",
       " 'love',\n",
       " 'rudy mancuso poo bear black white official music video',\n",
       " 'iphone x by pineapple',\n",
       " 'lelepons',\n",
       " 'hannahstocking',\n",
       " 'rudymancuso',\n",
       " 'inanna',\n",
       " 'anwar',\n",
       " 'sarkis',\n",
       " 'shots',\n",
       " 'shotsstudios',\n",
       " 'alesso',\n",
       " 'anitta',\n",
       " 'brazil',\n",
       " \"Getting My Driver's License \",\n",
       " ' Lele Pons',\n",
       " 'rhett and link',\n",
       " 'gmm',\n",
       " 'good mythical morning',\n",
       " 'rhett and link good mythical morning',\n",
       " 'good mythical morning rhett and link',\n",
       " 'mythical morning',\n",
       " 'Season 12',\n",
       " 'nickelback lyrics',\n",
       " 'nickelback lyrics real or fake',\n",
       " 'nickelback',\n",
       " 'nickelback songs',\n",
       " 'nickelback song',\n",
       " 'rhett link nickelback',\n",
       " 'gmm nickelback',\n",
       " 'lyrics (website category)',\n",
       " 'nickelback (musical group)',\n",
       " 'rock',\n",
       " 'music',\n",
       " 'lyrics',\n",
       " 'chad kroeger',\n",
       " 'music (industry)',\n",
       " 'mythical',\n",
       " 'gmm challenge',\n",
       " 'comedy',\n",
       " 'funny',\n",
       " 'the betrayal',\n",
       " 'the betrayal act III',\n",
       " 'how you remind me',\n",
       " 'ryan',\n",
       " 'higa',\n",
       " 'higatv',\n",
       " 'nigahiga',\n",
       " 'i dare you',\n",
       " 'idy',\n",
       " 'rhpc',\n",
       " 'dares',\n",
       " 'no truth',\n",
       " 'comments',\n",
       " 'comedy',\n",
       " 'funny',\n",
       " 'stupid',\n",
       " 'fail',\n",
       " 'ijustine',\n",
       " 'week with iPhone X',\n",
       " 'iphone x',\n",
       " 'apple',\n",
       " 'iphone',\n",
       " 'iphone x review',\n",
       " 'iphone x unboxing',\n",
       " 'SNL',\n",
       " 'Saturday Night Live',\n",
       " 'SNL Season 43',\n",
       " 'Episode 1730',\n",
       " 'Tiffany Haddish',\n",
       " 'Roy Moore',\n",
       " 'Mikey Day',\n",
       " 'Mike Pence',\n",
       " 'Beck Bennett',\n",
       " 'Jeff Sessions',\n",
       " 'Kate McKinnon',\n",
       " 's43',\n",
       " 's43e5',\n",
       " 'episode 5',\n",
       " 'live',\n",
       " 'new york',\n",
       " 'comedy',\n",
       " 'sketch',\n",
       " 'funny',\n",
       " 'hilarious',\n",
       " 'late night',\n",
       " 'host',\n",
       " 'music',\n",
       " 'guest',\n",
       " 'laugh',\n",
       " 'impersonation',\n",
       " 'actor',\n",
       " 'improv',\n",
       " 'musician',\n",
       " 'comedian',\n",
       " 'actress',\n",
       " 'If Loving You Is Wrong',\n",
       " 'Oprah Winfrey',\n",
       " 'OWN',\n",
       " 'Girls Trip',\n",
       " 'The Carmichael Show',\n",
       " 'Keanu',\n",
       " 'Taylor Swift',\n",
       " 'Reputation',\n",
       " 'Look What You Made Me Do',\n",
       " 'ready for it?',\n",
       " 'cold open',\n",
       " '5 Ice Cream Gadgets',\n",
       " 'Ice Cream',\n",
       " 'Cream Sandwich Maker',\n",
       " 'gadgets',\n",
       " 'gadget review',\n",
       " 'review',\n",
       " 'unboxing',\n",
       " 'kitchen gadgets',\n",
       " 'Gadgets put to the Test',\n",
       " 'testing',\n",
       " '10 Kitchen Gadgets',\n",
       " '7 Camping Coffee Gadgets',\n",
       " '10 Kitchen Gadgets put to the Test',\n",
       " 'Trailer',\n",
       " 'Hugh Jackman',\n",
       " 'Michelle Williams',\n",
       " 'Zac Efron',\n",
       " 'Zendaya',\n",
       " 'Rebecca Ferguson',\n",
       " 'pasek and paul',\n",
       " 'la la land',\n",
       " 'moulin rouge',\n",
       " 'high school musical',\n",
       " 'hugh jackman musical',\n",
       " 'zac efron musical',\n",
       " 'musical',\n",
       " 'the greatest showman',\n",
       " 'greatest showman',\n",
       " 'Michael Gracey',\n",
       " 'P.T. Barnum',\n",
       " 'Barnum and Bailey',\n",
       " 'Barnum Circus',\n",
       " 'Barnum and Bailey Circus',\n",
       " '20th century fox',\n",
       " 'greatest showman trailer',\n",
       " 'trailer',\n",
       " 'official trailer',\n",
       " 'the greatest showman trailer',\n",
       " 'logan',\n",
       " 'Benj Pasek',\n",
       " 'Justin Paul',\n",
       " 'vox.com',\n",
       " 'vox',\n",
       " 'explain',\n",
       " 'shift change',\n",
       " 'future of work',\n",
       " 'automation',\n",
       " 'robots',\n",
       " 'jobs',\n",
       " 'technological unemployment',\n",
       " 'joss fong',\n",
       " 'heidi shierholz',\n",
       " 'martin ford',\n",
       " 'rise of the robots',\n",
       " 'humans',\n",
       " 'workers',\n",
       " 'employment',\n",
       " 'economics',\n",
       " 'macroeconomics',\n",
       " 'silicon valley',\n",
       " 'basic income',\n",
       " 'NFL',\n",
       " 'Football',\n",
       " 'offense',\n",
       " 'defense',\n",
       " 'afc',\n",
       " 'nfc',\n",
       " 'American Football',\n",
       " 'highlight',\n",
       " 'highlights',\n",
       " 'game',\n",
       " 'games',\n",
       " 'sport',\n",
       " 'sports',\n",
       " 'action',\n",
       " 'play',\n",
       " 'plays',\n",
       " 'season',\n",
       " '2017',\n",
       " 'rookie',\n",
       " 'rookies',\n",
       " 'recap',\n",
       " 'run',\n",
       " 'sprint',\n",
       " 'catch',\n",
       " 'huge',\n",
       " 'amazing',\n",
       " 'touchdown',\n",
       " 'td',\n",
       " 'week 9',\n",
       " 'wk 9',\n",
       " 'new england',\n",
       " 'patriots',\n",
       " 'pats',\n",
       " 'denver',\n",
       " 'broncos',\n",
       " 'lewis',\n",
       " 'kickoff',\n",
       " 'kick return',\n",
       " 'return td',\n",
       " 'special teams',\n",
       " 'sp:dt=2017-11-12T20:30:00-05:00',\n",
       " 'sp:vl=en-US',\n",
       " 'sp:st=football',\n",
       " 'sp:li=nfl',\n",
       " 'sp:ti:home=Den',\n",
       " 'sp:ti:away=NE',\n",
       " 'sp:scp=athlete_in_match',\n",
       " 'sp:ty=high',\n",
       " 'nfl-lewdio',\n",
       " 'The Walking Dead',\n",
       " 'shiva',\n",
       " 'tiger',\n",
       " 'king ezekiel',\n",
       " 'episode 804',\n",
       " 'episode 4',\n",
       " 'some guy',\n",
       " 'sad',\n",
       " 'zombies',\n",
       " 'all out war',\n",
       " 'war',\n",
       " 'walkers',\n",
       " 'the kingdom',\n",
       " 'the saviors',\n",
       " 'Rick',\n",
       " 'Rick Grimes',\n",
       " 'Negan',\n",
       " 'Ezekiel',\n",
       " 'Daryl',\n",
       " 'Michonne',\n",
       " 'Morgan',\n",
       " 'Carl',\n",
       " 'Dwight',\n",
       " 'Jeffrey Dean Morgan',\n",
       " 'Andrew Lincoln',\n",
       " 'Norman Reedus',\n",
       " 'Danai Gurira',\n",
       " 'Lennie James',\n",
       " 'robert kirkman',\n",
       " 'scott m. gimple',\n",
       " 'apocalypse',\n",
       " 'season',\n",
       " 'season 8',\n",
       " 'alexandria',\n",
       " 'AMC',\n",
       " 'tv',\n",
       " 'tv show',\n",
       " 'television',\n",
       " '11/12_TWD',\n",
       " 'Featured',\n",
       " 'nowthis',\n",
       " 'nowthis world',\n",
       " 'world news',\n",
       " 'nowthis news',\n",
       " 'international news',\n",
       " 'countries',\n",
       " 'collapse',\n",
       " 'failing countries',\n",
       " 'war in the world',\n",
       " 'fragile states',\n",
       " 'the fragile states index',\n",
       " 'fund for peace',\n",
       " 'social',\n",
       " 'economic',\n",
       " 'political',\n",
       " 'which countries are failing',\n",
       " 'Central African Republic',\n",
       " 'CAR',\n",
       " 'countries that are sinking',\n",
       " 'countries that are dying',\n",
       " 'countries that are going to disappear',\n",
       " 'Somalia',\n",
       " 'colonization',\n",
       " 'dictatorship',\n",
       " 'south sudan',\n",
       " 'shopping for new fish',\n",
       " 'new fish',\n",
       " 'aquarium fish',\n",
       " 'aquarium',\n",
       " 'uarujoey',\n",
       " 'king of diy',\n",
       " 'aquarium gallery',\n",
       " 'the king of diy',\n",
       " 'fish tank',\n",
       " 'fish (animal)',\n",
       " 'diy king',\n",
       " 'arowana',\n",
       " 'flower horn',\n",
       " 'fish',\n",
       " 'Robots',\n",
       " 'Boston Dynamics',\n",
       " 'SpotMini',\n",
       " 'Legged Locomotion',\n",
       " 'Dynamic robot',\n",
       " 'pacific rim',\n",
       " 'pacific rim 2',\n",
       " 'pacific rim sequel',\n",
       " 'Guillermo del Toro',\n",
       " 'Cracked',\n",
       " 'cracked.com',\n",
       " 'sketch',\n",
       " 'comedy',\n",
       " 'funny',\n",
       " 'spoof',\n",
       " 'laugh',\n",
       " 'satire',\n",
       " 'parody',\n",
       " 'hilarious',\n",
       " 'spoofs',\n",
       " 'josh sargent',\n",
       " 'fix a movie',\n",
       " 'how to fix',\n",
       " 'charlie day',\n",
       " 'idris elba',\n",
       " 'fighting robots',\n",
       " 'fight scenes',\n",
       " 'pacific rim problems',\n",
       " 'pacific rim epic',\n",
       " 'pacific rim comic con',\n",
       " 'pacific rim characters',\n",
       " 'pacific rim robots',\n",
       " 'pacific rim machines',\n",
       " 'mako mori',\n",
       " 'fan theory',\n",
       " 'headcanon',\n",
       " 'how it should have ended',\n",
       " 'TED',\n",
       " 'TED-Ed',\n",
       " 'TED Education',\n",
       " 'TED Ed',\n",
       " 'Hilary Coller',\n",
       " 'Sashko Danylenko',\n",
       " 'hunger',\n",
       " 'fullness',\n",
       " 'appetite',\n",
       " 'food',\n",
       " 'stomach',\n",
       " 'digestion',\n",
       " 'vagus nerve',\n",
       " 'hypothalamus',\n",
       " 'hormones',\n",
       " 'endocrine cells',\n",
       " 'digestive system',\n",
       " 'intestine',\n",
       " 'ghrelin',\n",
       " 'insulin',\n",
       " 'leptin',\n",
       " 'water',\n",
       " 'fiber',\n",
       " 'protein',\n",
       " 'ultralight',\n",
       " 'airplane',\n",
       " 'homemade',\n",
       " 'DIY',\n",
       " 'hoverbike',\n",
       " 'part 103',\n",
       " 'ultra light',\n",
       " 'aircraft',\n",
       " 'aviation',\n",
       " 'do it yourself',\n",
       " 'basement',\n",
       " 'petersripol',\n",
       " 'peter sripol',\n",
       " 'biplane',\n",
       " 'flitetest',\n",
       " 'flite test',\n",
       " 'electric vehicle',\n",
       " 'electric',\n",
       " 'SciShow',\n",
       " 'science',\n",
       " 'Hank',\n",
       " 'Green',\n",
       " 'education',\n",
       " 'learn',\n",
       " 'stefan chin',\n",
       " 'mars',\n",
       " 'colony',\n",
       " 'genetic diversity',\n",
       " 'founder effect',\n",
       " 'alleles',\n",
       " 'effective population size',\n",
       " 'mutations',\n",
       " 'interstellar mission',\n",
       " 'acta astronautica',\n",
       " 'Founding An Inbreeding-Free Space Colony',\n",
       " 'life noggin',\n",
       " 'life noggin youtube',\n",
       " 'youtube life noggin',\n",
       " 'life noggin channel',\n",
       " 'education',\n",
       " 'education channel',\n",
       " 'life noggin face reveal',\n",
       " 'edutainment',\n",
       " 'edutainment videos',\n",
       " 'blocko',\n",
       " 'blocko life noggin',\n",
       " 'science',\n",
       " 'technology',\n",
       " 'educational',\n",
       " 'school',\n",
       " 'lucid dream',\n",
       " 'lucid dreaming',\n",
       " 'control your dreams',\n",
       " 'how to control your dreams',\n",
       " 'how to lucid dream',\n",
       " 'sleep',\n",
       " 'dreaming',\n",
       " 'nightmare',\n",
       " 'dream',\n",
       " 'REM sleep',\n",
       " 'what is lucid dreaming',\n",
       " 'sleep study',\n",
       " 'brain activity',\n",
       " 'consciousness',\n",
       " 'PTSD',\n",
       " 'lucid dreaming experience',\n",
       " 'tested',\n",
       " 'testedcom',\n",
       " 'designercon 2017',\n",
       " 'preview',\n",
       " 'toys',\n",
       " 'props',\n",
       " 'costumes',\n",
       " 'ironhead studio',\n",
       " 'marvel',\n",
       " 'thor',\n",
       " 'thor 3',\n",
       " 'thor ragnorok',\n",
       " 'thor ragnarok',\n",
       " 'hela',\n",
       " 'helmet',\n",
       " 'cosplay',\n",
       " 'headdress',\n",
       " 'costume',\n",
       " 'tom scott',\n",
       " 'tomscott',\n",
       " 'built for science',\n",
       " 'national advanced driving simulator',\n",
       " 'university of iowa',\n",
       " 'driving simulation',\n",
       " 'driver safety',\n",
       " 'driver distraction',\n",
       " 'refinery29',\n",
       " 'refinery 29',\n",
       " 'r29',\n",
       " 'r29 video',\n",
       " 'video',\n",
       " 'refinery29 video',\n",
       " 'female',\n",
       " 'empowerment',\n",
       " 'house tour',\n",
       " 'sweet digs',\n",
       " 'new york city',\n",
       " 'apartment decor',\n",
       " 'interior design',\n",
       " 'home tour',\n",
       " 'big apple',\n",
       " 'real estate',\n",
       " 'apartment',\n",
       " 'new apartment tour',\n",
       " 'bedroom tour',\n",
       " 'new apartment',\n",
       " 'house tour 2017',\n",
       " 'living room',\n",
       " 'living room decor',\n",
       " 'walk through',\n",
       " 'nyc apartment',\n",
       " 'new house',\n",
       " 'kitchen tour',\n",
       " 'modern home',\n",
       " 'decorating on a budget',\n",
       " 'my new house',\n",
       " 'moving out',\n",
       " 'video blog',\n",
       " 'manhattan',\n",
       " 'NY',\n",
       " 'central park',\n",
       " 'using other peoples showers',\n",
       " 'gus',\n",
       " 'gus shower',\n",
       " 'other people shower',\n",
       " 'ketchup shower',\n",
       " 'funny bathroom',\n",
       " 'funny',\n",
       " 'gustoonz',\n",
       " 'gus johnson',\n",
       " 'gus other peoples showers',\n",
       " 'funny video',\n",
       " 'trending',\n",
       " 'youtube trending',\n",
       " 'trending video',\n",
       " 'viral video',\n",
       " 'advertiser friendly',\n",
       " 'family friendly',\n",
       " 'clean',\n",
       " 'shower joke',\n",
       " 'sketch comedy',\n",
       " 'youtube haiku',\n",
       " 'shower meme',\n",
       " 'meme',\n",
       " 'new meme',\n",
       " 'meme 2017',\n",
       " 'meme 2018',\n",
       " 'spaghetti burrito',\n",
       " 'diy burrito',\n",
       " 'spaghetti',\n",
       " 'burrito',\n",
       " 'burrito recipe',\n",
       " 'spaghetti deep fried',\n",
       " 'deep fried spaghetti',\n",
       " 'spgahetti sandwich',\n",
       " 'giant burrito',\n",
       " 'numberphile',\n",
       " 'prime numbers',\n",
       " 'proth prime',\n",
       " 'Smart mug',\n",
       " 'Heated thermos',\n",
       " 'tech',\n",
       " 'gift idea',\n",
       " 'unboxed',\n",
       " 'Ember mug',\n",
       " 'ember',\n",
       " 'Ember review',\n",
       " 'Heated mug',\n",
       " 'teardown',\n",
       " 'technology',\n",
       " 'Thermous',\n",
       " 'winter',\n",
       " 'holiday',\n",
       " 'christmas',\n",
       " 'gift',\n",
       " 'mug',\n",
       " 'unboxing',\n",
       " 'auth-jvardon-auth',\n",
       " 'freaks and geeks',\n",
       " 'jason segel',\n",
       " 'judd apatow',\n",
       " 'drums',\n",
       " 'rush',\n",
       " 'paul feig',\n",
       " 'drummer',\n",
       " 'nick andopolis',\n",
       " 'carmax',\n",
       " 'lamborghini miura',\n",
       " 'miura carmax',\n",
       " 'lamborghini carmax',\n",
       " 'took lamborghini to carmax',\n",
       " 'supercar carmax',\n",
       " 'selling my car at acrmax',\n",
       " 'lambo carmax',\n",
       " 'stradman',\n",
       " 'vehicle virgins',\n",
       " 'doug demuro',\n",
       " 'Amazon',\n",
       " 'Amazon Christmas',\n",
       " 'Amazon Xmas',\n",
       " 'Christmas',\n",
       " 'Xmas',\n",
       " 'ad',\n",
       " 'christmas ad',\n",
       " 'commercial',\n",
       " 'Holidays',\n",
       " 'advert',\n",
       " 'christmas advert',\n",
       " 'Amazon ad',\n",
       " 'UK',\n",
       " 'Amazon Christmas Advert',\n",
       " 'Christmas (Holiday)',\n",
       " 'Amazon Christmas advert 2017',\n",
       " 'Amazon xmas ad 2017',\n",
       " 'Amazon Holiday Advert',\n",
       " 'Delivery',\n",
       " 'Gift',\n",
       " 'Amazon Delivery',\n",
       " 'boxes',\n",
       " 'singing boxes',\n",
       " 'smile',\n",
       " 'give a littlle bit',\n",
       " 'Roger Hodgson - Give a Little Bit',\n",
       " 'Roger Hodgson',\n",
       " 'Eminem',\n",
       " 'Walk',\n",
       " 'On',\n",
       " 'Water',\n",
       " 'Aftermath/Shady/Interscope',\n",
       " 'Rap',\n",
       " 'detective',\n",
       " 'officer',\n",
       " '401',\n",
       " 'officer401',\n",
       " 'police',\n",
       " 'cop',\n",
       " 'cops',\n",
       " 'law',\n",
       " 'enforcement',\n",
       " 'investigator',\n",
       " 'ford',\n",
       " 'fusion',\n",
       " 'crown vic',\n",
       " 'charger',\n",
       " 'dodge',\n",
       " 'patrol',\n",
       " 'cid',\n",
       " 'criminal',\n",
       " 'investigations',\n",
       " 'division',\n",
       " 'mre',\n",
       " 'survival food',\n",
       " 'trunk',\n",
       " '2011',\n",
       " '2012',\n",
       " '2013',\n",
       " '2014',\n",
       " '2015',\n",
       " '2016',\n",
       " '2017',\n",
       " 'fusion se',\n",
       " 'ford fusion',\n",
       " 'ford fusion se',\n",
       " 'vest',\n",
       " 'outter',\n",
       " 'carrier',\n",
       " 'bullet-proof',\n",
       " 'bullet-proof vest',\n",
       " 'level 2 armor',\n",
       " 'level 3 armor',\n",
       " 'Emirates',\n",
       " 'First Class',\n",
       " 'cute',\n",
       " 'cats',\n",
       " 'thai',\n",
       " 'eggs',\n",
       " 'DW - Every DCEU Movie Before Justice League',\n",
       " 'Hunter',\n",
       " 'Hayes',\n",
       " 'you should be loved',\n",
       " 'the shadowboxers',\n",
       " 'pictures',\n",
       " 'part one',\n",
       " 'official',\n",
       " 'music video',\n",
       " 'trilogy',\n",
       " 'hunter hayes',\n",
       " 'wanted',\n",
       " 'i want crazy',\n",
       " 'storm warning',\n",
       " 'niki and gabi',\n",
       " 'nikiandgabibeauty',\n",
       " 'celebrities on thanksgiving',\n",
       " 'celebrities',\n",
       " 'thanksgiving',\n",
       " 'celebrity thanksgiving',\n",
       " 'thanksgiving 2017',\n",
       " 'celebrities in high school',\n",
       " 'celebrities at prom',\n",
       " 'celebrities have a sleepover',\n",
       " 'celebrity talent show',\n",
       " 'celebrities at the beach',\n",
       " 'taylor swift',\n",
       " 'parody',\n",
       " 'comedy',\n",
       " 'Nickelback',\n",
       " 'Feed The Machine',\n",
       " 'The Betrayal Act III',\n",
       " 'The Betrayal',\n",
       " 'Rock',\n",
       " 'Alternative',\n",
       " 'Anthem Films',\n",
       " 'Kevin Slack',\n",
       " 'Chad Kroeger',\n",
       " 'Ryan Peake',\n",
       " 'Mike Kroeger',\n",
       " 'Daniel Adair',\n",
       " 'How You Remind Me',\n",
       " 'Rockstar',\n",
       " 'U2',\n",
       " 'The',\n",
       " 'Blackout',\n",
       " 'Island',\n",
       " 'Records',\n",
       " 'Rock',\n",
       " 'bbc',\n",
       " 'bbc news',\n",
       " 'news',\n",
       " 'iran',\n",
       " 'iran news',\n",
       " 'iraq',\n",
       " 'iraq news',\n",
       " 'earthquake',\n",
       " 'breaking news',\n",
       " 'Iraq-Iran earthquake',\n",
       " 'nan',\n",
       " 'matthew santoro facts',\n",
       " 'music video',\n",
       " 'matthew santoro',\n",
       " 'Ellevan',\n",
       " 'EllevanMusic',\n",
       " 'HumbleThePoet',\n",
       " 'Humble The Poet',\n",
       " 'FACTS',\n",
       " 'whats that facts',\n",
       " 'shawn johnson',\n",
       " 'andrew east',\n",
       " 'shawn east',\n",
       " 'shawn and andrew',\n",
       " 'olympian',\n",
       " 'nfl player',\n",
       " 'athletes',\n",
       " 'vlog',\n",
       " 'couples',\n",
       " 'google irl',\n",
       " 'google feud',\n",
       " 'google markiplier',\n",
       " 'google myself',\n",
       " 'challenge',\n",
       " 'reactions',\n",
       " 'reacts',\n",
       " 'internet',\n",
       " 'memes',\n",
       " 'funny',\n",
       " 'birthday',\n",
       " 'cringe',\n",
       " 'laughing',\n",
       " 'daily',\n",
       " 'vlogger',\n",
       " 'stupid',\n",
       " 'cute',\n",
       " 'boy',\n",
       " 'diy',\n",
       " 'google',\n",
       " 'myself',\n",
       " 'googled',\n",
       " 'googling',\n",
       " 'liza',\n",
       " 'lizakoshy',\n",
       " 'wednesdays',\n",
       " 'liza koshy',\n",
       " 'googling myself',\n",
       " 'liza koshy net worth',\n",
       " 'liza koshy google',\n",
       " 'liza facts',\n",
       " 'liza panties',\n",
       " 'net worth',\n",
       " 'youtuber net worth',\n",
       " 'youtuber facts',\n",
       " 'iphone x',\n",
       " 'iphonex makeup',\n",
       " 'iphonex test',\n",
       " 'new iphone',\n",
       " 'iphone vs makeup',\n",
       " 'face id',\n",
       " 'face id test',\n",
       " 'iphone x challenge',\n",
       " 'iphone hack',\n",
       " 'iphone x makeup tutorial',\n",
       " 'makup tutorial',\n",
       " '2017 makeup',\n",
       " 'promise phan',\n",
       " 'twins face id',\n",
       " 'twins iphonex',\n",
       " 'iphonex face',\n",
       " 'iphonex review',\n",
       " 'people are awesome',\n",
       " 'people are awesome 2017',\n",
       " 'youtube',\n",
       " 'hd',\n",
       " 'compilation',\n",
       " 'humans',\n",
       " 'amazing people',\n",
       " 'incredible',\n",
       " 'gopro',\n",
       " 'gopro hero',\n",
       " 'extreme sports',\n",
       " 'adventure travel',\n",
       " 'people are awesome videos',\n",
       " 'PAA',\n",
       " 'the pet collective',\n",
       " 'pet collective TV',\n",
       " 'I love my pets',\n",
       " 'awesome pets',\n",
       " 'pets are awesome',\n",
       " 'Adventure Pup',\n",
       " 'Adventure Dogs',\n",
       " 'Good Doggo',\n",
       " 'Adventure Cats',\n",
       " 'Surfing',\n",
       " 'snowboarding',\n",
       " 'skiing',\n",
       " 'wakeboarding',\n",
       " 'NBA',\n",
       " 'Basketball',\n",
       " 'Sports',\n",
       " 'D3sports',\n",
       " 'NCAA Division III',\n",
       " 'D3sports.com',\n",
       " 'D3football.com',\n",
       " 'Division III football',\n",
       " '#d3fb',\n",
       " 'college football',\n",
       " 'Division III (Sports Association)',\n",
       " 'iPhone X',\n",
       " 'animojis',\n",
       " 'facial recognition',\n",
       " 'ELDERS REACT TO iPHONE X Facial Recognition Animojis',\n",
       " 'elders react',\n",
       " 'react',\n",
       " 'reaction',\n",
       " 'thefinebros',\n",
       " 'fine brothers',\n",
       " 'fine brothers entertainment',\n",
       " 'finebros',\n",
       " 'fine bros',\n",
       " 'FBE',\n",
       " 'watch',\n",
       " 'review',\n",
       " 'for the first time',\n",
       " 'reviews',\n",
       " 'responds',\n",
       " 'respond',\n",
       " 'youtubers react',\n",
       " 'teens react',\n",
       " 'kids react',\n",
       " 'adults react',\n",
       " 'parents react',\n",
       " 'teenagers react',\n",
       " 'iphone',\n",
       " 'apple',\n",
       " 'iphone 8',\n",
       " 'nails',\n",
       " 'nail art',\n",
       " 'nail tutorial',\n",
       " 'beauty tutorial',\n",
       " 'nail art tutorial',\n",
       " 'diy nails',\n",
       " 'easy nail art',\n",
       " 'diy nail art',\n",
       " 'cute nail art',\n",
       " 'simply nailogical',\n",
       " 'simplynailogical sister',\n",
       " 'simplynailogical jen',\n",
       " 'jenny',\n",
       " 'iphone',\n",
       " \"what's on my iphone\",\n",
       " 'phone games',\n",
       " 'best fiends',\n",
       " 'sister fun',\n",
       " 'watermarble',\n",
       " 'will it watermarble',\n",
       " 'simplynailogical watermarble',\n",
       " 'watermarble nails',\n",
       " 'watermarble objects',\n",
       " 'hydrodipping',\n",
       " 'marble',\n",
       " 'nail polish marble',\n",
       " 'CBS Sunday Morning',\n",
       " 'CBS News',\n",
       " 'news',\n",
       " 'On The Road',\n",
       " 'lin manuel miranda',\n",
       " 'puerto rico',\n",
       " 'hamilton',\n",
       " 'hurricane maria',\n",
       " 'wwe',\n",
       " 'world wrestling entertainment',\n",
       " 'wrestling',\n",
       " 'wrestler',\n",
       " 'wrestle',\n",
       " 'superstars',\n",
       " 'कुश्ती',\n",
       " 'पहलवान',\n",
       " 'डब्लू डब्लू ई',\n",
       " 'मैच',\n",
       " 'सुपरस्टार',\n",
       " 'व्यावसायिक कुश्ती',\n",
       " 'مصارعه',\n",
       " 'WWE Top 10',\n",
       " 'Stone Cold Steve Austin',\n",
       " 'Undertaker',\n",
       " 'Kurt Angle',\n",
       " 'Kofi Kingston',\n",
       " 'Xavier Woods',\n",
       " 'Big E',\n",
       " 'Christian',\n",
       " 'Dean Ambrose',\n",
       " 'John Cena',\n",
       " 'Boogeyman',\n",
       " 'top 10',\n",
       " 'wwe distraction',\n",
       " 'wwe best distractions',\n",
       " 'wwe clips',\n",
       " 'wwe youtube',\n",
       " 'best of wwe',\n",
       " 'best wrestling distractions',\n",
       " 'Jennifer Lopez ft. Wisin',\n",
       " 'Jennifer Lopez ft. Wisin Music',\n",
       " 'Jennifer Lopez ft. Wisin Official Video',\n",
       " 'Jennifer Lopez ft. Wisin Video',\n",
       " 'Jennifer Lopez ft. Wisin Video Oficial',\n",
       " 'Jennifer Lopez ft. Wisin Nuevo Video',\n",
       " 'Jennifer Lopez ft. Wisin New Video',\n",
       " 'Amor',\n",
       " 'Amor Official Video',\n",
       " 'Official Video',\n",
       " 'Amor Single',\n",
       " 'Single',\n",
       " 'Jennifer Lopez ft. Wisin New Single',\n",
       " 'Jennifer Lopez ft. Wisin Single',\n",
       " 'Jennifer Lopez ft. Wisin Amor',\n",
       " 'Jennifer',\n",
       " 'Lopez',\n",
       " 'itsgrace',\n",
       " 'funny',\n",
       " 'comedy',\n",
       " 'vlog',\n",
       " 'grace',\n",
       " 'helbig',\n",
       " 'gracehelbig',\n",
       " 'dailygrace',\n",
       " 'daily',\n",
       " 'tutorial',\n",
       " 'diy',\n",
       " 'lifestyle',\n",
       " 'Graham Norton',\n",
       " 'Graham Norton Show Official',\n",
       " 'Entertainment',\n",
       " 'Chat Show',\n",
       " 'Graham Norton full episodes',\n",
       " 'the graham Norton show full eps',\n",
       " 'graham Norton full eps',\n",
       " 'watch graham Norton online',\n",
       " 'jason momoa',\n",
       " 'hugh grant',\n",
       " 'sarah millican',\n",
       " 'kelly clarkson',\n",
       " 'graham norton red chair',\n",
       " 'game of thrones',\n",
       " 'javale mcgee',\n",
       " 'golden state warriors',\n",
       " 'kevin durant',\n",
       " 'oakland',\n",
       " 'bay area',\n",
       " 'san francisco',\n",
       " 'oracle arena',\n",
       " 'e40',\n",
       " 'e-40',\n",
       " 'hip hop',\n",
       " 'rap',\n",
       " 'beats',\n",
       " 'beats by dre',\n",
       " 'life goes on',\n",
       " 'arthur',\n",
       " 'renowitzky',\n",
       " 'klay thompson',\n",
       " 'minnesota timberwolves',\n",
       " 'nick young',\n",
       " 'swaggy p',\n",
       " 'KELLYANNE CONWAY ROY MOORE',\n",
       " 'KELLYANNE CONWAY ROY MOORE THIS WEEK ABC',\n",
       " 'KELLYANNE CONWAY ROY MOORE THIS WEEK',\n",
       " 'KELLYANNE CONWAY THIS WEEK ABC 11/12/17',\n",
       " 'KELLYANNE CONWAY THIS WEEK ABC',\n",
       " 'KELLYANNE CONWAY',\n",
       " 'ROY MOORE',\n",
       " 'THIS WEEK ABC',\n",
       " 'POLITICS',\n",
       " '2017',\n",
       " 'viralhog',\n",
       " 'Crash',\n",
       " 'Fail',\n",
       " 'Featured',\n",
       " 'train',\n",
       " 'swipe',\n",
       " 'crashes',\n",
       " 'destroy',\n",
       " 'destroys',\n",
       " 'vehicle',\n",
       " 'parked',\n",
       " 'car',\n",
       " 'truck',\n",
       " 'Vietnam',\n",
       " 'accident',\n",
       " ...]"
      ]
     },
     "execution_count": 87,
     "metadata": {},
     "output_type": "execute_result"
    }
   ],
   "source": [
    "a"
   ]
  },
  {
   "cell_type": "code",
   "execution_count": 88,
   "metadata": {},
   "outputs": [
    {
     "data": {
      "text/html": [
       "<div>\n",
       "<style scoped>\n",
       "    .dataframe tbody tr th:only-of-type {\n",
       "        vertical-align: middle;\n",
       "    }\n",
       "\n",
       "    .dataframe tbody tr th {\n",
       "        vertical-align: top;\n",
       "    }\n",
       "\n",
       "    .dataframe thead th {\n",
       "        text-align: right;\n",
       "    }\n",
       "</style>\n",
       "<table border=\"1\" class=\"dataframe\">\n",
       "  <thead>\n",
       "    <tr style=\"text-align: right;\">\n",
       "      <th></th>\n",
       "      <th>Trend_day_count</th>\n",
       "    </tr>\n",
       "    <tr>\n",
       "      <th>category_id</th>\n",
       "      <th></th>\n",
       "    </tr>\n",
       "  </thead>\n",
       "  <tbody>\n",
       "    <tr>\n",
       "      <td>1</td>\n",
       "      <td>1109.0</td>\n",
       "    </tr>\n",
       "    <tr>\n",
       "      <td>2</td>\n",
       "      <td>266.0</td>\n",
       "    </tr>\n",
       "    <tr>\n",
       "      <td>10</td>\n",
       "      <td>2712.0</td>\n",
       "    </tr>\n",
       "    <tr>\n",
       "      <td>15</td>\n",
       "      <td>474.0</td>\n",
       "    </tr>\n",
       "    <tr>\n",
       "      <td>17</td>\n",
       "      <td>1282.0</td>\n",
       "    </tr>\n",
       "  </tbody>\n",
       "</table>\n",
       "</div>"
      ],
      "text/plain": [
       "             Trend_day_count\n",
       "category_id                 \n",
       "1                     1109.0\n",
       "2                      266.0\n",
       "10                    2712.0\n",
       "15                     474.0\n",
       "17                    1282.0"
      ]
     },
     "execution_count": 88,
     "metadata": {},
     "output_type": "execute_result"
    }
   ],
   "source": [
    "yt1 = yt[['category_id','Trend_day_count']]\n",
    "yt1 = yt1.groupby('category_id').sum()\n",
    "yt1.head()"
   ]
  },
  {
   "cell_type": "code",
   "execution_count": 89,
   "metadata": {},
   "outputs": [
    {
     "data": {
      "image/png": "[encoded data removed]",
      "text/plain": [
       "<Figure size 1440x2160 with 4 Axes>"
      ]
     },
     "metadata": {
      "needs_background": "light"
     },
     "output_type": "display_data"
    }
   ],
   "source": [
    "f,ax = plt.subplots(4,1, figsize=(20,30))\n",
    "views_by_categories_plot = sns.barplot(x=yt['category_id'], y=yt['views'], ax=ax[0])\n",
    "views_by_categories_plot.set_title('Number of Views Per Category') \n",
    "likes_by_categories_plot = sns.barplot(x=yt['category_id'], y=yt['likes'], ax=ax[1])\n",
    "likes_by_categories_plot.set_title('Number of Likes Per Category')     \n",
    "comment_count_by_categories_plot = sns.barplot(x=yt['category_id'], y=yt['comment_count'], ax=ax[2])\n",
    "comment_count_by_categories_plot.set_title('Number of Comments Per Category')  \n",
    "trend=sns.barplot(x=yt1.index,y='Trend_day_count',data=yt1,ax=ax[3])\n",
    "trend.set_title('Trend Day Count Per Category')\n",
    "plt.tight_layout()"
   ]
  },
  {
   "cell_type": "code",
   "execution_count": 90,
   "metadata": {},
   "outputs": [],
   "source": [
    "yt['description'].replace(' ',None,inplace=True)"
   ]
  },
  {
   "cell_type": "code",
   "execution_count": 91,
   "metadata": {
    "scrolled": true
   },
   "outputs": [
    {
     "data": {
      "text/html": [
       "<div>\n",
       "<style scoped>\n",
       "    .dataframe tbody tr th:only-of-type {\n",
       "        vertical-align: middle;\n",
       "    }\n",
       "\n",
       "    .dataframe tbody tr th {\n",
       "        vertical-align: top;\n",
       "    }\n",
       "\n",
       "    .dataframe thead th {\n",
       "        text-align: right;\n",
       "    }\n",
       "</style>\n",
       "<table border=\"1\" class=\"dataframe\">\n",
       "  <thead>\n",
       "    <tr style=\"text-align: right;\">\n",
       "      <th></th>\n",
       "      <th>category_id</th>\n",
       "      <th>subscriber</th>\n",
       "      <th>Trend_day_count</th>\n",
       "      <th>Tag_count</th>\n",
       "      <th>Trend_tag_count</th>\n",
       "      <th>comment_count</th>\n",
       "      <th>comment_disabled</th>\n",
       "      <th>like dislike disabled</th>\n",
       "      <th>likes</th>\n",
       "      <th>dislike</th>\n",
       "      <th>tag appered in title</th>\n",
       "      <th>views</th>\n",
       "    </tr>\n",
       "  </thead>\n",
       "  <tbody>\n",
       "    <tr>\n",
       "      <td>category_id</td>\n",
       "      <td>1.000000</td>\n",
       "      <td>0.006593</td>\n",
       "      <td>-0.003007</td>\n",
       "      <td>0.002937</td>\n",
       "      <td>0.006115</td>\n",
       "      <td>-0.019400</td>\n",
       "      <td>0.026730</td>\n",
       "      <td>-0.028196</td>\n",
       "      <td>0.012639</td>\n",
       "      <td>0.027060</td>\n",
       "      <td>-0.000724</td>\n",
       "      <td>-0.034605</td>\n",
       "    </tr>\n",
       "    <tr>\n",
       "      <td>subscriber</td>\n",
       "      <td>0.006593</td>\n",
       "      <td>1.000000</td>\n",
       "      <td>0.017404</td>\n",
       "      <td>0.005226</td>\n",
       "      <td>0.018866</td>\n",
       "      <td>0.007009</td>\n",
       "      <td>-0.018568</td>\n",
       "      <td>0.025300</td>\n",
       "      <td>-0.008670</td>\n",
       "      <td>-0.019457</td>\n",
       "      <td>0.011290</td>\n",
       "      <td>0.007253</td>\n",
       "    </tr>\n",
       "    <tr>\n",
       "      <td>Trend_day_count</td>\n",
       "      <td>-0.003007</td>\n",
       "      <td>0.017404</td>\n",
       "      <td>1.000000</td>\n",
       "      <td>-0.016251</td>\n",
       "      <td>-0.016334</td>\n",
       "      <td>0.014671</td>\n",
       "      <td>-0.013025</td>\n",
       "      <td>0.014632</td>\n",
       "      <td>-0.019945</td>\n",
       "      <td>-0.026104</td>\n",
       "      <td>-0.011377</td>\n",
       "      <td>0.012969</td>\n",
       "    </tr>\n",
       "    <tr>\n",
       "      <td>Tag_count</td>\n",
       "      <td>0.002937</td>\n",
       "      <td>0.005226</td>\n",
       "      <td>-0.016251</td>\n",
       "      <td>1.000000</td>\n",
       "      <td>0.004841</td>\n",
       "      <td>-0.011970</td>\n",
       "      <td>0.007560</td>\n",
       "      <td>0.011157</td>\n",
       "      <td>-0.031040</td>\n",
       "      <td>-0.014249</td>\n",
       "      <td>-0.014668</td>\n",
       "      <td>-0.001313</td>\n",
       "    </tr>\n",
       "    <tr>\n",
       "      <td>Trend_tag_count</td>\n",
       "      <td>0.006115</td>\n",
       "      <td>0.018866</td>\n",
       "      <td>-0.016334</td>\n",
       "      <td>0.004841</td>\n",
       "      <td>1.000000</td>\n",
       "      <td>0.008777</td>\n",
       "      <td>-0.005807</td>\n",
       "      <td>-0.002206</td>\n",
       "      <td>-0.017432</td>\n",
       "      <td>-0.004053</td>\n",
       "      <td>0.011270</td>\n",
       "      <td>-0.026995</td>\n",
       "    </tr>\n",
       "    <tr>\n",
       "      <td>comment_count</td>\n",
       "      <td>-0.019400</td>\n",
       "      <td>0.007009</td>\n",
       "      <td>0.014671</td>\n",
       "      <td>-0.011970</td>\n",
       "      <td>0.008777</td>\n",
       "      <td>1.000000</td>\n",
       "      <td>-0.753935</td>\n",
       "      <td>-0.007766</td>\n",
       "      <td>0.002386</td>\n",
       "      <td>0.004733</td>\n",
       "      <td>0.002635</td>\n",
       "      <td>0.039990</td>\n",
       "    </tr>\n",
       "    <tr>\n",
       "      <td>comment_disabled</td>\n",
       "      <td>0.026730</td>\n",
       "      <td>-0.018568</td>\n",
       "      <td>-0.013025</td>\n",
       "      <td>0.007560</td>\n",
       "      <td>-0.005807</td>\n",
       "      <td>-0.753935</td>\n",
       "      <td>1.000000</td>\n",
       "      <td>0.008653</td>\n",
       "      <td>-0.018767</td>\n",
       "      <td>-0.020235</td>\n",
       "      <td>0.015268</td>\n",
       "      <td>-0.023493</td>\n",
       "    </tr>\n",
       "    <tr>\n",
       "      <td>like dislike disabled</td>\n",
       "      <td>-0.028196</td>\n",
       "      <td>0.025300</td>\n",
       "      <td>0.014632</td>\n",
       "      <td>0.011157</td>\n",
       "      <td>-0.002206</td>\n",
       "      <td>-0.007766</td>\n",
       "      <td>0.008653</td>\n",
       "      <td>1.000000</td>\n",
       "      <td>-0.258874</td>\n",
       "      <td>-0.710661</td>\n",
       "      <td>0.012127</td>\n",
       "      <td>0.017873</td>\n",
       "    </tr>\n",
       "    <tr>\n",
       "      <td>likes</td>\n",
       "      <td>0.012639</td>\n",
       "      <td>-0.008670</td>\n",
       "      <td>-0.019945</td>\n",
       "      <td>-0.031040</td>\n",
       "      <td>-0.017432</td>\n",
       "      <td>0.002386</td>\n",
       "      <td>-0.018767</td>\n",
       "      <td>-0.258874</td>\n",
       "      <td>1.000000</td>\n",
       "      <td>0.294931</td>\n",
       "      <td>-0.023060</td>\n",
       "      <td>-0.007377</td>\n",
       "    </tr>\n",
       "    <tr>\n",
       "      <td>dislike</td>\n",
       "      <td>0.027060</td>\n",
       "      <td>-0.019457</td>\n",
       "      <td>-0.026104</td>\n",
       "      <td>-0.014249</td>\n",
       "      <td>-0.004053</td>\n",
       "      <td>0.004733</td>\n",
       "      <td>-0.020235</td>\n",
       "      <td>-0.710661</td>\n",
       "      <td>0.294931</td>\n",
       "      <td>1.000000</td>\n",
       "      <td>-0.005175</td>\n",
       "      <td>-0.025023</td>\n",
       "    </tr>\n",
       "    <tr>\n",
       "      <td>tag appered in title</td>\n",
       "      <td>-0.000724</td>\n",
       "      <td>0.011290</td>\n",
       "      <td>-0.011377</td>\n",
       "      <td>-0.014668</td>\n",
       "      <td>0.011270</td>\n",
       "      <td>0.002635</td>\n",
       "      <td>0.015268</td>\n",
       "      <td>0.012127</td>\n",
       "      <td>-0.023060</td>\n",
       "      <td>-0.005175</td>\n",
       "      <td>1.000000</td>\n",
       "      <td>0.015238</td>\n",
       "    </tr>\n",
       "    <tr>\n",
       "      <td>views</td>\n",
       "      <td>-0.034605</td>\n",
       "      <td>0.007253</td>\n",
       "      <td>0.012969</td>\n",
       "      <td>-0.001313</td>\n",
       "      <td>-0.026995</td>\n",
       "      <td>0.039990</td>\n",
       "      <td>-0.023493</td>\n",
       "      <td>0.017873</td>\n",
       "      <td>-0.007377</td>\n",
       "      <td>-0.025023</td>\n",
       "      <td>0.015238</td>\n",
       "      <td>1.000000</td>\n",
       "    </tr>\n",
       "  </tbody>\n",
       "</table>\n",
       "</div>"
      ],
      "text/plain": [
       "                       category_id  subscriber  Trend_day_count  Tag_count  \\\n",
       "category_id               1.000000    0.006593        -0.003007   0.002937   \n",
       "subscriber                0.006593    1.000000         0.017404   0.005226   \n",
       "Trend_day_count          -0.003007    0.017404         1.000000  -0.016251   \n",
       "Tag_count                 0.002937    0.005226        -0.016251   1.000000   \n",
       "Trend_tag_count           0.006115    0.018866        -0.016334   0.004841   \n",
       "comment_count            -0.019400    0.007009         0.014671  -0.011970   \n",
       "comment_disabled          0.026730   -0.018568        -0.013025   0.007560   \n",
       "like dislike disabled    -0.028196    0.025300         0.014632   0.011157   \n",
       "likes                     0.012639   -0.008670        -0.019945  -0.031040   \n",
       "dislike                   0.027060   -0.019457        -0.026104  -0.014249   \n",
       "tag appered in title     -0.000724    0.011290        -0.011377  -0.014668   \n",
       "views                    -0.034605    0.007253         0.012969  -0.001313   \n",
       "\n",
       "                       Trend_tag_count  comment_count  comment_disabled  \\\n",
       "category_id                   0.006115      -0.019400          0.026730   \n",
       "subscriber                    0.018866       0.007009         -0.018568   \n",
       "Trend_day_count              -0.016334       0.014671         -0.013025   \n",
       "Tag_count                     0.004841      -0.011970          0.007560   \n",
       "Trend_tag_count               1.000000       0.008777         -0.005807   \n",
       "comment_count                 0.008777       1.000000         -0.753935   \n",
       "comment_disabled             -0.005807      -0.753935          1.000000   \n",
       "like dislike disabled        -0.002206      -0.007766          0.008653   \n",
       "likes                        -0.017432       0.002386         -0.018767   \n",
       "dislike                      -0.004053       0.004733         -0.020235   \n",
       "tag appered in title          0.011270       0.002635          0.015268   \n",
       "views                        -0.026995       0.039990         -0.023493   \n",
       "\n",
       "                       like dislike disabled     likes   dislike  \\\n",
       "category_id                        -0.028196  0.012639  0.027060   \n",
       "subscriber                          0.025300 -0.008670 -0.019457   \n",
       "Trend_day_count                     0.014632 -0.019945 -0.026104   \n",
       "Tag_count                           0.011157 -0.031040 -0.014249   \n",
       "Trend_tag_count                    -0.002206 -0.017432 -0.004053   \n",
       "comment_count                      -0.007766  0.002386  0.004733   \n",
       "comment_disabled                    0.008653 -0.018767 -0.020235   \n",
       "like dislike disabled               1.000000 -0.258874 -0.710661   \n",
       "likes                              -0.258874  1.000000  0.294931   \n",
       "dislike                            -0.710661  0.294931  1.000000   \n",
       "tag appered in title                0.012127 -0.023060 -0.005175   \n",
       "views                               0.017873 -0.007377 -0.025023   \n",
       "\n",
       "                       tag appered in title     views  \n",
       "category_id                       -0.000724 -0.034605  \n",
       "subscriber                         0.011290  0.007253  \n",
       "Trend_day_count                   -0.011377  0.012969  \n",
       "Tag_count                         -0.014668 -0.001313  \n",
       "Trend_tag_count                    0.011270 -0.026995  \n",
       "comment_count                      0.002635  0.039990  \n",
       "comment_disabled                   0.015268 -0.023493  \n",
       "like dislike disabled              0.012127  0.017873  \n",
       "likes                             -0.023060 -0.007377  \n",
       "dislike                           -0.005175 -0.025023  \n",
       "tag appered in title               1.000000  0.015238  \n",
       "views                              0.015238  1.000000  "
      ]
     },
     "execution_count": 91,
     "metadata": {},
     "output_type": "execute_result"
    }
   ],
   "source": [
    "yt.corr()"
   ]
  },
  {
   "cell_type": "code",
   "execution_count": 92,
   "metadata": {},
   "outputs": [
    {
     "data": {
      "text/html": [
       "<div>\n",
       "<style scoped>\n",
       "    .dataframe tbody tr th:only-of-type {\n",
       "        vertical-align: middle;\n",
       "    }\n",
       "\n",
       "    .dataframe tbody tr th {\n",
       "        vertical-align: top;\n",
       "    }\n",
       "\n",
       "    .dataframe thead th {\n",
       "        text-align: right;\n",
       "    }\n",
       "</style>\n",
       "<table border=\"1\" class=\"dataframe\">\n",
       "  <thead>\n",
       "    <tr style=\"text-align: right;\">\n",
       "      <th></th>\n",
       "      <th>Video_id</th>\n",
       "      <th>category_id</th>\n",
       "      <th>channel_title</th>\n",
       "      <th>subscriber</th>\n",
       "      <th>title</th>\n",
       "      <th>tags</th>\n",
       "      <th>description</th>\n",
       "      <th>Trend_day_count</th>\n",
       "      <th>Tag_count</th>\n",
       "      <th>Trend_tag_count</th>\n",
       "      <th>comment_count</th>\n",
       "      <th>comment_disabled</th>\n",
       "      <th>like dislike disabled</th>\n",
       "      <th>likes</th>\n",
       "      <th>dislike</th>\n",
       "      <th>tag appered in title</th>\n",
       "      <th>views</th>\n",
       "      <th>number_of_tags</th>\n",
       "    </tr>\n",
       "  </thead>\n",
       "  <tbody>\n",
       "    <tr>\n",
       "      <td>28</td>\n",
       "      <td>ZUW72GLK1</td>\n",
       "      <td>1</td>\n",
       "      <td>FaeryInLoveInc</td>\n",
       "      <td>44.0</td>\n",
       "      <td>Nick Andopolis: Drummer</td>\n",
       "      <td>freaks and geeks|jason segel|judd apatow|drums...</td>\n",
       "      <td>The opening of Freaks and Geeks Episode 6, I'm...</td>\n",
       "      <td>12.0</td>\n",
       "      <td>21</td>\n",
       "      <td>1</td>\n",
       "      <td>273491</td>\n",
       "      <td>False</td>\n",
       "      <td>True</td>\n",
       "      <td>0</td>\n",
       "      <td>0</td>\n",
       "      <td>True</td>\n",
       "      <td>989873537</td>\n",
       "      <td>None</td>\n",
       "    </tr>\n",
       "    <tr>\n",
       "      <td>1450</td>\n",
       "      <td>LWN89WY^61</td>\n",
       "      <td>24</td>\n",
       "      <td>The Late Show with Stephen Colbert</td>\n",
       "      <td>3965373.0</td>\n",
       "      <td>Tom Hanks And Stephen Argue Christmas Tree Tec...</td>\n",
       "      <td>The Late Show|Stephen Colbert|Colbert|Late Sho...</td>\n",
       "      <td>'The Post' star Tom Hanks and Stephen debate t...</td>\n",
       "      <td>10.0</td>\n",
       "      <td>14</td>\n",
       "      <td>6</td>\n",
       "      <td>0</td>\n",
       "      <td>True</td>\n",
       "      <td>False</td>\n",
       "      <td>10406</td>\n",
       "      <td>3064</td>\n",
       "      <td>False</td>\n",
       "      <td>100360000</td>\n",
       "      <td>None</td>\n",
       "    </tr>\n",
       "    <tr>\n",
       "      <td>2338</td>\n",
       "      <td>AJB53GU]16</td>\n",
       "      <td>24</td>\n",
       "      <td>TheReportOfTheWeek</td>\n",
       "      <td>770330.0</td>\n",
       "      <td>Checking Out the New McDonald’s Dollar Menu</td>\n",
       "      <td>reviewbrah|mcdonalds|burger|sandwich|dollar me...</td>\n",
       "      <td>Trying out the new Dollar Menu from McDonald's...</td>\n",
       "      <td>1.0</td>\n",
       "      <td>9</td>\n",
       "      <td>3</td>\n",
       "      <td>190283</td>\n",
       "      <td>False</td>\n",
       "      <td>False</td>\n",
       "      <td>7559</td>\n",
       "      <td>1871</td>\n",
       "      <td>True</td>\n",
       "      <td>598795075</td>\n",
       "      <td>None</td>\n",
       "    </tr>\n",
       "  </tbody>\n",
       "</table>\n",
       "</div>"
      ],
      "text/plain": [
       "        Video_id  category_id                       channel_title  subscriber  \\\n",
       "28     ZUW72GLK1            1                      FaeryInLoveInc        44.0   \n",
       "1450  LWN89WY^61           24  The Late Show with Stephen Colbert   3965373.0   \n",
       "2338  AJB53GU]16           24                  TheReportOfTheWeek    770330.0   \n",
       "\n",
       "                                                  title  \\\n",
       "28                              Nick Andopolis: Drummer   \n",
       "1450  Tom Hanks And Stephen Argue Christmas Tree Tec...   \n",
       "2338        Checking Out the New McDonald’s Dollar Menu   \n",
       "\n",
       "                                                   tags  \\\n",
       "28    freaks and geeks|jason segel|judd apatow|drums...   \n",
       "1450  The Late Show|Stephen Colbert|Colbert|Late Sho...   \n",
       "2338  reviewbrah|mcdonalds|burger|sandwich|dollar me...   \n",
       "\n",
       "                                            description  Trend_day_count  \\\n",
       "28    The opening of Freaks and Geeks Episode 6, I'm...             12.0   \n",
       "1450  'The Post' star Tom Hanks and Stephen debate t...             10.0   \n",
       "2338  Trying out the new Dollar Menu from McDonald's...              1.0   \n",
       "\n",
       "      Tag_count  Trend_tag_count  comment_count  comment_disabled  \\\n",
       "28           21                1         273491             False   \n",
       "1450         14                6              0              True   \n",
       "2338          9                3         190283             False   \n",
       "\n",
       "      like dislike disabled  likes  dislike  tag appered in title      views  \\\n",
       "28                     True      0        0                  True  989873537   \n",
       "1450                  False  10406     3064                 False  100360000   \n",
       "2338                  False   7559     1871                  True  598795075   \n",
       "\n",
       "     number_of_tags  \n",
       "28             None  \n",
       "1450           None  \n",
       "2338           None  "
      ]
     },
     "execution_count": 92,
     "metadata": {},
     "output_type": "execute_result"
    }
   ],
   "source": [
    "outliers = yt[yt['views'] > (yt['views'].mean() + 3 * yt['views'].std())]\n",
    "outliers#Finding value of outliers"
   ]
  },
  {
   "cell_type": "code",
   "execution_count": 93,
   "metadata": {},
   "outputs": [
    {
     "data": {
      "text/plain": [
       "<seaborn.axisgrid.FacetGrid at 0x255cf8065c8>"
      ]
     },
     "execution_count": 93,
     "metadata": {},
     "output_type": "execute_result"
    },
    {
     "data": {
      "image/png": "[encoded data removed]",
      "text/plain": [
       "<Figure size 360x360 with 1 Axes>"
      ]
     },
     "metadata": {
      "needs_background": "light"
     },
     "output_type": "display_data"
    }
   ],
   "source": [
    "sns.relplot(x='subscriber',y='likes',data=yt,markers='x',palette='r')"
   ]
  },
  {
   "cell_type": "code",
   "execution_count": 94,
   "metadata": {},
   "outputs": [],
   "source": [
    "yt=yt[~(yt.likes>1e6)]#Converting 10^6 to 1e6"
   ]
  },
  {
   "cell_type": "code",
   "execution_count": 95,
   "metadata": {},
   "outputs": [
    {
     "data": {
      "text/plain": [
       "<seaborn.axisgrid.FacetGrid at 0x255cf790d08>"
      ]
     },
     "execution_count": 95,
     "metadata": {},
     "output_type": "execute_result"
    },
    {
     "data": {
      "image/png": "[encoded data removed]",
      "text/plain": [
       "<Figure size 360x360 with 1 Axes>"
      ]
     },
     "metadata": {
      "needs_background": "light"
     },
     "output_type": "display_data"
    }
   ],
   "source": [
    "sns.relplot(x='subscriber',y='likes',data=yt,markers='x',palette='r')"
   ]
  },
  {
   "cell_type": "code",
   "execution_count": 96,
   "metadata": {},
   "outputs": [
    {
     "data": {
      "text/html": [
       "<div>\n",
       "<style scoped>\n",
       "    .dataframe tbody tr th:only-of-type {\n",
       "        vertical-align: middle;\n",
       "    }\n",
       "\n",
       "    .dataframe tbody tr th {\n",
       "        vertical-align: top;\n",
       "    }\n",
       "\n",
       "    .dataframe thead th {\n",
       "        text-align: right;\n",
       "    }\n",
       "</style>\n",
       "<table border=\"1\" class=\"dataframe\">\n",
       "  <thead>\n",
       "    <tr style=\"text-align: right;\">\n",
       "      <th></th>\n",
       "      <th>Trend_day_count</th>\n",
       "    </tr>\n",
       "    <tr>\n",
       "      <th>tag appered in title</th>\n",
       "      <th></th>\n",
       "    </tr>\n",
       "  </thead>\n",
       "  <tbody>\n",
       "    <tr>\n",
       "      <td>False</td>\n",
       "      <td>7086.0</td>\n",
       "    </tr>\n",
       "    <tr>\n",
       "      <td>True</td>\n",
       "      <td>13656.0</td>\n",
       "    </tr>\n",
       "  </tbody>\n",
       "</table>\n",
       "</div>"
      ],
      "text/plain": [
       "                      Trend_day_count\n",
       "tag appered in title                 \n",
       "False                          7086.0\n",
       "True                          13656.0"
      ]
     },
     "execution_count": 96,
     "metadata": {},
     "output_type": "execute_result"
    }
   ],
   "source": [
    "yt3 = yt[['tag appered in title','Trend_day_count']].groupby('tag appered in title').sum()\n",
    "yt3"
   ]
  },
  {
   "cell_type": "code",
   "execution_count": 97,
   "metadata": {},
   "outputs": [
    {
     "data": {
      "image/png": "[encoded data removed]",
      "text/plain": [
       "<Figure size 432x288 with 1 Axes>"
      ]
     },
     "metadata": {},
     "output_type": "display_data"
    }
   ],
   "source": [
    "plt.pie(yt3['Trend_day_count'],labels=yt3.index,autopct='%.3f')\n",
    "plt.show()"
   ]
  },
  {
   "cell_type": "code",
   "execution_count": 98,
   "metadata": {},
   "outputs": [
    {
     "data": {
      "text/plain": [
       "0    1978978\n",
       "1    1487870\n",
       "2    1502102\n",
       "3    3519302\n",
       "4    4835374\n",
       "Name: views, dtype: int64"
      ]
     },
     "execution_count": 98,
     "metadata": {},
     "output_type": "execute_result"
    }
   ],
   "source": [
    "y = yt['views']\n",
    "y.head()"
   ]
  },
  {
   "cell_type": "code",
   "execution_count": 99,
   "metadata": {},
   "outputs": [
    {
     "data": {
      "text/html": [
       "<div>\n",
       "<style scoped>\n",
       "    .dataframe tbody tr th:only-of-type {\n",
       "        vertical-align: middle;\n",
       "    }\n",
       "\n",
       "    .dataframe tbody tr th {\n",
       "        vertical-align: top;\n",
       "    }\n",
       "\n",
       "    .dataframe thead th {\n",
       "        text-align: right;\n",
       "    }\n",
       "</style>\n",
       "<table border=\"1\" class=\"dataframe\">\n",
       "  <thead>\n",
       "    <tr style=\"text-align: right;\">\n",
       "      <th></th>\n",
       "      <th>category_id</th>\n",
       "      <th>subscriber</th>\n",
       "      <th>Trend_day_count</th>\n",
       "    </tr>\n",
       "  </thead>\n",
       "  <tbody>\n",
       "    <tr>\n",
       "      <td>0</td>\n",
       "      <td>22</td>\n",
       "      <td>9086142.0</td>\n",
       "      <td>6.0</td>\n",
       "    </tr>\n",
       "    <tr>\n",
       "      <td>1</td>\n",
       "      <td>24</td>\n",
       "      <td>5937292.0</td>\n",
       "      <td>1.0</td>\n",
       "    </tr>\n",
       "    <tr>\n",
       "      <td>2</td>\n",
       "      <td>23</td>\n",
       "      <td>4191209.0</td>\n",
       "      <td>10.0</td>\n",
       "    </tr>\n",
       "    <tr>\n",
       "      <td>3</td>\n",
       "      <td>24</td>\n",
       "      <td>13186408.0</td>\n",
       "      <td>12.0</td>\n",
       "    </tr>\n",
       "    <tr>\n",
       "      <td>4</td>\n",
       "      <td>24</td>\n",
       "      <td>20563106.0</td>\n",
       "      <td>11.0</td>\n",
       "    </tr>\n",
       "  </tbody>\n",
       "</table>\n",
       "</div>"
      ],
      "text/plain": [
       "   category_id  subscriber  Trend_day_count\n",
       "0           22   9086142.0              6.0\n",
       "1           24   5937292.0              1.0\n",
       "2           23   4191209.0             10.0\n",
       "3           24  13186408.0             12.0\n",
       "4           24  20563106.0             11.0"
      ]
     },
     "execution_count": 99,
     "metadata": {},
     "output_type": "execute_result"
    }
   ],
   "source": [
    "X = yt[['category_id','subscriber','Trend_day_count']]\n",
    "X.head()"
   ]
  },
  {
   "cell_type": "code",
   "execution_count": 101,
   "metadata": {},
   "outputs": [
    {
     "ename": "RuntimeWarning",
     "evalue": "numpy.ufunc size changed, may indicate binary incompatibility. Expected 192 from C header, got 216 from PyObject",
     "output_type": "error",
     "traceback": [
      "\u001b[1;31m---------------------------------------------------------------------------\u001b[0m",
      "\u001b[1;31mRuntimeWarning\u001b[0m                            Traceback (most recent call last)",
      "\u001b[1;32m<ipython-input-101-b66d8df2921e>\u001b[0m in \u001b[0;36m<module>\u001b[1;34m\u001b[0m\n\u001b[1;32m----> 1\u001b[1;33m \u001b[1;32mfrom\u001b[0m \u001b[0msklearn\u001b[0m\u001b[1;33m.\u001b[0m\u001b[0mmodel_selection\u001b[0m \u001b[1;32mimport\u001b[0m \u001b[0mtrain_test_split\u001b[0m\u001b[1;33m\u001b[0m\u001b[1;33m\u001b[0m\u001b[0m\n\u001b[0m\u001b[0;32m      2\u001b[0m \u001b[1;33m\u001b[0m\u001b[0m\n\u001b[0;32m      3\u001b[0m \u001b[0mX_train\u001b[0m\u001b[1;33m,\u001b[0m\u001b[0mX_test\u001b[0m\u001b[1;33m,\u001b[0m\u001b[0my_train\u001b[0m\u001b[1;33m,\u001b[0m\u001b[0my_test\u001b[0m \u001b[1;33m=\u001b[0m \u001b[0mtrain_test_split\u001b[0m\u001b[1;33m(\u001b[0m\u001b[0mX\u001b[0m\u001b[1;33m,\u001b[0m\u001b[0my\u001b[0m\u001b[1;33m,\u001b[0m\u001b[0mtest_size\u001b[0m\u001b[1;33m=\u001b[0m\u001b[1;36m0.3\u001b[0m\u001b[1;33m,\u001b[0m\u001b[0mshuffle\u001b[0m\u001b[1;33m=\u001b[0m\u001b[1;32mTrue\u001b[0m\u001b[1;33m)\u001b[0m\u001b[1;33m\u001b[0m\u001b[1;33m\u001b[0m\u001b[0m\n",
      "\u001b[1;32m~\\Anaconda3\\lib\\site-packages\\sklearn\\model_selection\\__init__.py\u001b[0m in \u001b[0;36m<module>\u001b[1;34m\u001b[0m\n\u001b[0;32m     17\u001b[0m \u001b[1;32mfrom\u001b[0m \u001b[1;33m.\u001b[0m\u001b[0m_split\u001b[0m \u001b[1;32mimport\u001b[0m \u001b[0mcheck_cv\u001b[0m\u001b[1;33m\u001b[0m\u001b[1;33m\u001b[0m\u001b[0m\n\u001b[0;32m     18\u001b[0m \u001b[1;33m\u001b[0m\u001b[0m\n\u001b[1;32m---> 19\u001b[1;33m \u001b[1;32mfrom\u001b[0m \u001b[1;33m.\u001b[0m\u001b[0m_validation\u001b[0m \u001b[1;32mimport\u001b[0m \u001b[0mcross_val_score\u001b[0m\u001b[1;33m\u001b[0m\u001b[1;33m\u001b[0m\u001b[0m\n\u001b[0m\u001b[0;32m     20\u001b[0m \u001b[1;32mfrom\u001b[0m \u001b[1;33m.\u001b[0m\u001b[0m_validation\u001b[0m \u001b[1;32mimport\u001b[0m \u001b[0mcross_val_predict\u001b[0m\u001b[1;33m\u001b[0m\u001b[1;33m\u001b[0m\u001b[0m\n\u001b[0;32m     21\u001b[0m \u001b[1;32mfrom\u001b[0m \u001b[1;33m.\u001b[0m\u001b[0m_validation\u001b[0m \u001b[1;32mimport\u001b[0m \u001b[0mcross_validate\u001b[0m\u001b[1;33m\u001b[0m\u001b[1;33m\u001b[0m\u001b[0m\n",
      "\u001b[1;32m~\\Anaconda3\\lib\\site-packages\\sklearn\\model_selection\\_validation.py\u001b[0m in \u001b[0;36m<module>\u001b[1;34m\u001b[0m\n\u001b[0;32m     25\u001b[0m \u001b[1;32mfrom\u001b[0m \u001b[1;33m.\u001b[0m\u001b[1;33m.\u001b[0m\u001b[0mutils\u001b[0m\u001b[1;33m.\u001b[0m\u001b[0mmetaestimators\u001b[0m \u001b[1;32mimport\u001b[0m \u001b[0m_safe_split\u001b[0m\u001b[1;33m\u001b[0m\u001b[1;33m\u001b[0m\u001b[0m\n\u001b[0;32m     26\u001b[0m \u001b[1;32mfrom\u001b[0m \u001b[1;33m.\u001b[0m\u001b[1;33m.\u001b[0m\u001b[0mutils\u001b[0m\u001b[1;33m.\u001b[0m\u001b[0m_joblib\u001b[0m \u001b[1;32mimport\u001b[0m \u001b[0mParallel\u001b[0m\u001b[1;33m,\u001b[0m \u001b[0mdelayed\u001b[0m\u001b[1;33m\u001b[0m\u001b[1;33m\u001b[0m\u001b[0m\n\u001b[1;32m---> 27\u001b[1;33m \u001b[1;32mfrom\u001b[0m \u001b[1;33m.\u001b[0m\u001b[1;33m.\u001b[0m\u001b[0mmetrics\u001b[0m\u001b[1;33m.\u001b[0m\u001b[0mscorer\u001b[0m \u001b[1;32mimport\u001b[0m \u001b[0mcheck_scoring\u001b[0m\u001b[1;33m,\u001b[0m \u001b[0m_check_multimetric_scoring\u001b[0m\u001b[1;33m\u001b[0m\u001b[1;33m\u001b[0m\u001b[0m\n\u001b[0m\u001b[0;32m     28\u001b[0m \u001b[1;32mfrom\u001b[0m \u001b[1;33m.\u001b[0m\u001b[1;33m.\u001b[0m\u001b[0mexceptions\u001b[0m \u001b[1;32mimport\u001b[0m \u001b[0mFitFailedWarning\u001b[0m\u001b[1;33m\u001b[0m\u001b[1;33m\u001b[0m\u001b[0m\n\u001b[0;32m     29\u001b[0m \u001b[1;32mfrom\u001b[0m \u001b[1;33m.\u001b[0m\u001b[0m_split\u001b[0m \u001b[1;32mimport\u001b[0m \u001b[0mcheck_cv\u001b[0m\u001b[1;33m\u001b[0m\u001b[1;33m\u001b[0m\u001b[0m\n",
      "\u001b[1;32m~\\Anaconda3\\lib\\site-packages\\sklearn\\metrics\\__init__.py\u001b[0m in \u001b[0;36m<module>\u001b[1;34m\u001b[0m\n\u001b[0;32m     34\u001b[0m \u001b[1;32mfrom\u001b[0m \u001b[1;33m.\u001b[0m\u001b[0mclassification\u001b[0m \u001b[1;32mimport\u001b[0m \u001b[0mmultilabel_confusion_matrix\u001b[0m\u001b[1;33m\u001b[0m\u001b[1;33m\u001b[0m\u001b[0m\n\u001b[0;32m     35\u001b[0m \u001b[1;33m\u001b[0m\u001b[0m\n\u001b[1;32m---> 36\u001b[1;33m \u001b[1;32mfrom\u001b[0m \u001b[1;33m.\u001b[0m \u001b[1;32mimport\u001b[0m \u001b[0mcluster\u001b[0m\u001b[1;33m\u001b[0m\u001b[1;33m\u001b[0m\u001b[0m\n\u001b[0m\u001b[0;32m     37\u001b[0m \u001b[1;32mfrom\u001b[0m \u001b[1;33m.\u001b[0m\u001b[0mcluster\u001b[0m \u001b[1;32mimport\u001b[0m \u001b[0madjusted_mutual_info_score\u001b[0m\u001b[1;33m\u001b[0m\u001b[1;33m\u001b[0m\u001b[0m\n\u001b[0;32m     38\u001b[0m \u001b[1;32mfrom\u001b[0m \u001b[1;33m.\u001b[0m\u001b[0mcluster\u001b[0m \u001b[1;32mimport\u001b[0m \u001b[0madjusted_rand_score\u001b[0m\u001b[1;33m\u001b[0m\u001b[1;33m\u001b[0m\u001b[0m\n",
      "\u001b[1;32m~\\Anaconda3\\lib\\site-packages\\sklearn\\metrics\\cluster\\__init__.py\u001b[0m in \u001b[0;36m<module>\u001b[1;34m\u001b[0m\n\u001b[0;32m      6\u001b[0m \u001b[1;33m-\u001b[0m \u001b[0munsupervised\u001b[0m\u001b[1;33m,\u001b[0m \u001b[0mwhich\u001b[0m \u001b[0mdoes\u001b[0m \u001b[1;32mnot\u001b[0m \u001b[1;32mand\u001b[0m \u001b[0mmeasures\u001b[0m \u001b[0mthe\u001b[0m \u001b[1;34m'quality'\u001b[0m \u001b[0mof\u001b[0m \u001b[0mthe\u001b[0m \u001b[0mmodel\u001b[0m \u001b[0mitself\u001b[0m\u001b[1;33m.\u001b[0m\u001b[1;33m\u001b[0m\u001b[1;33m\u001b[0m\u001b[0m\n\u001b[0;32m      7\u001b[0m \"\"\"\n\u001b[1;32m----> 8\u001b[1;33m \u001b[1;32mfrom\u001b[0m \u001b[1;33m.\u001b[0m\u001b[0msupervised\u001b[0m \u001b[1;32mimport\u001b[0m \u001b[0madjusted_mutual_info_score\u001b[0m\u001b[1;33m\u001b[0m\u001b[1;33m\u001b[0m\u001b[0m\n\u001b[0m\u001b[0;32m      9\u001b[0m \u001b[1;32mfrom\u001b[0m \u001b[1;33m.\u001b[0m\u001b[0msupervised\u001b[0m \u001b[1;32mimport\u001b[0m \u001b[0mnormalized_mutual_info_score\u001b[0m\u001b[1;33m\u001b[0m\u001b[1;33m\u001b[0m\u001b[0m\n\u001b[0;32m     10\u001b[0m \u001b[1;32mfrom\u001b[0m \u001b[1;33m.\u001b[0m\u001b[0msupervised\u001b[0m \u001b[1;32mimport\u001b[0m \u001b[0madjusted_rand_score\u001b[0m\u001b[1;33m\u001b[0m\u001b[1;33m\u001b[0m\u001b[0m\n",
      "\u001b[1;32m~\\Anaconda3\\lib\\site-packages\\sklearn\\metrics\\cluster\\supervised.py\u001b[0m in \u001b[0;36m<module>\u001b[1;34m\u001b[0m\n\u001b[0;32m     22\u001b[0m \u001b[1;32mfrom\u001b[0m \u001b[0mscipy\u001b[0m \u001b[1;32mimport\u001b[0m \u001b[0msparse\u001b[0m \u001b[1;32mas\u001b[0m \u001b[0msp\u001b[0m\u001b[1;33m\u001b[0m\u001b[1;33m\u001b[0m\u001b[0m\n\u001b[0;32m     23\u001b[0m \u001b[1;33m\u001b[0m\u001b[0m\n\u001b[1;32m---> 24\u001b[1;33m \u001b[1;32mfrom\u001b[0m \u001b[1;33m.\u001b[0m\u001b[0mexpected_mutual_info_fast\u001b[0m \u001b[1;32mimport\u001b[0m \u001b[0mexpected_mutual_information\u001b[0m\u001b[1;33m\u001b[0m\u001b[1;33m\u001b[0m\u001b[0m\n\u001b[0m\u001b[0;32m     25\u001b[0m \u001b[1;32mfrom\u001b[0m \u001b[1;33m...\u001b[0m\u001b[0mutils\u001b[0m\u001b[1;33m.\u001b[0m\u001b[0mvalidation\u001b[0m \u001b[1;32mimport\u001b[0m \u001b[0mcheck_array\u001b[0m\u001b[1;33m\u001b[0m\u001b[1;33m\u001b[0m\u001b[0m\n\u001b[0;32m     26\u001b[0m \u001b[1;32mfrom\u001b[0m \u001b[1;33m...\u001b[0m\u001b[0mutils\u001b[0m\u001b[1;33m.\u001b[0m\u001b[0mfixes\u001b[0m \u001b[1;32mimport\u001b[0m \u001b[0mcomb\u001b[0m\u001b[1;33m,\u001b[0m \u001b[0m_astype_copy_false\u001b[0m\u001b[1;33m\u001b[0m\u001b[1;33m\u001b[0m\u001b[0m\n",
      "\u001b[1;32m__init__.pxd\u001b[0m in \u001b[0;36minit sklearn.metrics.cluster.expected_mutual_info_fast\u001b[1;34m()\u001b[0m\n",
      "\u001b[1;31mRuntimeWarning\u001b[0m: numpy.ufunc size changed, may indicate binary incompatibility. Expected 192 from C header, got 216 from PyObject"
     ]
    }
   ],
   "source": [
    "from sklearn.model_selection import train_test_split\n",
    "\n",
    "X_train,X_test,y_train,y_test = train_test_split(X,y,test_size=0.3,shuffle=True)"
   ]
  },
  {
   "cell_type": "code",
   "execution_count": null,
   "metadata": {
    "scrolled": true
   },
   "outputs": [],
   "source": [
    "X = yt[['category_id','subscriber','Trend_day_count']]\n",
    "X.head()"
   ]
  },
  {
   "cell_type": "code",
   "execution_count": null,
   "metadata": {},
   "outputs": [],
   "source": [
    "from sklearn.ensemble import RandomForestRegressor\n",
    "\n",
    "Rf =RandomForestRegressor()\n",
    "Rf.fit(X_train,y_train)\n",
    "pred = Rf.predict(X_test)\n",
    "\n",
    "from sklearn.metrics import r2_score\n",
    "\n",
    "Rf.score(X, y)\n",
    "r2_score(y_test,pred)"
   ]
  },
  {
   "cell_type": "code",
   "execution_count": null,
   "metadata": {},
   "outputs": [],
   "source": []
  }
 ],
 "metadata": {
  "kernelspec": {
   "display_name": "Python 3",
   "language": "python",
   "name": "python3"
  },
  "language_info": {
   "codemirror_mode": {
    "name": "ipython",
    "version": 3
   },
   "file_extension": ".py",
   "mimetype": "text/x-python",
   "name": "python",
   "nbconvert_exporter": "python",
   "pygments_lexer": "ipython3",
   "version": "3.7.4"
  }
 },
 "nbformat": 4,
 "nbformat_minor": 2
}
