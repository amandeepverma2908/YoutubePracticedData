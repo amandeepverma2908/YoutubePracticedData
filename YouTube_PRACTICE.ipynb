{
 "cells": [
  {
   "cell_type": "markdown",
   "metadata": {},
   "source": [
    "# Youtube Video Statistics"
   ]
  },
  {
   "cell_type": "markdown",
   "metadata": {},
   "source": [
    "<i>YouTube (the world -famous video sharing website) maintains a list of the top trending videos on the platform . According to Variety magazine , to determine the year's top trending videos , YouTube uses a combination of factors including measuring users interactions (number of views , shares , comments and likes) .Note : that they're not the most - viewed videos overall for the calendar year<i>"
   ]
  },
  {
   "cell_type": "markdown",
   "metadata": {},
   "source": [
    "## Problem Statement "
   ]
  },
  {
   "cell_type": "markdown",
   "metadata": {},
   "source": [
    "<i>Read the youtube data and perform exploratory data analysis<i>"
   ]
  },
  {
   "cell_type": "markdown",
   "metadata": {},
   "source": [
    "## Dataset Information"
   ]
  },
  {
   "cell_type": "markdown",
   "metadata": {},
   "source": [
    "This dataset is the daily record from the top trending YouTube videos . Top 200 trending videos of a given day. Original Data was collected during 14th \n",
    "November 2017 & 5th March 2018(though, data for January 10th & 11th of 2017 is missing). Original dataset was collected by Youtube API."
   ]
  },
  {
   "cell_type": "markdown",
   "metadata": {},
   "source": [
    "## Variable Description"
   ]
  },
  {
   "cell_type": "markdown",
   "metadata": {},
   "source": [
    "<table>\n",
    "    <tr><th>Column</th><th>Description</th></tr>\n",
    "    <tr><td>Video_Id</td><td>Unique Indentity which tells the video_id of each subscribed video </td></tr>\n",
    "    <tr><td>Category_Id</td><td>Unique number assigned to each category of the video</td></tr>\n",
    "    <tr><td>Channel_Title</td><td>Title of youtube channel of the video</td></tr>\n",
    "    <tr><td>Subscriber</td><td>Count of all subscribers for the respective video</td></tr>\n",
    "    <tr><td>Title</td><td>Title of the video</td></tr>\n",
    "    <tr><td>Tags</td><td>Tags are descriptive keywords you can add to your video to help viewers find your content</td></tr>\n",
    "    <tr><td>Description</td><td>Description of the respective video</td></tr>\n",
    "    <tr><td>Trend_day_count</td><td>Trending day count for respective video</td></tr>\n",
    "    <tr><td>Tag_count</td><td>Tag count for the respective video </td></tr>\n",
    "    <tr><td>Trend_tag_count</td><td>Tag count for respective trending video</td></tr>\n",
    "    <tr><td>Comment_count</td><td>Count of Comments for particular video</td></tr>\n",
    "    <tr><td>Comment_disabled</td><td>It represents the boolean value . True represents comments are enabled and False represents comments are disabled</td></tr>\n",
    "    <tr><td>Like dislike disabled</td><td>It represents the boolean value . True represents like and dislike are enabled and False represents comments are disabled</td></tr>\n",
    "    <tr><td>Likes</td><td>Number of Likes for particular video</td></tr>\n",
    "    <tr><td>Dislikes</td><td>Number of Disikes for particular video</td></tr>\n",
    "    <tr><td>Tag appeared in Title</td><td>It represents the boolean value . True represents that the respective tag has appeared in a particular video. False represents that the respective tag has not appeared in particular video</td></tr>\n",
    "    <tr><td>views</td><td>Target variable . Number of veiws for  particular video</td></tr>\n",
    "</table>"
   ]
  },
  {
   "cell_type": "markdown",
   "metadata": {},
   "source": [
    "# Importing Libraries"
   ]
  },
  {
   "cell_type": "code",
   "execution_count": 1,
   "metadata": {},
   "outputs": [],
   "source": [
    "%matplotlib inline\n",
    "\n",
    "\n",
    "import numpy as np\n",
    "import pandas as pd\n",
    "\n",
    "import matplotlib.pyplot as plt\n",
    "import missingno\n",
    "import seaborn as sns\n",
    "plt.style.use('seaborn-whitegrid')\n",
    "\n",
    "from sklearn.preprocessing import LabelEncoder,OneHotEncoder\n",
    "\n",
    " \n",
    "from scipy.stats import mode,kurtosis,skew\n",
    "\n",
    "\n",
    "\n"
   ]
  },
  {
   "cell_type": "markdown",
   "metadata": {},
   "source": [
    "# Data Cleaning (Column By Column)"
   ]
  },
  {
   "cell_type": "code",
   "execution_count": 2,
   "metadata": {},
   "outputs": [],
   "source": [
    "train = pd.read_csv('train.csv')"
   ]
  },
  {
   "cell_type": "code",
   "execution_count": 3,
   "metadata": {},
   "outputs": [],
   "source": [
    "train.drop(['Unnamed: 17','Unnamed: 18'],axis=1,inplace=True)"
   ]
  },
  {
   "cell_type": "code",
   "execution_count": 4,
   "metadata": {},
   "outputs": [
    {
     "data": {
      "text/html": [
       "<div>\n",
       "<style scoped>\n",
       "    .dataframe tbody tr th:only-of-type {\n",
       "        vertical-align: middle;\n",
       "    }\n",
       "\n",
       "    .dataframe tbody tr th {\n",
       "        vertical-align: top;\n",
       "    }\n",
       "\n",
       "    .dataframe thead th {\n",
       "        text-align: right;\n",
       "    }\n",
       "</style>\n",
       "<table border=\"1\" class=\"dataframe\">\n",
       "  <thead>\n",
       "    <tr style=\"text-align: right;\">\n",
       "      <th></th>\n",
       "      <th>Video_id</th>\n",
       "      <th>category_id</th>\n",
       "      <th>channel_title</th>\n",
       "      <th>subscriber</th>\n",
       "      <th>title</th>\n",
       "      <th>tags</th>\n",
       "      <th>description</th>\n",
       "      <th>Trend_day_count</th>\n",
       "      <th>Tag_count</th>\n",
       "      <th>Trend_tag_count</th>\n",
       "      <th>comment_count</th>\n",
       "      <th>comment_disabled</th>\n",
       "      <th>like dislike disabled</th>\n",
       "      <th>likes</th>\n",
       "      <th>dislike</th>\n",
       "      <th>tag appered in title</th>\n",
       "      <th>views</th>\n",
       "    </tr>\n",
       "  </thead>\n",
       "  <tbody>\n",
       "    <tr>\n",
       "      <th>0</th>\n",
       "      <td>HDR9SQc79</td>\n",
       "      <td>22</td>\n",
       "      <td>CaseyNeistat</td>\n",
       "      <td>9086142.0</td>\n",
       "      <td>WE WANT TO TALK ABOUT OUR MARRIAGE</td>\n",
       "      <td>SHANtell martin</td>\n",
       "      <td>SHANTELL'S CHANNEL - https://www.youtube.com/s...</td>\n",
       "      <td>6.0</td>\n",
       "      <td>21</td>\n",
       "      <td>6</td>\n",
       "      <td></td>\n",
       "      <td>FALSE</td>\n",
       "      <td>FALSE</td>\n",
       "      <td>13342</td>\n",
       "      <td>6089</td>\n",
       "      <td>False</td>\n",
       "      <td>1978978</td>\n",
       "    </tr>\n",
       "    <tr>\n",
       "      <th>1</th>\n",
       "      <td>KNH52UF?48</td>\n",
       "      <td>24</td>\n",
       "      <td>LastWeekTonight</td>\n",
       "      <td>5937292.0</td>\n",
       "      <td>The Trump Presidency: Last Week Tonight with J...</td>\n",
       "      <td>last week tonight trump presidency|last week t...</td>\n",
       "      <td>One year after the presidential election, John...</td>\n",
       "      <td>1.0</td>\n",
       "      <td>23</td>\n",
       "      <td>1</td>\n",
       "      <td>116266</td>\n",
       "      <td>TRUE</td>\n",
       "      <td>FALSE</td>\n",
       "      <td>5761</td>\n",
       "      <td>3044</td>\n",
       "      <td>False</td>\n",
       "      <td>1487870</td>\n",
       "    </tr>\n",
       "    <tr>\n",
       "      <th>2</th>\n",
       "      <td>QTW28IRG36</td>\n",
       "      <td>23</td>\n",
       "      <td>Rudy Mancuso</td>\n",
       "      <td>4191209.0</td>\n",
       "      <td>Racist Superman | Rudy Mancuso, King Bach &amp; Le...</td>\n",
       "      <td>racist superman|rudy|mancuso|king|bach|racist|...</td>\n",
       "      <td>WATCH MY PREVIOUS VIDEO ▶ \\n\\nSUBSCRIBE ► http...</td>\n",
       "      <td>10.0</td>\n",
       "      <td>22</td>\n",
       "      <td>3</td>\n",
       "      <td>257850</td>\n",
       "      <td>TRUE</td>\n",
       "      <td>TRUE</td>\n",
       "      <td>0</td>\n",
       "      <td>0</td>\n",
       "      <td>True</td>\n",
       "      <td>1502102</td>\n",
       "    </tr>\n",
       "    <tr>\n",
       "      <th>3</th>\n",
       "      <td>MGL76WI]26</td>\n",
       "      <td>24</td>\n",
       "      <td>Good Mythical Morning</td>\n",
       "      <td>13186408.0</td>\n",
       "      <td>Nickelback Lyrics: Real or Fake?</td>\n",
       "      <td>rhett and link|gmm|good mythical morning|rhett...</td>\n",
       "      <td>Today we find out if Link is a Nickelback amat...</td>\n",
       "      <td>12.0</td>\n",
       "      <td>17</td>\n",
       "      <td>5</td>\n",
       "      <td>263939</td>\n",
       "      <td>TRUE</td>\n",
       "      <td>TRUE</td>\n",
       "      <td>0</td>\n",
       "      <td>0</td>\n",
       "      <td>True</td>\n",
       "      <td>3519302</td>\n",
       "    </tr>\n",
       "    <tr>\n",
       "      <th>4</th>\n",
       "      <td>TWP93KXT70</td>\n",
       "      <td>24</td>\n",
       "      <td>nigahiga</td>\n",
       "      <td>20563106.0</td>\n",
       "      <td>I Dare You: GOING BALD!?</td>\n",
       "      <td>ryan|higa|higatv|nigahiga|i dare you|idy|rhpc|...</td>\n",
       "      <td>I know it's been a while since we did this sho...</td>\n",
       "      <td>11.0</td>\n",
       "      <td>15</td>\n",
       "      <td>7</td>\n",
       "      <td>268085</td>\n",
       "      <td>TRUE</td>\n",
       "      <td>TRUE</td>\n",
       "      <td>0</td>\n",
       "      <td>0</td>\n",
       "      <td>True</td>\n",
       "      <td>4835374</td>\n",
       "    </tr>\n",
       "  </tbody>\n",
       "</table>\n",
       "</div>"
      ],
      "text/plain": [
       "     Video_id category_id          channel_title  subscriber  \\\n",
       "0   HDR9SQc79          22           CaseyNeistat   9086142.0   \n",
       "1  KNH52UF?48          24        LastWeekTonight   5937292.0   \n",
       "2  QTW28IRG36          23           Rudy Mancuso   4191209.0   \n",
       "3  MGL76WI]26          24  Good Mythical Morning  13186408.0   \n",
       "4  TWP93KXT70          24               nigahiga  20563106.0   \n",
       "\n",
       "                                               title  \\\n",
       "0                 WE WANT TO TALK ABOUT OUR MARRIAGE   \n",
       "1  The Trump Presidency: Last Week Tonight with J...   \n",
       "2  Racist Superman | Rudy Mancuso, King Bach & Le...   \n",
       "3                   Nickelback Lyrics: Real or Fake?   \n",
       "4                           I Dare You: GOING BALD!?   \n",
       "\n",
       "                                                tags  \\\n",
       "0                                    SHANtell martin   \n",
       "1  last week tonight trump presidency|last week t...   \n",
       "2  racist superman|rudy|mancuso|king|bach|racist|...   \n",
       "3  rhett and link|gmm|good mythical morning|rhett...   \n",
       "4  ryan|higa|higatv|nigahiga|i dare you|idy|rhpc|...   \n",
       "\n",
       "                                         description  Trend_day_count  \\\n",
       "0  SHANTELL'S CHANNEL - https://www.youtube.com/s...              6.0   \n",
       "1  One year after the presidential election, John...              1.0   \n",
       "2  WATCH MY PREVIOUS VIDEO ▶ \\n\\nSUBSCRIBE ► http...             10.0   \n",
       "3  Today we find out if Link is a Nickelback amat...             12.0   \n",
       "4  I know it's been a while since we did this sho...             11.0   \n",
       "\n",
       "  Tag_count Trend_tag_count comment_count comment_disabled  \\\n",
       "0        21               6                          FALSE   \n",
       "1        23               1        116266             TRUE   \n",
       "2        22               3        257850             TRUE   \n",
       "3        17               5        263939             TRUE   \n",
       "4        15               7        268085             TRUE   \n",
       "\n",
       "  like dislike disabled  likes dislike tag appered in title    views  \n",
       "0                 FALSE  13342    6089                False  1978978  \n",
       "1                 FALSE   5761    3044                False  1487870  \n",
       "2                  TRUE      0       0                 True  1502102  \n",
       "3                  TRUE      0       0                 True  3519302  \n",
       "4                  TRUE      0       0                 True  4835374  "
      ]
     },
     "execution_count": 4,
     "metadata": {},
     "output_type": "execute_result"
    }
   ],
   "source": [
    "train.head()"
   ]
  },
  {
   "cell_type": "code",
   "execution_count": 5,
   "metadata": {},
   "outputs": [
    {
     "data": {
      "text/plain": [
       "3198"
      ]
     },
     "execution_count": 5,
     "metadata": {},
     "output_type": "execute_result"
    }
   ],
   "source": [
    "len(train)"
   ]
  },
  {
   "cell_type": "code",
   "execution_count": 6,
   "metadata": {},
   "outputs": [
    {
     "data": {
      "text/html": [
       "<div>\n",
       "<style scoped>\n",
       "    .dataframe tbody tr th:only-of-type {\n",
       "        vertical-align: middle;\n",
       "    }\n",
       "\n",
       "    .dataframe tbody tr th {\n",
       "        vertical-align: top;\n",
       "    }\n",
       "\n",
       "    .dataframe thead th {\n",
       "        text-align: right;\n",
       "    }\n",
       "</style>\n",
       "<table border=\"1\" class=\"dataframe\">\n",
       "  <thead>\n",
       "    <tr style=\"text-align: right;\">\n",
       "      <th></th>\n",
       "      <th>subscriber</th>\n",
       "      <th>Trend_day_count</th>\n",
       "    </tr>\n",
       "  </thead>\n",
       "  <tbody>\n",
       "    <tr>\n",
       "      <th>count</th>\n",
       "      <td>3.175000e+03</td>\n",
       "      <td>3197.000000</td>\n",
       "    </tr>\n",
       "    <tr>\n",
       "      <th>mean</th>\n",
       "      <td>3.823981e+06</td>\n",
       "      <td>7.964342</td>\n",
       "    </tr>\n",
       "    <tr>\n",
       "      <th>std</th>\n",
       "      <td>2.865771e+07</td>\n",
       "      <td>78.556055</td>\n",
       "    </tr>\n",
       "    <tr>\n",
       "      <th>min</th>\n",
       "      <td>0.000000e+00</td>\n",
       "      <td>0.000000</td>\n",
       "    </tr>\n",
       "    <tr>\n",
       "      <th>25%</th>\n",
       "      <td>2.428800e+05</td>\n",
       "      <td>4.000000</td>\n",
       "    </tr>\n",
       "    <tr>\n",
       "      <th>50%</th>\n",
       "      <td>1.241220e+06</td>\n",
       "      <td>7.000000</td>\n",
       "    </tr>\n",
       "    <tr>\n",
       "      <th>75%</th>\n",
       "      <td>3.812622e+06</td>\n",
       "      <td>10.000000</td>\n",
       "    </tr>\n",
       "    <tr>\n",
       "      <th>max</th>\n",
       "      <td>1.576229e+09</td>\n",
       "      <td>4444.000000</td>\n",
       "    </tr>\n",
       "  </tbody>\n",
       "</table>\n",
       "</div>"
      ],
      "text/plain": [
       "         subscriber  Trend_day_count\n",
       "count  3.175000e+03      3197.000000\n",
       "mean   3.823981e+06         7.964342\n",
       "std    2.865771e+07        78.556055\n",
       "min    0.000000e+00         0.000000\n",
       "25%    2.428800e+05         4.000000\n",
       "50%    1.241220e+06         7.000000\n",
       "75%    3.812622e+06        10.000000\n",
       "max    1.576229e+09      4444.000000"
      ]
     },
     "execution_count": 6,
     "metadata": {},
     "output_type": "execute_result"
    }
   ],
   "source": [
    "train.describe()"
   ]
  },
  {
   "cell_type": "code",
   "execution_count": 7,
   "metadata": {},
   "outputs": [
    {
     "data": {
      "text/plain": [
       "<AxesSubplot:>"
      ]
     },
     "execution_count": 7,
     "metadata": {},
     "output_type": "execute_result"
    },
    {
     "data": {
      "image/png": "[encoded data removed]",
      "text/plain": [
       "<Figure size 1800x720 with 2 Axes>"
      ]
     },
     "metadata": {
      "needs_background": "light"
     },
     "output_type": "display_data"
    }
   ],
   "source": [
    "missingno.matrix(train)"
   ]
  },
  {
   "cell_type": "code",
   "execution_count": 8,
   "metadata": {},
   "outputs": [
    {
     "name": "stdout",
     "output_type": "stream",
     "text": [
      "<class 'pandas.core.frame.DataFrame'>\n",
      "RangeIndex: 3198 entries, 0 to 3197\n",
      "Data columns (total 17 columns):\n",
      " #   Column                 Non-Null Count  Dtype  \n",
      "---  ------                 --------------  -----  \n",
      " 0   Video_id               3198 non-null   object \n",
      " 1   category_id            3192 non-null   object \n",
      " 2   channel_title          3195 non-null   object \n",
      " 3   subscriber             3175 non-null   float64\n",
      " 4   title                  3195 non-null   object \n",
      " 5   tags                   3046 non-null   object \n",
      " 6   description            3133 non-null   object \n",
      " 7   Trend_day_count        3197 non-null   float64\n",
      " 8   Tag_count              3197 non-null   object \n",
      " 9   Trend_tag_count        3197 non-null   object \n",
      " 10  comment_count          3198 non-null   object \n",
      " 11  comment_disabled       3198 non-null   object \n",
      " 12  like dislike disabled  3198 non-null   object \n",
      " 13  likes                  3198 non-null   object \n",
      " 14  dislike                3198 non-null   object \n",
      " 15  tag appered in title   3197 non-null   object \n",
      " 16  views                  3198 non-null   object \n",
      "dtypes: float64(2), object(15)\n",
      "memory usage: 424.9+ KB\n"
     ]
    }
   ],
   "source": [
    "train.info()"
   ]
  },
  {
   "cell_type": "code",
   "execution_count": 9,
   "metadata": {},
   "outputs": [
    {
     "data": {
      "text/plain": [
       "Video_id                   0\n",
       "category_id                6\n",
       "channel_title              3\n",
       "subscriber                23\n",
       "title                      3\n",
       "tags                     152\n",
       "description               65\n",
       "Trend_day_count            1\n",
       "Tag_count                  1\n",
       "Trend_tag_count            1\n",
       "comment_count              0\n",
       "comment_disabled           0\n",
       "like dislike disabled      0\n",
       "likes                      0\n",
       "dislike                    0\n",
       "tag appered in title       1\n",
       "views                      0\n",
       "dtype: int64"
      ]
     },
     "execution_count": 9,
     "metadata": {},
     "output_type": "execute_result"
    }
   ],
   "source": [
    "train.isna().sum()"
   ]
  },
  {
   "cell_type": "markdown",
   "metadata": {},
   "source": [
    "# Category ID"
   ]
  },
  {
   "cell_type": "code",
   "execution_count": 10,
   "metadata": {},
   "outputs": [
    {
     "data": {
      "text/plain": [
       "array(['22', '24', '23', '28', '1', '25', '17', '10', '15', '27', '26',\n",
       "       '2', '19', '20', nan, '29', '“24', '43'], dtype=object)"
      ]
     },
     "execution_count": 10,
     "metadata": {},
     "output_type": "execute_result"
    }
   ],
   "source": [
    "train['category_id'].unique()"
   ]
  },
  {
   "cell_type": "code",
   "execution_count": 11,
   "metadata": {},
   "outputs": [
    {
     "data": {
      "text/plain": [
       "<AxesSubplot:xlabel='count', ylabel='category_id'>"
      ]
     },
     "execution_count": 11,
     "metadata": {},
     "output_type": "execute_result"
    },
    {
     "data": {
      "image/png": "[encoded data removed]",
      "text/plain": [
       "<Figure size 432x288 with 1 Axes>"
      ]
     },
     "metadata": {
      "needs_background": "light"
     },
     "output_type": "display_data"
    }
   ],
   "source": [
    "sns.countplot(data=train,y='category_id')"
   ]
  },
  {
   "cell_type": "code",
   "execution_count": 12,
   "metadata": {},
   "outputs": [
    {
     "data": {
      "text/html": [
       "<div>\n",
       "<style scoped>\n",
       "    .dataframe tbody tr th:only-of-type {\n",
       "        vertical-align: middle;\n",
       "    }\n",
       "\n",
       "    .dataframe tbody tr th {\n",
       "        vertical-align: top;\n",
       "    }\n",
       "\n",
       "    .dataframe thead th {\n",
       "        text-align: right;\n",
       "    }\n",
       "</style>\n",
       "<table border=\"1\" class=\"dataframe\">\n",
       "  <thead>\n",
       "    <tr style=\"text-align: right;\">\n",
       "      <th></th>\n",
       "      <th>Video_id</th>\n",
       "      <th>category_id</th>\n",
       "      <th>channel_title</th>\n",
       "      <th>subscriber</th>\n",
       "      <th>title</th>\n",
       "      <th>tags</th>\n",
       "      <th>description</th>\n",
       "      <th>Trend_day_count</th>\n",
       "      <th>Tag_count</th>\n",
       "      <th>Trend_tag_count</th>\n",
       "      <th>comment_count</th>\n",
       "      <th>comment_disabled</th>\n",
       "      <th>like dislike disabled</th>\n",
       "      <th>likes</th>\n",
       "      <th>dislike</th>\n",
       "      <th>tag appered in title</th>\n",
       "      <th>views</th>\n",
       "    </tr>\n",
       "  </thead>\n",
       "  <tbody>\n",
       "    <tr>\n",
       "      <th>187</th>\n",
       "      <td>HCQ73RZo7</td>\n",
       "      <td>NaN</td>\n",
       "      <td>Chicago Sun-Times</td>\n",
       "      <td>11133.0</td>\n",
       "      <td>Obama arrives for jury duty at Daley Center</td>\n",
       "      <td>NaN</td>\n",
       "      <td>Watch former President Barack Obama greet othe...</td>\n",
       "      <td>4.0</td>\n",
       "      <td>10</td>\n",
       "      <td>5</td>\n",
       "      <td>213427</td>\n",
       "      <td>TRUE</td>\n",
       "      <td>FALSE</td>\n",
       "      <td>14535</td>\n",
       "      <td>10728</td>\n",
       "      <td>False</td>\n",
       "      <td>537701</td>\n",
       "    </tr>\n",
       "    <tr>\n",
       "      <th>595</th>\n",
       "      <td>NLM1FZ&gt;80</td>\n",
       "      <td>NaN</td>\n",
       "      <td>The Infographics Show</td>\n",
       "      <td>1607518.0</td>\n",
       "      <td>How Likely Are You to Die During a Black Frida...</td>\n",
       "      <td>black friday|black friday sales|How Likely Are...</td>\n",
       "      <td>🐻 Check out our new channel: Fuzzy &amp; Nutz 🐿️ ►...</td>\n",
       "      <td>3.0</td>\n",
       "      <td>25</td>\n",
       "      <td>5</td>\n",
       "      <td>68068</td>\n",
       "      <td>TRUE</td>\n",
       "      <td>TRUE</td>\n",
       "      <td>0</td>\n",
       "      <td>0</td>\n",
       "      <td>True</td>\n",
       "      <td>517759</td>\n",
       "    </tr>\n",
       "    <tr>\n",
       "      <th>798</th>\n",
       "      <td>GKQ34HXG87</td>\n",
       "      <td>NaN</td>\n",
       "      <td>The Voice</td>\n",
       "      <td>5850161.0</td>\n",
       "      <td>The Voice 2017 - Team Miley: Man! I Feel Like ...</td>\n",
       "      <td>the voice|the voice nbc|the voice season 13|wa...</td>\n",
       "      <td>Miley Cyrus joins Ashland Craft, Brooke Simpso...</td>\n",
       "      <td>12.0</td>\n",
       "      <td>14</td>\n",
       "      <td>6</td>\n",
       "      <td>72128</td>\n",
       "      <td>TRUE</td>\n",
       "      <td>FALSE</td>\n",
       "      <td>14302</td>\n",
       "      <td>10959</td>\n",
       "      <td>True</td>\n",
       "      <td>1687526</td>\n",
       "    </tr>\n",
       "    <tr>\n",
       "      <th>864</th>\n",
       "      <td>NCX50MJl16</td>\n",
       "      <td>NaN</td>\n",
       "      <td>Trailers Promos Teasers</td>\n",
       "      <td>18000.0</td>\n",
       "      <td>All The Money In The World - TV Spot featuring...</td>\n",
       "      <td>All The Money In The World|Christopher Plummer</td>\n",
       "      <td>All The Money In The World - The story of the ...</td>\n",
       "      <td>4.0</td>\n",
       "      <td>21</td>\n",
       "      <td>2</td>\n",
       "      <td></td>\n",
       "      <td>FALSE</td>\n",
       "      <td>FALSE</td>\n",
       "      <td>15068</td>\n",
       "      <td>6486</td>\n",
       "      <td>True</td>\n",
       "      <td>123902</td>\n",
       "    </tr>\n",
       "    <tr>\n",
       "      <th>913</th>\n",
       "      <td>HOT6GH&gt;20</td>\n",
       "      <td>NaN</td>\n",
       "      <td>IISuperwomanII</td>\n",
       "      <td>13357328.0</td>\n",
       "      <td>When You Catch Your Boyfriend (ft. Nick Jonas)</td>\n",
       "      <td>iisuperwomanii|superwoman|team|super”|super|wo...</td>\n",
       "      <td>That moment when you awkwardly walk in and cat...</td>\n",
       "      <td>7.0</td>\n",
       "      <td>21</td>\n",
       "      <td>6</td>\n",
       "      <td>248173</td>\n",
       "      <td>TRUE</td>\n",
       "      <td>TRUE</td>\n",
       "      <td>0</td>\n",
       "      <td>0</td>\n",
       "      <td>True</td>\n",
       "      <td>3292905</td>\n",
       "    </tr>\n",
       "    <tr>\n",
       "      <th>972</th>\n",
       "      <td>HPR67IDa88</td>\n",
       "      <td>NaN</td>\n",
       "      <td>Shoshana Bean</td>\n",
       "      <td>24589.0</td>\n",
       "      <td>Taylor Swift - I Did Something Bad (Cover) | B...</td>\n",
       "      <td>taylor swift|reputation|acoustic|live|soul|pop...</td>\n",
       "      <td>Sho: @shobean\\nCynthia: @cynthiaerivo\\n\\nShot ...</td>\n",
       "      <td>4.0</td>\n",
       "      <td>9</td>\n",
       "      <td>4</td>\n",
       "      <td>203113</td>\n",
       "      <td>TRUE</td>\n",
       "      <td>FALSE</td>\n",
       "      <td>21742</td>\n",
       "      <td>13223</td>\n",
       "      <td>False</td>\n",
       "      <td>580010</td>\n",
       "    </tr>\n",
       "    <tr>\n",
       "      <th>1691</th>\n",
       "      <td>DGQ85KL`7</td>\n",
       "      <td>“24</td>\n",
       "      <td>NaN</td>\n",
       "      <td>1676098.0</td>\n",
       "      <td>Mark Hamill Didn’t Tell Carrie Fisher the Big ...</td>\n",
       "      <td>Graham Norton|Graham Norton Show Official|Ente...</td>\n",
       "      <td>It’s impressive that he kept the secret for th...</td>\n",
       "      <td>12.0</td>\n",
       "      <td>12</td>\n",
       "      <td>7</td>\n",
       "      <td></td>\n",
       "      <td>FALSE</td>\n",
       "      <td>FALSE</td>\n",
       "      <td>10275</td>\n",
       "      <td>8086</td>\n",
       "      <td>False</td>\n",
       "      <td>682724</td>\n",
       "    </tr>\n",
       "  </tbody>\n",
       "</table>\n",
       "</div>"
      ],
      "text/plain": [
       "        Video_id category_id            channel_title  subscriber  \\\n",
       "187    HCQ73RZo7         NaN        Chicago Sun-Times     11133.0   \n",
       "595    NLM1FZ>80         NaN    The Infographics Show   1607518.0   \n",
       "798   GKQ34HXG87         NaN                The Voice   5850161.0   \n",
       "864   NCX50MJl16         NaN  Trailers Promos Teasers     18000.0   \n",
       "913    HOT6GH>20         NaN           IISuperwomanII  13357328.0   \n",
       "972   HPR67IDa88         NaN            Shoshana Bean     24589.0   \n",
       "1691   DGQ85KL`7         “24                      NaN   1676098.0   \n",
       "\n",
       "                                                  title  \\\n",
       "187         Obama arrives for jury duty at Daley Center   \n",
       "595   How Likely Are You to Die During a Black Frida...   \n",
       "798   The Voice 2017 - Team Miley: Man! I Feel Like ...   \n",
       "864   All The Money In The World - TV Spot featuring...   \n",
       "913      When You Catch Your Boyfriend (ft. Nick Jonas)   \n",
       "972   Taylor Swift - I Did Something Bad (Cover) | B...   \n",
       "1691  Mark Hamill Didn’t Tell Carrie Fisher the Big ...   \n",
       "\n",
       "                                                   tags  \\\n",
       "187                                                 NaN   \n",
       "595   black friday|black friday sales|How Likely Are...   \n",
       "798   the voice|the voice nbc|the voice season 13|wa...   \n",
       "864      All The Money In The World|Christopher Plummer   \n",
       "913   iisuperwomanii|superwoman|team|super”|super|wo...   \n",
       "972   taylor swift|reputation|acoustic|live|soul|pop...   \n",
       "1691  Graham Norton|Graham Norton Show Official|Ente...   \n",
       "\n",
       "                                            description  Trend_day_count  \\\n",
       "187   Watch former President Barack Obama greet othe...              4.0   \n",
       "595   🐻 Check out our new channel: Fuzzy & Nutz 🐿️ ►...              3.0   \n",
       "798   Miley Cyrus joins Ashland Craft, Brooke Simpso...             12.0   \n",
       "864   All The Money In The World - The story of the ...              4.0   \n",
       "913   That moment when you awkwardly walk in and cat...              7.0   \n",
       "972   Sho: @shobean\\nCynthia: @cynthiaerivo\\n\\nShot ...              4.0   \n",
       "1691  It’s impressive that he kept the secret for th...             12.0   \n",
       "\n",
       "     Tag_count Trend_tag_count comment_count comment_disabled  \\\n",
       "187         10               5        213427             TRUE   \n",
       "595         25               5         68068             TRUE   \n",
       "798         14               6         72128             TRUE   \n",
       "864         21               2                          FALSE   \n",
       "913         21               6        248173             TRUE   \n",
       "972          9               4        203113             TRUE   \n",
       "1691        12               7                          FALSE   \n",
       "\n",
       "     like dislike disabled  likes dislike tag appered in title    views  \n",
       "187                  FALSE  14535   10728                False   537701  \n",
       "595                   TRUE      0       0                 True   517759  \n",
       "798                  FALSE  14302   10959                 True  1687526  \n",
       "864                  FALSE  15068    6486                 True   123902  \n",
       "913                   TRUE      0       0                 True  3292905  \n",
       "972                  FALSE  21742   13223                False   580010  \n",
       "1691                 FALSE  10275    8086                False   682724  "
      ]
     },
     "execution_count": 12,
     "metadata": {},
     "output_type": "execute_result"
    }
   ],
   "source": [
    "train[train['category_id'].str.find('“24')!=-1]"
   ]
  },
  {
   "cell_type": "code",
   "execution_count": 13,
   "metadata": {},
   "outputs": [],
   "source": [
    "train['category_id'] = train['category_id'].str.replace('“','',regex=True)"
   ]
  },
  {
   "cell_type": "code",
   "execution_count": 14,
   "metadata": {},
   "outputs": [
    {
     "data": {
      "text/plain": [
       "Video_id                                                         DGQ85KL`7\n",
       "category_id                                                             24\n",
       "channel_title                                                          NaN\n",
       "subscriber                                                      1.6761e+06\n",
       "title                    Mark Hamill Didn’t Tell Carrie Fisher the Big ...\n",
       "tags                     Graham Norton|Graham Norton Show Official|Ente...\n",
       "description              It’s impressive that he kept the secret for th...\n",
       "Trend_day_count                                                         12\n",
       "Tag_count                                                               12\n",
       "Trend_tag_count                                                          7\n",
       "comment_count                                                             \n",
       "comment_disabled                                                     FALSE\n",
       "like dislike disabled                                                FALSE\n",
       "likes                                                                10275\n",
       "dislike                                                               8086\n",
       "tag appered in title                                                 False\n",
       "views                                                               682724\n",
       "Name: 1691, dtype: object"
      ]
     },
     "execution_count": 14,
     "metadata": {},
     "output_type": "execute_result"
    }
   ],
   "source": [
    "train.iloc[1691]"
   ]
  },
  {
   "cell_type": "code",
   "execution_count": 15,
   "metadata": {},
   "outputs": [
    {
     "data": {
      "text/plain": [
       "array(['22', '24', '23', '28', '1', '25', '17', '10', '15', '27', '26',\n",
       "       '2', '19', '20', nan, '29', '43'], dtype=object)"
      ]
     },
     "execution_count": 15,
     "metadata": {},
     "output_type": "execute_result"
    }
   ],
   "source": [
    "train['category_id'].unique()"
   ]
  },
  {
   "cell_type": "code",
   "execution_count": 16,
   "metadata": {},
   "outputs": [],
   "source": [
    "train = train.dropna(subset=['category_id'])"
   ]
  },
  {
   "cell_type": "code",
   "execution_count": 17,
   "metadata": {},
   "outputs": [
    {
     "data": {
      "text/plain": [
       "0"
      ]
     },
     "execution_count": 17,
     "metadata": {},
     "output_type": "execute_result"
    }
   ],
   "source": [
    "train['category_id'].isna().sum()"
   ]
  },
  {
   "cell_type": "code",
   "execution_count": 18,
   "metadata": {},
   "outputs": [
    {
     "data": {
      "text/plain": [
       "3192"
      ]
     },
     "execution_count": 18,
     "metadata": {},
     "output_type": "execute_result"
    }
   ],
   "source": [
    "len(train)"
   ]
  },
  {
   "cell_type": "code",
   "execution_count": 19,
   "metadata": {},
   "outputs": [
    {
     "name": "stdout",
     "output_type": "stream",
     "text": [
      "<class 'pandas.core.frame.DataFrame'>\n",
      "Int64Index: 3192 entries, 0 to 3197\n",
      "Data columns (total 17 columns):\n",
      " #   Column                 Non-Null Count  Dtype  \n",
      "---  ------                 --------------  -----  \n",
      " 0   Video_id               3192 non-null   object \n",
      " 1   category_id            3192 non-null   object \n",
      " 2   channel_title          3189 non-null   object \n",
      " 3   subscriber             3169 non-null   float64\n",
      " 4   title                  3189 non-null   object \n",
      " 5   tags                   3041 non-null   object \n",
      " 6   description            3127 non-null   object \n",
      " 7   Trend_day_count        3191 non-null   float64\n",
      " 8   Tag_count              3191 non-null   object \n",
      " 9   Trend_tag_count        3191 non-null   object \n",
      " 10  comment_count          3192 non-null   object \n",
      " 11  comment_disabled       3192 non-null   object \n",
      " 12  like dislike disabled  3192 non-null   object \n",
      " 13  likes                  3192 non-null   object \n",
      " 14  dislike                3192 non-null   object \n",
      " 15  tag appered in title   3191 non-null   object \n",
      " 16  views                  3192 non-null   object \n",
      "dtypes: float64(2), object(15)\n",
      "memory usage: 448.9+ KB\n"
     ]
    }
   ],
   "source": [
    "train.info()"
   ]
  },
  {
   "cell_type": "code",
   "execution_count": 20,
   "metadata": {},
   "outputs": [
    {
     "data": {
      "text/plain": [
       "<AxesSubplot:xlabel='count', ylabel='category_id'>"
      ]
     },
     "execution_count": 20,
     "metadata": {},
     "output_type": "execute_result"
    },
    {
     "data": {
      "image/png": "[encoded data removed]",
      "text/plain": [
       "<Figure size 432x288 with 1 Axes>"
      ]
     },
     "metadata": {
      "needs_background": "light"
     },
     "output_type": "display_data"
    }
   ],
   "source": [
    "sns.countplot(data=train,y='category_id')"
   ]
  },
  {
   "cell_type": "code",
   "execution_count": 21,
   "metadata": {},
   "outputs": [
    {
     "data": {
      "text/plain": [
       "dtype('int64')"
      ]
     },
     "execution_count": 21,
     "metadata": {},
     "output_type": "execute_result"
    }
   ],
   "source": [
    "train['category_id'] = train['category_id'].astype('int64')\n",
    "np.dtype(train['category_id'])"
   ]
  },
  {
   "cell_type": "markdown",
   "metadata": {},
   "source": [
    "# Channel_title"
   ]
  },
  {
   "cell_type": "code",
   "execution_count": 22,
   "metadata": {},
   "outputs": [
    {
     "data": {
      "text/plain": [
       "3"
      ]
     },
     "execution_count": 22,
     "metadata": {},
     "output_type": "execute_result"
    }
   ],
   "source": [
    "train['channel_title'].isna().sum()"
   ]
  },
  {
   "cell_type": "code",
   "execution_count": 23,
   "metadata": {},
   "outputs": [
    {
     "data": {
      "text/plain": [
       "3189"
      ]
     },
     "execution_count": 23,
     "metadata": {},
     "output_type": "execute_result"
    }
   ],
   "source": [
    "train = train.dropna(subset=['channel_title'])\n",
    "len(train)"
   ]
  },
  {
   "cell_type": "code",
   "execution_count": 24,
   "metadata": {},
   "outputs": [
    {
     "data": {
      "text/plain": [
       "0"
      ]
     },
     "execution_count": 24,
     "metadata": {},
     "output_type": "execute_result"
    }
   ],
   "source": [
    "train['channel_title'].isna().sum()"
   ]
  },
  {
   "cell_type": "markdown",
   "metadata": {},
   "source": [
    "# Subscriber"
   ]
  },
  {
   "cell_type": "code",
   "execution_count": 25,
   "metadata": {},
   "outputs": [
    {
     "data": {
      "text/plain": [
       "23"
      ]
     },
     "execution_count": 25,
     "metadata": {},
     "output_type": "execute_result"
    }
   ],
   "source": [
    "train['subscriber'].isna().sum()"
   ]
  },
  {
   "cell_type": "code",
   "execution_count": 26,
   "metadata": {},
   "outputs": [
    {
     "data": {
      "text/plain": [
       "3166"
      ]
     },
     "execution_count": 26,
     "metadata": {},
     "output_type": "execute_result"
    }
   ],
   "source": [
    "train = train.dropna(subset=['subscriber'])\n",
    "len(train)\n",
    "\n"
   ]
  },
  {
   "cell_type": "markdown",
   "metadata": {},
   "source": [
    "# Title"
   ]
  },
  {
   "cell_type": "code",
   "execution_count": 27,
   "metadata": {},
   "outputs": [
    {
     "data": {
      "text/plain": [
       "3"
      ]
     },
     "execution_count": 27,
     "metadata": {},
     "output_type": "execute_result"
    }
   ],
   "source": [
    "train['title'].isna().sum()"
   ]
  },
  {
   "cell_type": "code",
   "execution_count": 28,
   "metadata": {},
   "outputs": [
    {
     "data": {
      "text/plain": [
       "3163"
      ]
     },
     "execution_count": 28,
     "metadata": {},
     "output_type": "execute_result"
    }
   ],
   "source": [
    "train = train.dropna(subset=['title'])\n",
    "len(train)"
   ]
  },
  {
   "cell_type": "markdown",
   "metadata": {},
   "source": [
    "# Trend Day Count "
   ]
  },
  {
   "cell_type": "code",
   "execution_count": 29,
   "metadata": {},
   "outputs": [
    {
     "data": {
      "text/plain": [
       "array([6.000e+00, 1.000e+00, 1.000e+01, 1.200e+01, 1.100e+01, 4.000e+00,\n",
       "       9.000e+00, 8.000e+00, 7.000e+00, 5.000e+00, 3.000e+00, 2.000e+00,\n",
       "       4.444e+03, 0.000e+00])"
      ]
     },
     "execution_count": 29,
     "metadata": {},
     "output_type": "execute_result"
    }
   ],
   "source": [
    "train['Trend_day_count'].unique()"
   ]
  },
  {
   "cell_type": "markdown",
   "metadata": {},
   "source": [
    "***4444 and 0 seems to be an outlier***"
   ]
  },
  {
   "cell_type": "code",
   "execution_count": 30,
   "metadata": {},
   "outputs": [
    {
     "data": {
      "text/html": [
       "<div>\n",
       "<style scoped>\n",
       "    .dataframe tbody tr th:only-of-type {\n",
       "        vertical-align: middle;\n",
       "    }\n",
       "\n",
       "    .dataframe tbody tr th {\n",
       "        vertical-align: top;\n",
       "    }\n",
       "\n",
       "    .dataframe thead th {\n",
       "        text-align: right;\n",
       "    }\n",
       "</style>\n",
       "<table border=\"1\" class=\"dataframe\">\n",
       "  <thead>\n",
       "    <tr style=\"text-align: right;\">\n",
       "      <th></th>\n",
       "      <th>Video_id</th>\n",
       "      <th>category_id</th>\n",
       "      <th>channel_title</th>\n",
       "      <th>subscriber</th>\n",
       "      <th>title</th>\n",
       "      <th>tags</th>\n",
       "      <th>description</th>\n",
       "      <th>Trend_day_count</th>\n",
       "      <th>Tag_count</th>\n",
       "      <th>Trend_tag_count</th>\n",
       "      <th>comment_count</th>\n",
       "      <th>comment_disabled</th>\n",
       "      <th>like dislike disabled</th>\n",
       "      <th>likes</th>\n",
       "      <th>dislike</th>\n",
       "      <th>tag appered in title</th>\n",
       "      <th>views</th>\n",
       "    </tr>\n",
       "  </thead>\n",
       "  <tbody>\n",
       "    <tr>\n",
       "      <th>1952</th>\n",
       "      <td>KBC90MVa41</td>\n",
       "      <td>25</td>\n",
       "      <td>CBS This Morning</td>\n",
       "      <td>298962.0</td>\n",
       "      <td>Senate passes historic GOP tax bill, House to ...</td>\n",
       "      <td>video|cbs|news|Senate|tax reform|House|Republi...</td>\n",
       "      <td>The Senate approved a historic tax reform bill...</td>\n",
       "      <td>4444.0</td>\n",
       "      <td>13</td>\n",
       "      <td>7</td>\n",
       "      <td>126241</td>\n",
       "      <td>TRUE</td>\n",
       "      <td>FALSE</td>\n",
       "      <td>13482</td>\n",
       "      <td>8034</td>\n",
       "      <td>False</td>\n",
       "      <td>450132</td>\n",
       "    </tr>\n",
       "    <tr>\n",
       "      <th>2024</th>\n",
       "      <td>ADD83ZOA32</td>\n",
       "      <td>22</td>\n",
       "      <td>BuzzFeedVideo</td>\n",
       "      <td>14889874.0</td>\n",
       "      <td>Binging With Babish Cooks Bob's Burgers For Fans</td>\n",
       "      <td>buzzfeed|buzzfeedvideo|binging with babish|bur...</td>\n",
       "      <td>That's not a cartoon burger, that's like legit...</td>\n",
       "      <td>0.0</td>\n",
       "      <td>17</td>\n",
       "      <td>3</td>\n",
       "      <td>59958</td>\n",
       "      <td>TRUE</td>\n",
       "      <td>TRUE</td>\n",
       "      <td>0</td>\n",
       "      <td>0</td>\n",
       "      <td>True</td>\n",
       "      <td>3390169</td>\n",
       "    </tr>\n",
       "    <tr>\n",
       "      <th>2207</th>\n",
       "      <td>WQR72LXe78</td>\n",
       "      <td>25</td>\n",
       "      <td>CNN</td>\n",
       "      <td>3095131.0</td>\n",
       "      <td>Nikki Haley: 'We will never accept a nuclear N...</td>\n",
       "      <td>latest News|Happening Now|CNN|united nations|n...</td>\n",
       "      <td>US Ambassador to the United Nations Nikki Hale...</td>\n",
       "      <td>0.0</td>\n",
       "      <td>19</td>\n",
       "      <td>4</td>\n",
       "      <td>128744</td>\n",
       "      <td>TRUE</td>\n",
       "      <td>FALSE</td>\n",
       "      <td>12386</td>\n",
       "      <td>11936</td>\n",
       "      <td>True</td>\n",
       "      <td>1028936</td>\n",
       "    </tr>\n",
       "    <tr>\n",
       "      <th>2265</th>\n",
       "      <td>TXP42XQF41</td>\n",
       "      <td>1</td>\n",
       "      <td>The Atlantic</td>\n",
       "      <td>93238.0</td>\n",
       "      <td>The Challenge of True Solitude</td>\n",
       "      <td>the atlantic|winter|cold|isolation|ghosts|isla...</td>\n",
       "      <td>“You have to be at peace with the fact that so...</td>\n",
       "      <td>0.0</td>\n",
       "      <td>25</td>\n",
       "      <td>2</td>\n",
       "      <td></td>\n",
       "      <td>FALSE</td>\n",
       "      <td>FALSE</td>\n",
       "      <td>20320</td>\n",
       "      <td>11714</td>\n",
       "      <td>False</td>\n",
       "      <td>154326</td>\n",
       "    </tr>\n",
       "  </tbody>\n",
       "</table>\n",
       "</div>"
      ],
      "text/plain": [
       "        Video_id  category_id     channel_title  subscriber  \\\n",
       "1952  KBC90MVa41           25  CBS This Morning    298962.0   \n",
       "2024  ADD83ZOA32           22     BuzzFeedVideo  14889874.0   \n",
       "2207  WQR72LXe78           25               CNN   3095131.0   \n",
       "2265  TXP42XQF41            1      The Atlantic     93238.0   \n",
       "\n",
       "                                                  title  \\\n",
       "1952  Senate passes historic GOP tax bill, House to ...   \n",
       "2024   Binging With Babish Cooks Bob's Burgers For Fans   \n",
       "2207  Nikki Haley: 'We will never accept a nuclear N...   \n",
       "2265                     The Challenge of True Solitude   \n",
       "\n",
       "                                                   tags  \\\n",
       "1952  video|cbs|news|Senate|tax reform|House|Republi...   \n",
       "2024  buzzfeed|buzzfeedvideo|binging with babish|bur...   \n",
       "2207  latest News|Happening Now|CNN|united nations|n...   \n",
       "2265  the atlantic|winter|cold|isolation|ghosts|isla...   \n",
       "\n",
       "                                            description  Trend_day_count  \\\n",
       "1952  The Senate approved a historic tax reform bill...           4444.0   \n",
       "2024  That's not a cartoon burger, that's like legit...              0.0   \n",
       "2207  US Ambassador to the United Nations Nikki Hale...              0.0   \n",
       "2265  “You have to be at peace with the fact that so...              0.0   \n",
       "\n",
       "     Tag_count Trend_tag_count comment_count comment_disabled  \\\n",
       "1952        13               7        126241             TRUE   \n",
       "2024        17               3         59958             TRUE   \n",
       "2207        19               4        128744             TRUE   \n",
       "2265        25               2                          FALSE   \n",
       "\n",
       "     like dislike disabled  likes dislike tag appered in title    views  \n",
       "1952                 FALSE  13482    8034                False   450132  \n",
       "2024                  TRUE      0       0                 True  3390169  \n",
       "2207                 FALSE  12386   11936                 True  1028936  \n",
       "2265                 FALSE  20320   11714                False   154326  "
      ]
     },
     "execution_count": 30,
     "metadata": {},
     "output_type": "execute_result"
    }
   ],
   "source": [
    "train[(train['Trend_day_count']==0) | (train['Trend_day_count']==4444)]\n"
   ]
  },
  {
   "cell_type": "code",
   "execution_count": 31,
   "metadata": {},
   "outputs": [
    {
     "data": {
      "text/plain": [
       "3159"
      ]
     },
     "execution_count": 31,
     "metadata": {},
     "output_type": "execute_result"
    }
   ],
   "source": [
    "train.drop(train[(train['Trend_day_count']==0) | (train['Trend_day_count']==4444)].index, inplace = True) \n",
    "len(train)\n"
   ]
  },
  {
   "cell_type": "code",
   "execution_count": 32,
   "metadata": {},
   "outputs": [
    {
     "data": {
      "text/plain": [
       "<AxesSubplot:xlabel='count', ylabel='Trend_day_count'>"
      ]
     },
     "execution_count": 32,
     "metadata": {},
     "output_type": "execute_result"
    },
    {
     "data": {
      "image/png": "[encoded data removed]",
      "text/plain": [
       "<Figure size 432x288 with 1 Axes>"
      ]
     },
     "metadata": {
      "needs_background": "light"
     },
     "output_type": "display_data"
    }
   ],
   "source": [
    "sns.countplot(data=train,y='Trend_day_count')"
   ]
  },
  {
   "cell_type": "markdown",
   "metadata": {},
   "source": [
    "# Tag_count"
   ]
  },
  {
   "cell_type": "code",
   "execution_count": 33,
   "metadata": {},
   "outputs": [
    {
     "data": {
      "text/plain": [
       "1"
      ]
     },
     "execution_count": 33,
     "metadata": {},
     "output_type": "execute_result"
    }
   ],
   "source": [
    "train['Tag_count'].isna().sum()"
   ]
  },
  {
   "cell_type": "code",
   "execution_count": 34,
   "metadata": {},
   "outputs": [
    {
     "data": {
      "text/plain": [
       "3158"
      ]
     },
     "execution_count": 34,
     "metadata": {},
     "output_type": "execute_result"
    }
   ],
   "source": [
    "train.dropna(subset=['Tag_count'],inplace=True)\n",
    "len(train)"
   ]
  },
  {
   "cell_type": "code",
   "execution_count": 35,
   "metadata": {},
   "outputs": [
    {
     "data": {
      "text/plain": [
       "array(['21', '23', '22', '17', '15', '9', '14', '20', '8', '10', '18',\n",
       "       '19', '25', '12', '24', '16', '11', '13', '3222', '3225', '0'],\n",
       "      dtype=object)"
      ]
     },
     "execution_count": 35,
     "metadata": {},
     "output_type": "execute_result"
    }
   ],
   "source": [
    "train['Tag_count'].unique()\n",
    "#Seems to be an error in tag_count of higher value"
   ]
  },
  {
   "cell_type": "code",
   "execution_count": 36,
   "metadata": {},
   "outputs": [
    {
     "data": {
      "text/plain": [
       "dtype('int64')"
      ]
     },
     "execution_count": 36,
     "metadata": {},
     "output_type": "execute_result"
    }
   ],
   "source": [
    "train['Tag_count']=train['Tag_count'].astype('int64')\n",
    "np.dtype(train['Tag_count'])"
   ]
  },
  {
   "cell_type": "code",
   "execution_count": 37,
   "metadata": {},
   "outputs": [],
   "source": [
    "train.replace([3222,3225],mode(train['Tag_count'])[0][0],inplace=True)\n"
   ]
  },
  {
   "cell_type": "code",
   "execution_count": 38,
   "metadata": {},
   "outputs": [
    {
     "data": {
      "text/plain": [
       "array([21, 23, 22, 17, 15,  9, 14, 20,  8, 10, 18, 19, 25, 12, 24, 16, 11,\n",
       "       13,  0], dtype=int64)"
      ]
     },
     "execution_count": 38,
     "metadata": {},
     "output_type": "execute_result"
    }
   ],
   "source": [
    "train['Tag_count'].unique()"
   ]
  },
  {
   "cell_type": "code",
   "execution_count": 39,
   "metadata": {},
   "outputs": [
    {
     "data": {
      "text/plain": [
       "<AxesSubplot:xlabel='count', ylabel='Tag_count'>"
      ]
     },
     "execution_count": 39,
     "metadata": {},
     "output_type": "execute_result"
    },
    {
     "data": {
      "image/png": "[encoded data removed]",
      "text/plain": [
       "<Figure size 432x288 with 1 Axes>"
      ]
     },
     "metadata": {
      "needs_background": "light"
     },
     "output_type": "display_data"
    }
   ],
   "source": [
    "sns.countplot(data=train,y='Tag_count')"
   ]
  },
  {
   "cell_type": "markdown",
   "metadata": {},
   "source": [
    "# Trend Tag Count"
   ]
  },
  {
   "cell_type": "code",
   "execution_count": 40,
   "metadata": {},
   "outputs": [
    {
     "data": {
      "text/plain": [
       "array(['6', '1', '3', '5', '7', '2', '4', nan, '>', '9903'], dtype=object)"
      ]
     },
     "execution_count": 40,
     "metadata": {},
     "output_type": "execute_result"
    }
   ],
   "source": [
    "train['Trend_tag_count'].unique()"
   ]
  },
  {
   "cell_type": "code",
   "execution_count": 41,
   "metadata": {},
   "outputs": [
    {
     "data": {
      "text/plain": [
       "1"
      ]
     },
     "execution_count": 41,
     "metadata": {},
     "output_type": "execute_result"
    }
   ],
   "source": [
    "train['Trend_tag_count'].isna().sum()"
   ]
  },
  {
   "cell_type": "markdown",
   "metadata": {},
   "source": [
    "***> seems to be a typo error and 9903 is an outlier*** "
   ]
  },
  {
   "cell_type": "code",
   "execution_count": 42,
   "metadata": {},
   "outputs": [
    {
     "data": {
      "text/html": [
       "<div>\n",
       "<style scoped>\n",
       "    .dataframe tbody tr th:only-of-type {\n",
       "        vertical-align: middle;\n",
       "    }\n",
       "\n",
       "    .dataframe tbody tr th {\n",
       "        vertical-align: top;\n",
       "    }\n",
       "\n",
       "    .dataframe thead th {\n",
       "        text-align: right;\n",
       "    }\n",
       "</style>\n",
       "<table border=\"1\" class=\"dataframe\">\n",
       "  <thead>\n",
       "    <tr style=\"text-align: right;\">\n",
       "      <th></th>\n",
       "      <th>Video_id</th>\n",
       "      <th>category_id</th>\n",
       "      <th>channel_title</th>\n",
       "      <th>subscriber</th>\n",
       "      <th>title</th>\n",
       "      <th>tags</th>\n",
       "      <th>description</th>\n",
       "      <th>Trend_day_count</th>\n",
       "      <th>Tag_count</th>\n",
       "      <th>Trend_tag_count</th>\n",
       "      <th>comment_count</th>\n",
       "      <th>comment_disabled</th>\n",
       "      <th>like dislike disabled</th>\n",
       "      <th>likes</th>\n",
       "      <th>dislike</th>\n",
       "      <th>tag appered in title</th>\n",
       "      <th>views</th>\n",
       "    </tr>\n",
       "  </thead>\n",
       "  <tbody>\n",
       "    <tr>\n",
       "      <th>85</th>\n",
       "      <td>DHG52DKE2</td>\n",
       "      <td>22</td>\n",
       "      <td>BuzzFeed Celeb</td>\n",
       "      <td>1360210.0</td>\n",
       "      <td>Mark Ruffalo Reads Hilarious Thirst Tweets</td>\n",
       "      <td>BuzzFeed|buzzfeed celeb|Mark Ruffalo|Thor|Ragn...</td>\n",
       "      <td>I'm just...I'm flattered.\\n\\nCredits: https://...</td>\n",
       "      <td>1.0</td>\n",
       "      <td>11</td>\n",
       "      <td>&gt;</td>\n",
       "      <td></td>\n",
       "      <td>FALSE</td>\n",
       "      <td>TRUE</td>\n",
       "      <td>0</td>\n",
       "      <td>0</td>\n",
       "      <td>True</td>\n",
       "      <td>300566</td>\n",
       "    </tr>\n",
       "    <tr>\n",
       "      <th>102</th>\n",
       "      <td>LOC2QLr9</td>\n",
       "      <td>23</td>\n",
       "      <td>Late Night with Seth Meyers</td>\n",
       "      <td>1968678.0</td>\n",
       "      <td>Mark Wahlberg's Kids Use Him for His Celeb Con...</td>\n",
       "      <td>Late Night|Seth Meyers|Mark Wahlberg|Kids|Cele...</td>\n",
       "      <td>Mark Wahlberg tells Seth how his kids want not...</td>\n",
       "      <td>12.0</td>\n",
       "      <td>24</td>\n",
       "      <td>9903</td>\n",
       "      <td></td>\n",
       "      <td>FALSE</td>\n",
       "      <td>FALSE</td>\n",
       "      <td>4528</td>\n",
       "      <td>2031</td>\n",
       "      <td>True</td>\n",
       "      <td>754626</td>\n",
       "    </tr>\n",
       "  </tbody>\n",
       "</table>\n",
       "</div>"
      ],
      "text/plain": [
       "      Video_id  category_id                channel_title  subscriber  \\\n",
       "85   DHG52DKE2           22               BuzzFeed Celeb   1360210.0   \n",
       "102   LOC2QLr9           23  Late Night with Seth Meyers   1968678.0   \n",
       "\n",
       "                                                 title  \\\n",
       "85          Mark Ruffalo Reads Hilarious Thirst Tweets   \n",
       "102  Mark Wahlberg's Kids Use Him for His Celeb Con...   \n",
       "\n",
       "                                                  tags  \\\n",
       "85   BuzzFeed|buzzfeed celeb|Mark Ruffalo|Thor|Ragn...   \n",
       "102  Late Night|Seth Meyers|Mark Wahlberg|Kids|Cele...   \n",
       "\n",
       "                                           description  Trend_day_count  \\\n",
       "85   I'm just...I'm flattered.\\n\\nCredits: https://...              1.0   \n",
       "102  Mark Wahlberg tells Seth how his kids want not...             12.0   \n",
       "\n",
       "     Tag_count Trend_tag_count comment_count comment_disabled  \\\n",
       "85          11               >                          FALSE   \n",
       "102         24            9903                          FALSE   \n",
       "\n",
       "    like dislike disabled likes dislike tag appered in title   views  \n",
       "85                   TRUE     0       0                 True  300566  \n",
       "102                 FALSE  4528    2031                 True  754626  "
      ]
     },
     "execution_count": 42,
     "metadata": {},
     "output_type": "execute_result"
    }
   ],
   "source": [
    "train[(train['Trend_tag_count']=='>') | (train['Trend_tag_count']=='9903')]"
   ]
  },
  {
   "cell_type": "code",
   "execution_count": 43,
   "metadata": {},
   "outputs": [],
   "source": [
    "train.drop(train[(train['Trend_tag_count']=='>') | (train['Trend_tag_count']=='9903')].index, inplace = True) \n",
    "train = train.dropna(subset=['Trend_tag_count'])\n"
   ]
  },
  {
   "cell_type": "code",
   "execution_count": 44,
   "metadata": {},
   "outputs": [
    {
     "data": {
      "text/plain": [
       "dtype('int64')"
      ]
     },
     "execution_count": 44,
     "metadata": {},
     "output_type": "execute_result"
    }
   ],
   "source": [
    "train['Trend_tag_count']=train['Trend_tag_count'].astype('int64')\n",
    "np.dtype(train['Trend_tag_count'])"
   ]
  },
  {
   "cell_type": "code",
   "execution_count": 45,
   "metadata": {},
   "outputs": [
    {
     "data": {
      "text/plain": [
       "array([6, 1, 3, 5, 7, 2, 4], dtype=int64)"
      ]
     },
     "execution_count": 45,
     "metadata": {},
     "output_type": "execute_result"
    }
   ],
   "source": [
    "train['Trend_tag_count'].unique()"
   ]
  },
  {
   "cell_type": "code",
   "execution_count": 46,
   "metadata": {},
   "outputs": [
    {
     "data": {
      "text/plain": [
       "3155"
      ]
     },
     "execution_count": 46,
     "metadata": {},
     "output_type": "execute_result"
    }
   ],
   "source": [
    "len(train)"
   ]
  },
  {
   "cell_type": "markdown",
   "metadata": {},
   "source": [
    "# Comment Count"
   ]
  },
  {
   "cell_type": "code",
   "execution_count": 47,
   "metadata": {},
   "outputs": [],
   "source": [
    "train['comment_count'].replace(' ',0,inplace=True)"
   ]
  },
  {
   "cell_type": "code",
   "execution_count": 48,
   "metadata": {},
   "outputs": [
    {
     "name": "stdout",
     "output_type": "stream",
     "text": [
      "int64\n"
     ]
    },
    {
     "data": {
      "text/html": [
       "<div>\n",
       "<style scoped>\n",
       "    .dataframe tbody tr th:only-of-type {\n",
       "        vertical-align: middle;\n",
       "    }\n",
       "\n",
       "    .dataframe tbody tr th {\n",
       "        vertical-align: top;\n",
       "    }\n",
       "\n",
       "    .dataframe thead th {\n",
       "        text-align: right;\n",
       "    }\n",
       "</style>\n",
       "<table border=\"1\" class=\"dataframe\">\n",
       "  <thead>\n",
       "    <tr style=\"text-align: right;\">\n",
       "      <th></th>\n",
       "      <th>Video_id</th>\n",
       "      <th>category_id</th>\n",
       "      <th>channel_title</th>\n",
       "      <th>subscriber</th>\n",
       "      <th>title</th>\n",
       "      <th>tags</th>\n",
       "      <th>description</th>\n",
       "      <th>Trend_day_count</th>\n",
       "      <th>Tag_count</th>\n",
       "      <th>Trend_tag_count</th>\n",
       "      <th>comment_count</th>\n",
       "      <th>comment_disabled</th>\n",
       "      <th>like dislike disabled</th>\n",
       "      <th>likes</th>\n",
       "      <th>dislike</th>\n",
       "      <th>tag appered in title</th>\n",
       "      <th>views</th>\n",
       "    </tr>\n",
       "  </thead>\n",
       "  <tbody>\n",
       "    <tr>\n",
       "      <th>0</th>\n",
       "      <td>HDR9SQc79</td>\n",
       "      <td>22</td>\n",
       "      <td>CaseyNeistat</td>\n",
       "      <td>9086142.0</td>\n",
       "      <td>WE WANT TO TALK ABOUT OUR MARRIAGE</td>\n",
       "      <td>SHANtell martin</td>\n",
       "      <td>SHANTELL'S CHANNEL - https://www.youtube.com/s...</td>\n",
       "      <td>6.0</td>\n",
       "      <td>21</td>\n",
       "      <td>6</td>\n",
       "      <td>0</td>\n",
       "      <td>FALSE</td>\n",
       "      <td>FALSE</td>\n",
       "      <td>13342</td>\n",
       "      <td>6089</td>\n",
       "      <td>False</td>\n",
       "      <td>1978978</td>\n",
       "    </tr>\n",
       "    <tr>\n",
       "      <th>1</th>\n",
       "      <td>KNH52UF?48</td>\n",
       "      <td>24</td>\n",
       "      <td>LastWeekTonight</td>\n",
       "      <td>5937292.0</td>\n",
       "      <td>The Trump Presidency: Last Week Tonight with J...</td>\n",
       "      <td>last week tonight trump presidency|last week t...</td>\n",
       "      <td>One year after the presidential election, John...</td>\n",
       "      <td>1.0</td>\n",
       "      <td>23</td>\n",
       "      <td>1</td>\n",
       "      <td>116266</td>\n",
       "      <td>TRUE</td>\n",
       "      <td>FALSE</td>\n",
       "      <td>5761</td>\n",
       "      <td>3044</td>\n",
       "      <td>False</td>\n",
       "      <td>1487870</td>\n",
       "    </tr>\n",
       "    <tr>\n",
       "      <th>2</th>\n",
       "      <td>QTW28IRG36</td>\n",
       "      <td>23</td>\n",
       "      <td>Rudy Mancuso</td>\n",
       "      <td>4191209.0</td>\n",
       "      <td>Racist Superman | Rudy Mancuso, King Bach &amp; Le...</td>\n",
       "      <td>racist superman|rudy|mancuso|king|bach|racist|...</td>\n",
       "      <td>WATCH MY PREVIOUS VIDEO ▶ \\n\\nSUBSCRIBE ► http...</td>\n",
       "      <td>10.0</td>\n",
       "      <td>22</td>\n",
       "      <td>3</td>\n",
       "      <td>257850</td>\n",
       "      <td>TRUE</td>\n",
       "      <td>TRUE</td>\n",
       "      <td>0</td>\n",
       "      <td>0</td>\n",
       "      <td>True</td>\n",
       "      <td>1502102</td>\n",
       "    </tr>\n",
       "    <tr>\n",
       "      <th>3</th>\n",
       "      <td>MGL76WI]26</td>\n",
       "      <td>24</td>\n",
       "      <td>Good Mythical Morning</td>\n",
       "      <td>13186408.0</td>\n",
       "      <td>Nickelback Lyrics: Real or Fake?</td>\n",
       "      <td>rhett and link|gmm|good mythical morning|rhett...</td>\n",
       "      <td>Today we find out if Link is a Nickelback amat...</td>\n",
       "      <td>12.0</td>\n",
       "      <td>17</td>\n",
       "      <td>5</td>\n",
       "      <td>263939</td>\n",
       "      <td>TRUE</td>\n",
       "      <td>TRUE</td>\n",
       "      <td>0</td>\n",
       "      <td>0</td>\n",
       "      <td>True</td>\n",
       "      <td>3519302</td>\n",
       "    </tr>\n",
       "    <tr>\n",
       "      <th>4</th>\n",
       "      <td>TWP93KXT70</td>\n",
       "      <td>24</td>\n",
       "      <td>nigahiga</td>\n",
       "      <td>20563106.0</td>\n",
       "      <td>I Dare You: GOING BALD!?</td>\n",
       "      <td>ryan|higa|higatv|nigahiga|i dare you|idy|rhpc|...</td>\n",
       "      <td>I know it's been a while since we did this sho...</td>\n",
       "      <td>11.0</td>\n",
       "      <td>15</td>\n",
       "      <td>7</td>\n",
       "      <td>268085</td>\n",
       "      <td>TRUE</td>\n",
       "      <td>TRUE</td>\n",
       "      <td>0</td>\n",
       "      <td>0</td>\n",
       "      <td>True</td>\n",
       "      <td>4835374</td>\n",
       "    </tr>\n",
       "    <tr>\n",
       "      <th>5</th>\n",
       "      <td>JDJ37HWR29</td>\n",
       "      <td>28</td>\n",
       "      <td>iJustine</td>\n",
       "      <td>4652602.0</td>\n",
       "      <td>2 Weeks with iPhone X</td>\n",
       "      <td>ijustine|week with iPhone X|iphone x|apple|iph...</td>\n",
       "      <td>Thanks for watching! Don't forget to subscribe...</td>\n",
       "      <td>10.0</td>\n",
       "      <td>9</td>\n",
       "      <td>1</td>\n",
       "      <td>198248</td>\n",
       "      <td>TRUE</td>\n",
       "      <td>FALSE</td>\n",
       "      <td>8619</td>\n",
       "      <td>3697</td>\n",
       "      <td>True</td>\n",
       "      <td>1580238</td>\n",
       "    </tr>\n",
       "    <tr>\n",
       "      <th>6</th>\n",
       "      <td>INH29DD?32</td>\n",
       "      <td>24</td>\n",
       "      <td>Saturday Night Live</td>\n",
       "      <td>5292034.0</td>\n",
       "      <td>Roy Moore &amp; Jeff Sessions Cold Open - SNL</td>\n",
       "      <td>SNL|Saturday Night Live|SNL Season 43|Episode ...</td>\n",
       "      <td>Embattled Alabama Senate candidate Roy Moore (...</td>\n",
       "      <td>4.0</td>\n",
       "      <td>17</td>\n",
       "      <td>5</td>\n",
       "      <td>0</td>\n",
       "      <td>FALSE</td>\n",
       "      <td>FALSE</td>\n",
       "      <td>9951</td>\n",
       "      <td>937</td>\n",
       "      <td>False</td>\n",
       "      <td>1204461</td>\n",
       "    </tr>\n",
       "    <tr>\n",
       "      <th>7</th>\n",
       "      <td>ENJ69DGJ93</td>\n",
       "      <td>28</td>\n",
       "      <td>CrazyRussianHacker</td>\n",
       "      <td>10474796.0</td>\n",
       "      <td>5 Ice Cream Gadgets put to the Test</td>\n",
       "      <td>5 Ice Cream Gadgets|Ice Cream|Cream Sandwich M...</td>\n",
       "      <td>Ice Cream Pint Combination Lock - http://amzn....</td>\n",
       "      <td>9.0</td>\n",
       "      <td>14</td>\n",
       "      <td>7</td>\n",
       "      <td>103280</td>\n",
       "      <td>TRUE</td>\n",
       "      <td>FALSE</td>\n",
       "      <td>18010</td>\n",
       "      <td>11026</td>\n",
       "      <td>True</td>\n",
       "      <td>2542878</td>\n",
       "    </tr>\n",
       "    <tr>\n",
       "      <th>8</th>\n",
       "      <td>ZXD32BTa68</td>\n",
       "      <td>1</td>\n",
       "      <td>20th Century Fox</td>\n",
       "      <td>2453494.0</td>\n",
       "      <td>The Greatest Showman | Official Trailer 2 [HD]...</td>\n",
       "      <td>Trailer|Hugh Jackman|Michelle Williams|Zac Efr...</td>\n",
       "      <td>Inspired by the imagination of P.T. Barnum, Th...</td>\n",
       "      <td>8.0</td>\n",
       "      <td>20</td>\n",
       "      <td>1</td>\n",
       "      <td>214583</td>\n",
       "      <td>TRUE</td>\n",
       "      <td>FALSE</td>\n",
       "      <td>12126</td>\n",
       "      <td>7855</td>\n",
       "      <td>True</td>\n",
       "      <td>1090597</td>\n",
       "    </tr>\n",
       "    <tr>\n",
       "      <th>9</th>\n",
       "      <td>NCA33YGN27</td>\n",
       "      <td>25</td>\n",
       "      <td>Vox</td>\n",
       "      <td>3808198.0</td>\n",
       "      <td>Why the rise of the robots won’t mean the end ...</td>\n",
       "      <td>vox.com|vox|explain|shift change|future of wor...</td>\n",
       "      <td>For now, at least, we have better things to wo...</td>\n",
       "      <td>11.0</td>\n",
       "      <td>8</td>\n",
       "      <td>2</td>\n",
       "      <td>223434</td>\n",
       "      <td>TRUE</td>\n",
       "      <td>TRUE</td>\n",
       "      <td>0</td>\n",
       "      <td>0</td>\n",
       "      <td>True</td>\n",
       "      <td>1407313</td>\n",
       "    </tr>\n",
       "    <tr>\n",
       "      <th>10</th>\n",
       "      <td>BQQ21ZVm59</td>\n",
       "      <td>17</td>\n",
       "      <td>NFL</td>\n",
       "      <td>3212413.0</td>\n",
       "      <td>Dion Lewis' 103-Yd Kick Return TD vs. Denver! ...</td>\n",
       "      <td>NFL|Football|offense|defense|afc|nfc|American ...</td>\n",
       "      <td>New England Patriots returner Dion Lewis blast...</td>\n",
       "      <td>4.0</td>\n",
       "      <td>22</td>\n",
       "      <td>3</td>\n",
       "      <td>267443</td>\n",
       "      <td>TRUE</td>\n",
       "      <td>FALSE</td>\n",
       "      <td>11933</td>\n",
       "      <td>9200</td>\n",
       "      <td>False</td>\n",
       "      <td>1293021</td>\n",
       "    </tr>\n",
       "    <tr>\n",
       "      <th>11</th>\n",
       "      <td>SEF40YEp58</td>\n",
       "      <td>24</td>\n",
       "      <td>amc</td>\n",
       "      <td>657573.0</td>\n",
       "      <td>(SPOILERS) 'Shiva Saves the Day' Talked About ...</td>\n",
       "      <td>The Walking Dead|shiva|tiger|king ezekiel|epis...</td>\n",
       "      <td>Shiva arrives just in time as King Ezekiel att...</td>\n",
       "      <td>7.0</td>\n",
       "      <td>10</td>\n",
       "      <td>2</td>\n",
       "      <td>210007</td>\n",
       "      <td>TRUE</td>\n",
       "      <td>FALSE</td>\n",
       "      <td>7256</td>\n",
       "      <td>5442</td>\n",
       "      <td>True</td>\n",
       "      <td>631519</td>\n",
       "    </tr>\n",
       "    <tr>\n",
       "      <th>12</th>\n",
       "      <td>OQU60INj45</td>\n",
       "      <td>10</td>\n",
       "      <td>marshmello</td>\n",
       "      <td>11146743.0</td>\n",
       "      <td>Marshmello - Blocks (Official Music Video)</td>\n",
       "      <td>marshmello|blocks|marshmello blocks|blocks mus...</td>\n",
       "      <td>WATCH SILENCE MUSIC VIDEO ▶ https://youtu.be/T...</td>\n",
       "      <td>7.0</td>\n",
       "      <td>22</td>\n",
       "      <td>4</td>\n",
       "      <td>247944</td>\n",
       "      <td>TRUE</td>\n",
       "      <td>FALSE</td>\n",
       "      <td>15073</td>\n",
       "      <td>13511</td>\n",
       "      <td>NaN</td>\n",
       "      <td>60</td>\n",
       "    </tr>\n",
       "    <tr>\n",
       "      <th>13</th>\n",
       "      <td>QTI12DNb53</td>\n",
       "      <td>25</td>\n",
       "      <td>NowThis World</td>\n",
       "      <td>1740822.0</td>\n",
       "      <td>Which Countries Are About To Collapse?</td>\n",
       "      <td>nowthis|nowthis world|world news|nowthis news|...</td>\n",
       "      <td>The world at large is improving, but some coun...</td>\n",
       "      <td>11.0</td>\n",
       "      <td>18</td>\n",
       "      <td>7</td>\n",
       "      <td>106826</td>\n",
       "      <td>TRUE</td>\n",
       "      <td>FALSE</td>\n",
       "      <td>13923</td>\n",
       "      <td>7470</td>\n",
       "      <td>True</td>\n",
       "      <td>844403</td>\n",
       "    </tr>\n",
       "    <tr>\n",
       "      <th>14</th>\n",
       "      <td>SHP12LIj51</td>\n",
       "      <td>15</td>\n",
       "      <td>The king of DIY</td>\n",
       "      <td>725479.0</td>\n",
       "      <td>SHOPPING FOR NEW FISH!!!</td>\n",
       "      <td>shopping for new fish|new fish|aquarium fish|a...</td>\n",
       "      <td>Here is what i bought: https://www.youtube.com...</td>\n",
       "      <td>9.0</td>\n",
       "      <td>10</td>\n",
       "      <td>2</td>\n",
       "      <td>0</td>\n",
       "      <td>FALSE</td>\n",
       "      <td>FALSE</td>\n",
       "      <td>22331</td>\n",
       "      <td>14557</td>\n",
       "      <td>True</td>\n",
       "      <td>352657</td>\n",
       "    </tr>\n",
       "    <tr>\n",
       "      <th>15</th>\n",
       "      <td>TAE9URl23</td>\n",
       "      <td>28</td>\n",
       "      <td>BostonDynamics</td>\n",
       "      <td>824219.0</td>\n",
       "      <td>The New SpotMini</td>\n",
       "      <td>Robots|Boston Dynamics|SpotMini|Legged Locomot...</td>\n",
       "      <td>For more information . . . stay tuned.</td>\n",
       "      <td>5.0</td>\n",
       "      <td>22</td>\n",
       "      <td>4</td>\n",
       "      <td>0</td>\n",
       "      <td>FALSE</td>\n",
       "      <td>TRUE</td>\n",
       "      <td>0</td>\n",
       "      <td>0</td>\n",
       "      <td>True</td>\n",
       "      <td>271312</td>\n",
       "    </tr>\n",
       "    <tr>\n",
       "      <th>16</th>\n",
       "      <td>MWG80DHU39</td>\n",
       "      <td>23</td>\n",
       "      <td>Cracked</td>\n",
       "      <td>2158902.0</td>\n",
       "      <td>One Change That Would Make Pacific Rim a Classic</td>\n",
       "      <td>pacific rim|pacific rim 2|pacific rim sequel|G...</td>\n",
       "      <td>Pacific Rim was so good, we can’t believe they...</td>\n",
       "      <td>4.0</td>\n",
       "      <td>17</td>\n",
       "      <td>3</td>\n",
       "      <td>0</td>\n",
       "      <td>FALSE</td>\n",
       "      <td>TRUE</td>\n",
       "      <td>0</td>\n",
       "      <td>0</td>\n",
       "      <td>True</td>\n",
       "      <td>518595</td>\n",
       "    </tr>\n",
       "    <tr>\n",
       "      <th>17</th>\n",
       "      <td>TVY50JW\\54</td>\n",
       "      <td>27</td>\n",
       "      <td>TED-Ed</td>\n",
       "      <td>6091542.0</td>\n",
       "      <td>How does your body know you're full? - Hilary ...</td>\n",
       "      <td>TED|TED-Ed|TED Education|TED Ed|Hilary Coller|...</td>\n",
       "      <td>Check out our Patreon page: https://www.patreo...</td>\n",
       "      <td>3.0</td>\n",
       "      <td>18</td>\n",
       "      <td>6</td>\n",
       "      <td>266360</td>\n",
       "      <td>TRUE</td>\n",
       "      <td>TRUE</td>\n",
       "      <td>0</td>\n",
       "      <td>0</td>\n",
       "      <td>False</td>\n",
       "      <td>1782631</td>\n",
       "    </tr>\n",
       "    <tr>\n",
       "      <th>18</th>\n",
       "      <td>QPK66WVC92</td>\n",
       "      <td>28</td>\n",
       "      <td>PeterSripol</td>\n",
       "      <td>483293.0</td>\n",
       "      <td>HomeMade Electric Airplane</td>\n",
       "      <td>ultralight|airplane|homemade|DIY|hoverbike|par...</td>\n",
       "      <td>aaaannnd now to fly out of ground effect! The ...</td>\n",
       "      <td>6.0</td>\n",
       "      <td>23</td>\n",
       "      <td>3</td>\n",
       "      <td>60320</td>\n",
       "      <td>TRUE</td>\n",
       "      <td>FALSE</td>\n",
       "      <td>17366</td>\n",
       "      <td>12195</td>\n",
       "      <td>False</td>\n",
       "      <td>422304</td>\n",
       "    </tr>\n",
       "    <tr>\n",
       "      <th>19</th>\n",
       "      <td>ZGJ23BH=92</td>\n",
       "      <td>27</td>\n",
       "      <td>SciShow</td>\n",
       "      <td>4853444.0</td>\n",
       "      <td>Founding An Inbreeding-Free Space Colony</td>\n",
       "      <td>SciShow|science|Hank|Green|education|learn|ste...</td>\n",
       "      <td>Thanks to 23AndMe for supporting SciShow. Thes...</td>\n",
       "      <td>9.0</td>\n",
       "      <td>19</td>\n",
       "      <td>1</td>\n",
       "      <td>161132</td>\n",
       "      <td>TRUE</td>\n",
       "      <td>FALSE</td>\n",
       "      <td>7182</td>\n",
       "      <td>5147</td>\n",
       "      <td>True</td>\n",
       "      <td>1486250</td>\n",
       "    </tr>\n",
       "  </tbody>\n",
       "</table>\n",
       "</div>"
      ],
      "text/plain": [
       "      Video_id  category_id          channel_title  subscriber  \\\n",
       "0    HDR9SQc79           22           CaseyNeistat   9086142.0   \n",
       "1   KNH52UF?48           24        LastWeekTonight   5937292.0   \n",
       "2   QTW28IRG36           23           Rudy Mancuso   4191209.0   \n",
       "3   MGL76WI]26           24  Good Mythical Morning  13186408.0   \n",
       "4   TWP93KXT70           24               nigahiga  20563106.0   \n",
       "5   JDJ37HWR29           28               iJustine   4652602.0   \n",
       "6   INH29DD?32           24    Saturday Night Live   5292034.0   \n",
       "7   ENJ69DGJ93           28     CrazyRussianHacker  10474796.0   \n",
       "8   ZXD32BTa68            1       20th Century Fox   2453494.0   \n",
       "9   NCA33YGN27           25                    Vox   3808198.0   \n",
       "10  BQQ21ZVm59           17                    NFL   3212413.0   \n",
       "11  SEF40YEp58           24                    amc    657573.0   \n",
       "12  OQU60INj45           10             marshmello  11146743.0   \n",
       "13  QTI12DNb53           25          NowThis World   1740822.0   \n",
       "14  SHP12LIj51           15        The king of DIY    725479.0   \n",
       "15   TAE9URl23           28         BostonDynamics    824219.0   \n",
       "16  MWG80DHU39           23                Cracked   2158902.0   \n",
       "17  TVY50JW\\54           27                 TED-Ed   6091542.0   \n",
       "18  QPK66WVC92           28            PeterSripol    483293.0   \n",
       "19  ZGJ23BH=92           27                SciShow   4853444.0   \n",
       "\n",
       "                                                title  \\\n",
       "0                  WE WANT TO TALK ABOUT OUR MARRIAGE   \n",
       "1   The Trump Presidency: Last Week Tonight with J...   \n",
       "2   Racist Superman | Rudy Mancuso, King Bach & Le...   \n",
       "3                    Nickelback Lyrics: Real or Fake?   \n",
       "4                            I Dare You: GOING BALD!?   \n",
       "5                               2 Weeks with iPhone X   \n",
       "6           Roy Moore & Jeff Sessions Cold Open - SNL   \n",
       "7                 5 Ice Cream Gadgets put to the Test   \n",
       "8   The Greatest Showman | Official Trailer 2 [HD]...   \n",
       "9   Why the rise of the robots won’t mean the end ...   \n",
       "10  Dion Lewis' 103-Yd Kick Return TD vs. Denver! ...   \n",
       "11  (SPOILERS) 'Shiva Saves the Day' Talked About ...   \n",
       "12         Marshmello - Blocks (Official Music Video)   \n",
       "13             Which Countries Are About To Collapse?   \n",
       "14                           SHOPPING FOR NEW FISH!!!   \n",
       "15                                   The New SpotMini   \n",
       "16   One Change That Would Make Pacific Rim a Classic   \n",
       "17  How does your body know you're full? - Hilary ...   \n",
       "18                         HomeMade Electric Airplane   \n",
       "19           Founding An Inbreeding-Free Space Colony   \n",
       "\n",
       "                                                 tags  \\\n",
       "0                                     SHANtell martin   \n",
       "1   last week tonight trump presidency|last week t...   \n",
       "2   racist superman|rudy|mancuso|king|bach|racist|...   \n",
       "3   rhett and link|gmm|good mythical morning|rhett...   \n",
       "4   ryan|higa|higatv|nigahiga|i dare you|idy|rhpc|...   \n",
       "5   ijustine|week with iPhone X|iphone x|apple|iph...   \n",
       "6   SNL|Saturday Night Live|SNL Season 43|Episode ...   \n",
       "7   5 Ice Cream Gadgets|Ice Cream|Cream Sandwich M...   \n",
       "8   Trailer|Hugh Jackman|Michelle Williams|Zac Efr...   \n",
       "9   vox.com|vox|explain|shift change|future of wor...   \n",
       "10  NFL|Football|offense|defense|afc|nfc|American ...   \n",
       "11  The Walking Dead|shiva|tiger|king ezekiel|epis...   \n",
       "12  marshmello|blocks|marshmello blocks|blocks mus...   \n",
       "13  nowthis|nowthis world|world news|nowthis news|...   \n",
       "14  shopping for new fish|new fish|aquarium fish|a...   \n",
       "15  Robots|Boston Dynamics|SpotMini|Legged Locomot...   \n",
       "16  pacific rim|pacific rim 2|pacific rim sequel|G...   \n",
       "17  TED|TED-Ed|TED Education|TED Ed|Hilary Coller|...   \n",
       "18  ultralight|airplane|homemade|DIY|hoverbike|par...   \n",
       "19  SciShow|science|Hank|Green|education|learn|ste...   \n",
       "\n",
       "                                          description  Trend_day_count  \\\n",
       "0   SHANTELL'S CHANNEL - https://www.youtube.com/s...              6.0   \n",
       "1   One year after the presidential election, John...              1.0   \n",
       "2   WATCH MY PREVIOUS VIDEO ▶ \\n\\nSUBSCRIBE ► http...             10.0   \n",
       "3   Today we find out if Link is a Nickelback amat...             12.0   \n",
       "4   I know it's been a while since we did this sho...             11.0   \n",
       "5   Thanks for watching! Don't forget to subscribe...             10.0   \n",
       "6   Embattled Alabama Senate candidate Roy Moore (...              4.0   \n",
       "7   Ice Cream Pint Combination Lock - http://amzn....              9.0   \n",
       "8   Inspired by the imagination of P.T. Barnum, Th...              8.0   \n",
       "9   For now, at least, we have better things to wo...             11.0   \n",
       "10  New England Patriots returner Dion Lewis blast...              4.0   \n",
       "11  Shiva arrives just in time as King Ezekiel att...              7.0   \n",
       "12  WATCH SILENCE MUSIC VIDEO ▶ https://youtu.be/T...              7.0   \n",
       "13  The world at large is improving, but some coun...             11.0   \n",
       "14  Here is what i bought: https://www.youtube.com...              9.0   \n",
       "15             For more information . . . stay tuned.              5.0   \n",
       "16  Pacific Rim was so good, we can’t believe they...              4.0   \n",
       "17  Check out our Patreon page: https://www.patreo...              3.0   \n",
       "18  aaaannnd now to fly out of ground effect! The ...              6.0   \n",
       "19  Thanks to 23AndMe for supporting SciShow. Thes...              9.0   \n",
       "\n",
       "    Tag_count  Trend_tag_count  comment_count comment_disabled  \\\n",
       "0          21                6              0            FALSE   \n",
       "1          23                1         116266             TRUE   \n",
       "2          22                3         257850             TRUE   \n",
       "3          17                5         263939             TRUE   \n",
       "4          15                7         268085             TRUE   \n",
       "5           9                1         198248             TRUE   \n",
       "6          17                5              0            FALSE   \n",
       "7          14                7         103280             TRUE   \n",
       "8          20                1         214583             TRUE   \n",
       "9           8                2         223434             TRUE   \n",
       "10         22                3         267443             TRUE   \n",
       "11         10                2         210007             TRUE   \n",
       "12         22                4         247944             TRUE   \n",
       "13         18                7         106826             TRUE   \n",
       "14         10                2              0            FALSE   \n",
       "15         22                4              0            FALSE   \n",
       "16         17                3              0            FALSE   \n",
       "17         18                6         266360             TRUE   \n",
       "18         23                3          60320             TRUE   \n",
       "19         19                1         161132             TRUE   \n",
       "\n",
       "   like dislike disabled  likes dislike tag appered in title    views  \n",
       "0                  FALSE  13342    6089                False  1978978  \n",
       "1                  FALSE   5761    3044                False  1487870  \n",
       "2                   TRUE      0       0                 True  1502102  \n",
       "3                   TRUE      0       0                 True  3519302  \n",
       "4                   TRUE      0       0                 True  4835374  \n",
       "5                  FALSE   8619    3697                 True  1580238  \n",
       "6                  FALSE   9951     937                False  1204461  \n",
       "7                  FALSE  18010   11026                 True  2542878  \n",
       "8                  FALSE  12126    7855                 True  1090597  \n",
       "9                   TRUE      0       0                 True  1407313  \n",
       "10                 FALSE  11933    9200                False  1293021  \n",
       "11                 FALSE   7256    5442                 True   631519  \n",
       "12                 FALSE  15073   13511                  NaN       60  \n",
       "13                 FALSE  13923    7470                 True   844403  \n",
       "14                 FALSE  22331   14557                 True   352657  \n",
       "15                  TRUE      0       0                 True   271312  \n",
       "16                  TRUE      0       0                 True   518595  \n",
       "17                  TRUE      0       0                False  1782631  \n",
       "18                 FALSE  17366   12195                False   422304  \n",
       "19                 FALSE   7182    5147                 True  1486250  "
      ]
     },
     "execution_count": 48,
     "metadata": {},
     "output_type": "execute_result"
    }
   ],
   "source": [
    "train['comment_count']=train['comment_count'].astype('int64')\n",
    "print(np.dtype(train['comment_count']))\n",
    "train.head(20)"
   ]
  },
  {
   "cell_type": "code",
   "execution_count": 49,
   "metadata": {},
   "outputs": [
    {
     "data": {
      "text/plain": [
       "1002"
      ]
     },
     "execution_count": 49,
     "metadata": {},
     "output_type": "execute_result"
    }
   ],
   "source": [
    "len(train[train['comment_count']==0])"
   ]
  },
  {
   "cell_type": "markdown",
   "metadata": {},
   "source": [
    "# Comment _disabled"
   ]
  },
  {
   "cell_type": "code",
   "execution_count": 50,
   "metadata": {},
   "outputs": [
    {
     "data": {
      "text/plain": [
       "array(['FALSE', 'TRUE'], dtype=object)"
      ]
     },
     "execution_count": 50,
     "metadata": {},
     "output_type": "execute_result"
    }
   ],
   "source": [
    "train['comment_disabled'].unique()"
   ]
  },
  {
   "cell_type": "code",
   "execution_count": 51,
   "metadata": {},
   "outputs": [
    {
     "data": {
      "text/html": [
       "<div>\n",
       "<style scoped>\n",
       "    .dataframe tbody tr th:only-of-type {\n",
       "        vertical-align: middle;\n",
       "    }\n",
       "\n",
       "    .dataframe tbody tr th {\n",
       "        vertical-align: top;\n",
       "    }\n",
       "\n",
       "    .dataframe thead th {\n",
       "        text-align: right;\n",
       "    }\n",
       "</style>\n",
       "<table border=\"1\" class=\"dataframe\">\n",
       "  <thead>\n",
       "    <tr style=\"text-align: right;\">\n",
       "      <th></th>\n",
       "      <th>Video_id</th>\n",
       "      <th>category_id</th>\n",
       "      <th>channel_title</th>\n",
       "      <th>subscriber</th>\n",
       "      <th>title</th>\n",
       "      <th>tags</th>\n",
       "      <th>description</th>\n",
       "      <th>Trend_day_count</th>\n",
       "      <th>Tag_count</th>\n",
       "      <th>Trend_tag_count</th>\n",
       "      <th>comment_count</th>\n",
       "      <th>comment_disabled</th>\n",
       "      <th>like dislike disabled</th>\n",
       "      <th>likes</th>\n",
       "      <th>dislike</th>\n",
       "      <th>tag appered in title</th>\n",
       "      <th>views</th>\n",
       "    </tr>\n",
       "  </thead>\n",
       "  <tbody>\n",
       "    <tr>\n",
       "      <th>0</th>\n",
       "      <td>HDR9SQc79</td>\n",
       "      <td>22</td>\n",
       "      <td>CaseyNeistat</td>\n",
       "      <td>9086142.0</td>\n",
       "      <td>WE WANT TO TALK ABOUT OUR MARRIAGE</td>\n",
       "      <td>SHANtell martin</td>\n",
       "      <td>SHANTELL'S CHANNEL - https://www.youtube.com/s...</td>\n",
       "      <td>6.0</td>\n",
       "      <td>21</td>\n",
       "      <td>6</td>\n",
       "      <td>0</td>\n",
       "      <td>True</td>\n",
       "      <td>FALSE</td>\n",
       "      <td>13342</td>\n",
       "      <td>6089</td>\n",
       "      <td>False</td>\n",
       "      <td>1978978</td>\n",
       "    </tr>\n",
       "    <tr>\n",
       "      <th>1</th>\n",
       "      <td>KNH52UF?48</td>\n",
       "      <td>24</td>\n",
       "      <td>LastWeekTonight</td>\n",
       "      <td>5937292.0</td>\n",
       "      <td>The Trump Presidency: Last Week Tonight with J...</td>\n",
       "      <td>last week tonight trump presidency|last week t...</td>\n",
       "      <td>One year after the presidential election, John...</td>\n",
       "      <td>1.0</td>\n",
       "      <td>23</td>\n",
       "      <td>1</td>\n",
       "      <td>116266</td>\n",
       "      <td>False</td>\n",
       "      <td>FALSE</td>\n",
       "      <td>5761</td>\n",
       "      <td>3044</td>\n",
       "      <td>False</td>\n",
       "      <td>1487870</td>\n",
       "    </tr>\n",
       "    <tr>\n",
       "      <th>2</th>\n",
       "      <td>QTW28IRG36</td>\n",
       "      <td>23</td>\n",
       "      <td>Rudy Mancuso</td>\n",
       "      <td>4191209.0</td>\n",
       "      <td>Racist Superman | Rudy Mancuso, King Bach &amp; Le...</td>\n",
       "      <td>racist superman|rudy|mancuso|king|bach|racist|...</td>\n",
       "      <td>WATCH MY PREVIOUS VIDEO ▶ \\n\\nSUBSCRIBE ► http...</td>\n",
       "      <td>10.0</td>\n",
       "      <td>22</td>\n",
       "      <td>3</td>\n",
       "      <td>257850</td>\n",
       "      <td>False</td>\n",
       "      <td>TRUE</td>\n",
       "      <td>0</td>\n",
       "      <td>0</td>\n",
       "      <td>True</td>\n",
       "      <td>1502102</td>\n",
       "    </tr>\n",
       "    <tr>\n",
       "      <th>3</th>\n",
       "      <td>MGL76WI]26</td>\n",
       "      <td>24</td>\n",
       "      <td>Good Mythical Morning</td>\n",
       "      <td>13186408.0</td>\n",
       "      <td>Nickelback Lyrics: Real or Fake?</td>\n",
       "      <td>rhett and link|gmm|good mythical morning|rhett...</td>\n",
       "      <td>Today we find out if Link is a Nickelback amat...</td>\n",
       "      <td>12.0</td>\n",
       "      <td>17</td>\n",
       "      <td>5</td>\n",
       "      <td>263939</td>\n",
       "      <td>False</td>\n",
       "      <td>TRUE</td>\n",
       "      <td>0</td>\n",
       "      <td>0</td>\n",
       "      <td>True</td>\n",
       "      <td>3519302</td>\n",
       "    </tr>\n",
       "    <tr>\n",
       "      <th>4</th>\n",
       "      <td>TWP93KXT70</td>\n",
       "      <td>24</td>\n",
       "      <td>nigahiga</td>\n",
       "      <td>20563106.0</td>\n",
       "      <td>I Dare You: GOING BALD!?</td>\n",
       "      <td>ryan|higa|higatv|nigahiga|i dare you|idy|rhpc|...</td>\n",
       "      <td>I know it's been a while since we did this sho...</td>\n",
       "      <td>11.0</td>\n",
       "      <td>15</td>\n",
       "      <td>7</td>\n",
       "      <td>268085</td>\n",
       "      <td>False</td>\n",
       "      <td>TRUE</td>\n",
       "      <td>0</td>\n",
       "      <td>0</td>\n",
       "      <td>True</td>\n",
       "      <td>4835374</td>\n",
       "    </tr>\n",
       "  </tbody>\n",
       "</table>\n",
       "</div>"
      ],
      "text/plain": [
       "     Video_id  category_id          channel_title  subscriber  \\\n",
       "0   HDR9SQc79           22           CaseyNeistat   9086142.0   \n",
       "1  KNH52UF?48           24        LastWeekTonight   5937292.0   \n",
       "2  QTW28IRG36           23           Rudy Mancuso   4191209.0   \n",
       "3  MGL76WI]26           24  Good Mythical Morning  13186408.0   \n",
       "4  TWP93KXT70           24               nigahiga  20563106.0   \n",
       "\n",
       "                                               title  \\\n",
       "0                 WE WANT TO TALK ABOUT OUR MARRIAGE   \n",
       "1  The Trump Presidency: Last Week Tonight with J...   \n",
       "2  Racist Superman | Rudy Mancuso, King Bach & Le...   \n",
       "3                   Nickelback Lyrics: Real or Fake?   \n",
       "4                           I Dare You: GOING BALD!?   \n",
       "\n",
       "                                                tags  \\\n",
       "0                                    SHANtell martin   \n",
       "1  last week tonight trump presidency|last week t...   \n",
       "2  racist superman|rudy|mancuso|king|bach|racist|...   \n",
       "3  rhett and link|gmm|good mythical morning|rhett...   \n",
       "4  ryan|higa|higatv|nigahiga|i dare you|idy|rhpc|...   \n",
       "\n",
       "                                         description  Trend_day_count  \\\n",
       "0  SHANTELL'S CHANNEL - https://www.youtube.com/s...              6.0   \n",
       "1  One year after the presidential election, John...              1.0   \n",
       "2  WATCH MY PREVIOUS VIDEO ▶ \\n\\nSUBSCRIBE ► http...             10.0   \n",
       "3  Today we find out if Link is a Nickelback amat...             12.0   \n",
       "4  I know it's been a while since we did this sho...             11.0   \n",
       "\n",
       "   Tag_count  Trend_tag_count  comment_count  comment_disabled  \\\n",
       "0         21                6              0              True   \n",
       "1         23                1         116266             False   \n",
       "2         22                3         257850             False   \n",
       "3         17                5         263939             False   \n",
       "4         15                7         268085             False   \n",
       "\n",
       "  like dislike disabled  likes dislike tag appered in title    views  \n",
       "0                 FALSE  13342    6089                False  1978978  \n",
       "1                 FALSE   5761    3044                False  1487870  \n",
       "2                  TRUE      0       0                 True  1502102  \n",
       "3                  TRUE      0       0                 True  3519302  \n",
       "4                  TRUE      0       0                 True  4835374  "
      ]
     },
     "execution_count": 51,
     "metadata": {},
     "output_type": "execute_result"
    }
   ],
   "source": [
    "#Converting False to True and vice versa in comment_disabled as it has comment_count value when disabled=True\n",
    "train['comment_disabled'].replace('TRUE',False,inplace=True)\n",
    "train['comment_disabled'].replace('FALSE',True,inplace=True)\n",
    "\n",
    "train.head()"
   ]
  },
  {
   "cell_type": "code",
   "execution_count": 52,
   "metadata": {},
   "outputs": [
    {
     "data": {
      "text/plain": [
       "dtype('bool')"
      ]
     },
     "execution_count": 52,
     "metadata": {},
     "output_type": "execute_result"
    }
   ],
   "source": [
    "np.dtype(train['comment_disabled'])"
   ]
  },
  {
   "cell_type": "code",
   "execution_count": 53,
   "metadata": {},
   "outputs": [
    {
     "data": {
      "text/plain": [
       "<AxesSubplot:xlabel='count', ylabel='comment_disabled'>"
      ]
     },
     "execution_count": 53,
     "metadata": {},
     "output_type": "execute_result"
    },
    {
     "data": {
      "image/png": "[encoded data removed]",
      "text/plain": [
       "<Figure size 432x288 with 1 Axes>"
      ]
     },
     "metadata": {
      "needs_background": "light"
     },
     "output_type": "display_data"
    }
   ],
   "source": [
    "sns.countplot(data=train,y='comment_disabled')"
   ]
  },
  {
   "cell_type": "markdown",
   "metadata": {},
   "source": [
    "# Like dislike disabled"
   ]
  },
  {
   "cell_type": "code",
   "execution_count": 54,
   "metadata": {},
   "outputs": [
    {
     "data": {
      "text/plain": [
       "array(['FALSE', 'TRUE'], dtype=object)"
      ]
     },
     "execution_count": 54,
     "metadata": {},
     "output_type": "execute_result"
    }
   ],
   "source": [
    "train['like dislike disabled'].unique()"
   ]
  },
  {
   "cell_type": "code",
   "execution_count": 55,
   "metadata": {},
   "outputs": [
    {
     "data": {
      "text/plain": [
       "3155"
      ]
     },
     "execution_count": 55,
     "metadata": {},
     "output_type": "execute_result"
    }
   ],
   "source": [
    "len(train)"
   ]
  },
  {
   "cell_type": "code",
   "execution_count": 56,
   "metadata": {},
   "outputs": [
    {
     "data": {
      "text/plain": [
       "dtype('bool')"
      ]
     },
     "execution_count": 56,
     "metadata": {},
     "output_type": "execute_result"
    }
   ],
   "source": [
    "train['like dislike disabled'].replace('TRUE',True,inplace=True)\n",
    "train['like dislike disabled'].replace('FALSE',False,inplace=True)\n",
    "np.dtype(train['like dislike disabled'])"
   ]
  },
  {
   "cell_type": "code",
   "execution_count": 57,
   "metadata": {},
   "outputs": [
    {
     "data": {
      "text/plain": [
       "<AxesSubplot:xlabel='count', ylabel='like dislike disabled'>"
      ]
     },
     "execution_count": 57,
     "metadata": {},
     "output_type": "execute_result"
    },
    {
     "data": {
      "image/png": "[encoded data removed]",
      "text/plain": [
       "<Figure size 432x288 with 1 Axes>"
      ]
     },
     "metadata": {
      "needs_background": "light"
     },
     "output_type": "display_data"
    }
   ],
   "source": [
    "sns.countplot(data=train,y='like dislike disabled')"
   ]
  },
  {
   "cell_type": "markdown",
   "metadata": {},
   "source": [
    "# Like and dislike"
   ]
  },
  {
   "cell_type": "code",
   "execution_count": 58,
   "metadata": {},
   "outputs": [
    {
     "data": {
      "text/plain": [
       "0"
      ]
     },
     "execution_count": 58,
     "metadata": {},
     "output_type": "execute_result"
    }
   ],
   "source": [
    "train['likes'].isna().sum()"
   ]
  },
  {
   "cell_type": "code",
   "execution_count": 59,
   "metadata": {},
   "outputs": [
    {
     "data": {
      "text/plain": [
       "0"
      ]
     },
     "execution_count": 59,
     "metadata": {},
     "output_type": "execute_result"
    }
   ],
   "source": [
    "train['dislike'].isna().sum()"
   ]
  },
  {
   "cell_type": "code",
   "execution_count": 60,
   "metadata": {},
   "outputs": [
    {
     "data": {
      "text/plain": [
       "826"
      ]
     },
     "execution_count": 60,
     "metadata": {},
     "output_type": "execute_result"
    }
   ],
   "source": [
    "len(train[train['likes']=='0'])"
   ]
  },
  {
   "cell_type": "code",
   "execution_count": 61,
   "metadata": {},
   "outputs": [
    {
     "data": {
      "text/plain": [
       "827"
      ]
     },
     "execution_count": 61,
     "metadata": {},
     "output_type": "execute_result"
    }
   ],
   "source": [
    "len(train[train['dislike']=='0'])"
   ]
  },
  {
   "cell_type": "code",
   "execution_count": 62,
   "metadata": {},
   "outputs": [
    {
     "data": {
      "text/plain": [
       "826"
      ]
     },
     "execution_count": 62,
     "metadata": {},
     "output_type": "execute_result"
    }
   ],
   "source": [
    "len(train[train['like dislike disabled']==True])"
   ]
  },
  {
   "cell_type": "code",
   "execution_count": 63,
   "metadata": {},
   "outputs": [
    {
     "name": "stdout",
     "output_type": "stream",
     "text": [
      "int64\n"
     ]
    }
   ],
   "source": [
    "train['likes']=train['likes'].astype('int64')\n",
    "print(np.dtype(train['likes']))"
   ]
  },
  {
   "cell_type": "code",
   "execution_count": 64,
   "metadata": {},
   "outputs": [
    {
     "name": "stdout",
     "output_type": "stream",
     "text": [
      "int64\n"
     ]
    }
   ],
   "source": [
    "train['dislike']=train['dislike'].astype('int64')\n",
    "print(np.dtype(train['dislike']))"
   ]
  },
  {
   "cell_type": "markdown",
   "metadata": {},
   "source": [
    "# tag appered in title"
   ]
  },
  {
   "cell_type": "code",
   "execution_count": 65,
   "metadata": {},
   "outputs": [
    {
     "data": {
      "text/plain": [
       "array([False, True, nan], dtype=object)"
      ]
     },
     "execution_count": 65,
     "metadata": {},
     "output_type": "execute_result"
    }
   ],
   "source": [
    "train['tag appered in title'].unique()"
   ]
  },
  {
   "cell_type": "code",
   "execution_count": 66,
   "metadata": {},
   "outputs": [
    {
     "data": {
      "text/plain": [
       "1"
      ]
     },
     "execution_count": 66,
     "metadata": {},
     "output_type": "execute_result"
    }
   ],
   "source": [
    "train['tag appered in title'].isna().sum()"
   ]
  },
  {
   "cell_type": "code",
   "execution_count": 67,
   "metadata": {},
   "outputs": [
    {
     "data": {
      "text/plain": [
       "3154"
      ]
     },
     "execution_count": 67,
     "metadata": {},
     "output_type": "execute_result"
    }
   ],
   "source": [
    "train = train.dropna(subset=['tag appered in title'])\n",
    "len(train)"
   ]
  },
  {
   "cell_type": "code",
   "execution_count": 68,
   "metadata": {},
   "outputs": [
    {
     "data": {
      "text/plain": [
       "array([False, True], dtype=object)"
      ]
     },
     "execution_count": 68,
     "metadata": {},
     "output_type": "execute_result"
    }
   ],
   "source": [
    "train['tag appered in title'].unique()"
   ]
  },
  {
   "cell_type": "code",
   "execution_count": 69,
   "metadata": {},
   "outputs": [
    {
     "data": {
      "text/plain": [
       "dtype('O')"
      ]
     },
     "execution_count": 69,
     "metadata": {},
     "output_type": "execute_result"
    }
   ],
   "source": [
    "\n",
    "train['tag appered in title'].astype('bool')\n",
    "np.dtype(train['tag appered in title'])"
   ]
  },
  {
   "cell_type": "markdown",
   "metadata": {},
   "source": [
    "# views"
   ]
  },
  {
   "cell_type": "code",
   "execution_count": 70,
   "metadata": {},
   "outputs": [
    {
     "data": {
      "text/plain": [
       "array(['1978978', '1487870', '1502102', ..., '244022', '907340', '465531'],\n",
       "      dtype=object)"
      ]
     },
     "execution_count": 70,
     "metadata": {},
     "output_type": "execute_result"
    }
   ],
   "source": [
    "train['views'].unique()"
   ]
  },
  {
   "cell_type": "code",
   "execution_count": 71,
   "metadata": {},
   "outputs": [
    {
     "data": {
      "text/plain": [
       "3154"
      ]
     },
     "execution_count": 71,
     "metadata": {},
     "output_type": "execute_result"
    }
   ],
   "source": [
    "len(train['views'])"
   ]
  },
  {
   "cell_type": "code",
   "execution_count": 72,
   "metadata": {},
   "outputs": [
    {
     "name": "stdout",
     "output_type": "stream",
     "text": [
      "<class 'pandas.core.frame.DataFrame'>\n",
      "Int64Index: 3154 entries, 0 to 3197\n",
      "Data columns (total 17 columns):\n",
      " #   Column                 Non-Null Count  Dtype  \n",
      "---  ------                 --------------  -----  \n",
      " 0   Video_id               3154 non-null   object \n",
      " 1   category_id            3154 non-null   int64  \n",
      " 2   channel_title          3154 non-null   object \n",
      " 3   subscriber             3154 non-null   float64\n",
      " 4   title                  3154 non-null   object \n",
      " 5   tags                   3007 non-null   object \n",
      " 6   description            3090 non-null   object \n",
      " 7   Trend_day_count        3154 non-null   float64\n",
      " 8   Tag_count              3154 non-null   int64  \n",
      " 9   Trend_tag_count        3154 non-null   int64  \n",
      " 10  comment_count          3154 non-null   int64  \n",
      " 11  comment_disabled       3154 non-null   bool   \n",
      " 12  like dislike disabled  3154 non-null   bool   \n",
      " 13  likes                  3154 non-null   int64  \n",
      " 14  dislike                3154 non-null   int64  \n",
      " 15  tag appered in title   3154 non-null   object \n",
      " 16  views                  3154 non-null   object \n",
      "dtypes: bool(2), float64(2), int64(6), object(7)\n",
      "memory usage: 400.4+ KB\n"
     ]
    }
   ],
   "source": [
    "train.info()"
   ]
  },
  {
   "cell_type": "code",
   "execution_count": 73,
   "metadata": {},
   "outputs": [
    {
     "data": {
      "text/html": [
       "<div>\n",
       "<style scoped>\n",
       "    .dataframe tbody tr th:only-of-type {\n",
       "        vertical-align: middle;\n",
       "    }\n",
       "\n",
       "    .dataframe tbody tr th {\n",
       "        vertical-align: top;\n",
       "    }\n",
       "\n",
       "    .dataframe thead th {\n",
       "        text-align: right;\n",
       "    }\n",
       "</style>\n",
       "<table border=\"1\" class=\"dataframe\">\n",
       "  <thead>\n",
       "    <tr style=\"text-align: right;\">\n",
       "      <th></th>\n",
       "      <th>category_id</th>\n",
       "      <th>subscriber</th>\n",
       "      <th>Trend_day_count</th>\n",
       "      <th>Tag_count</th>\n",
       "      <th>Trend_tag_count</th>\n",
       "      <th>comment_count</th>\n",
       "      <th>likes</th>\n",
       "      <th>dislike</th>\n",
       "    </tr>\n",
       "  </thead>\n",
       "  <tbody>\n",
       "    <tr>\n",
       "      <th>count</th>\n",
       "      <td>3154.000000</td>\n",
       "      <td>3.154000e+03</td>\n",
       "      <td>3154.000000</td>\n",
       "      <td>3154.000000</td>\n",
       "      <td>3154.000000</td>\n",
       "      <td>3154.000000</td>\n",
       "      <td>3.154000e+03</td>\n",
       "      <td>3154.000000</td>\n",
       "    </tr>\n",
       "    <tr>\n",
       "      <th>mean</th>\n",
       "      <td>20.362080</td>\n",
       "      <td>3.825669e+06</td>\n",
       "      <td>6.577679</td>\n",
       "      <td>16.606848</td>\n",
       "      <td>4.021877</td>\n",
       "      <td>112531.076411</td>\n",
       "      <td>9.795018e+03</td>\n",
       "      <td>5797.046607</td>\n",
       "    </tr>\n",
       "    <tr>\n",
       "      <th>std</th>\n",
       "      <td>7.343472</td>\n",
       "      <td>2.875081e+07</td>\n",
       "      <td>3.442494</td>\n",
       "      <td>5.219583</td>\n",
       "      <td>1.984677</td>\n",
       "      <td>101863.899169</td>\n",
       "      <td>2.254155e+04</td>\n",
       "      <td>4859.727987</td>\n",
       "    </tr>\n",
       "    <tr>\n",
       "      <th>min</th>\n",
       "      <td>1.000000</td>\n",
       "      <td>0.000000e+00</td>\n",
       "      <td>1.000000</td>\n",
       "      <td>0.000000</td>\n",
       "      <td>1.000000</td>\n",
       "      <td>0.000000</td>\n",
       "      <td>0.000000e+00</td>\n",
       "      <td>0.000000</td>\n",
       "    </tr>\n",
       "    <tr>\n",
       "      <th>25%</th>\n",
       "      <td>17.000000</td>\n",
       "      <td>2.428800e+05</td>\n",
       "      <td>4.000000</td>\n",
       "      <td>12.000000</td>\n",
       "      <td>2.000000</td>\n",
       "      <td>0.000000</td>\n",
       "      <td>0.000000e+00</td>\n",
       "      <td>0.000000</td>\n",
       "    </tr>\n",
       "    <tr>\n",
       "      <th>50%</th>\n",
       "      <td>24.000000</td>\n",
       "      <td>1.215014e+06</td>\n",
       "      <td>7.000000</td>\n",
       "      <td>17.000000</td>\n",
       "      <td>4.000000</td>\n",
       "      <td>99926.000000</td>\n",
       "      <td>1.023550e+04</td>\n",
       "      <td>5386.000000</td>\n",
       "    </tr>\n",
       "    <tr>\n",
       "      <th>75%</th>\n",
       "      <td>25.000000</td>\n",
       "      <td>3.814833e+06</td>\n",
       "      <td>10.000000</td>\n",
       "      <td>21.000000</td>\n",
       "      <td>6.000000</td>\n",
       "      <td>203133.500000</td>\n",
       "      <td>1.506075e+04</td>\n",
       "      <td>10053.500000</td>\n",
       "    </tr>\n",
       "    <tr>\n",
       "      <th>max</th>\n",
       "      <td>43.000000</td>\n",
       "      <td>1.576229e+09</td>\n",
       "      <td>12.000000</td>\n",
       "      <td>25.000000</td>\n",
       "      <td>7.000000</td>\n",
       "      <td>299877.000000</td>\n",
       "      <td>1.213628e+06</td>\n",
       "      <td>14858.000000</td>\n",
       "    </tr>\n",
       "  </tbody>\n",
       "</table>\n",
       "</div>"
      ],
      "text/plain": [
       "       category_id    subscriber  Trend_day_count    Tag_count  \\\n",
       "count  3154.000000  3.154000e+03      3154.000000  3154.000000   \n",
       "mean     20.362080  3.825669e+06         6.577679    16.606848   \n",
       "std       7.343472  2.875081e+07         3.442494     5.219583   \n",
       "min       1.000000  0.000000e+00         1.000000     0.000000   \n",
       "25%      17.000000  2.428800e+05         4.000000    12.000000   \n",
       "50%      24.000000  1.215014e+06         7.000000    17.000000   \n",
       "75%      25.000000  3.814833e+06        10.000000    21.000000   \n",
       "max      43.000000  1.576229e+09        12.000000    25.000000   \n",
       "\n",
       "       Trend_tag_count  comment_count         likes       dislike  \n",
       "count      3154.000000    3154.000000  3.154000e+03   3154.000000  \n",
       "mean          4.021877  112531.076411  9.795018e+03   5797.046607  \n",
       "std           1.984677  101863.899169  2.254155e+04   4859.727987  \n",
       "min           1.000000       0.000000  0.000000e+00      0.000000  \n",
       "25%           2.000000       0.000000  0.000000e+00      0.000000  \n",
       "50%           4.000000   99926.000000  1.023550e+04   5386.000000  \n",
       "75%           6.000000  203133.500000  1.506075e+04  10053.500000  \n",
       "max           7.000000  299877.000000  1.213628e+06  14858.000000  "
      ]
     },
     "execution_count": 73,
     "metadata": {},
     "output_type": "execute_result"
    }
   ],
   "source": [
    "train.describe()"
   ]
  },
  {
   "cell_type": "markdown",
   "metadata": {},
   "source": [
    "# Save to a file (Cleaned data)"
   ]
  },
  {
   "cell_type": "code",
   "execution_count": 74,
   "metadata": {},
   "outputs": [],
   "source": [
    "# train.to_csv('youtube_cleaned.csv',index=False)"
   ]
  },
  {
   "cell_type": "code",
   "execution_count": 75,
   "metadata": {},
   "outputs": [],
   "source": [
    "df = pd.read_csv('youtube_cleaned.csv')"
   ]
  },
  {
   "cell_type": "code",
   "execution_count": 76,
   "metadata": {},
   "outputs": [
    {
     "data": {
      "text/html": [
       "<div>\n",
       "<style scoped>\n",
       "    .dataframe tbody tr th:only-of-type {\n",
       "        vertical-align: middle;\n",
       "    }\n",
       "\n",
       "    .dataframe tbody tr th {\n",
       "        vertical-align: top;\n",
       "    }\n",
       "\n",
       "    .dataframe thead th {\n",
       "        text-align: right;\n",
       "    }\n",
       "</style>\n",
       "<table border=\"1\" class=\"dataframe\">\n",
       "  <thead>\n",
       "    <tr style=\"text-align: right;\">\n",
       "      <th></th>\n",
       "      <th>Video_id</th>\n",
       "      <th>category_id</th>\n",
       "      <th>channel_title</th>\n",
       "      <th>subscriber</th>\n",
       "      <th>title</th>\n",
       "      <th>tags</th>\n",
       "      <th>description</th>\n",
       "      <th>Trend_day_count</th>\n",
       "      <th>Tag_count</th>\n",
       "      <th>Trend_tag_count</th>\n",
       "      <th>comment_count</th>\n",
       "      <th>comment_disabled</th>\n",
       "      <th>like dislike disabled</th>\n",
       "      <th>likes</th>\n",
       "      <th>dislike</th>\n",
       "      <th>tag appered in title</th>\n",
       "      <th>views</th>\n",
       "    </tr>\n",
       "  </thead>\n",
       "  <tbody>\n",
       "    <tr>\n",
       "      <th>0</th>\n",
       "      <td>HDR9SQc79</td>\n",
       "      <td>22</td>\n",
       "      <td>CaseyNeistat</td>\n",
       "      <td>9086142.0</td>\n",
       "      <td>WE WANT TO TALK ABOUT OUR MARRIAGE</td>\n",
       "      <td>SHANtell martin</td>\n",
       "      <td>SHANTELL'S CHANNEL - https://www.youtube.com/s...</td>\n",
       "      <td>6.0</td>\n",
       "      <td>21</td>\n",
       "      <td>6</td>\n",
       "      <td>0</td>\n",
       "      <td>True</td>\n",
       "      <td>False</td>\n",
       "      <td>13342</td>\n",
       "      <td>6089</td>\n",
       "      <td>False</td>\n",
       "      <td>1978978</td>\n",
       "    </tr>\n",
       "    <tr>\n",
       "      <th>1</th>\n",
       "      <td>KNH52UF?48</td>\n",
       "      <td>24</td>\n",
       "      <td>LastWeekTonight</td>\n",
       "      <td>5937292.0</td>\n",
       "      <td>The Trump Presidency: Last Week Tonight with J...</td>\n",
       "      <td>last week tonight trump presidency|last week t...</td>\n",
       "      <td>One year after the presidential election, John...</td>\n",
       "      <td>1.0</td>\n",
       "      <td>23</td>\n",
       "      <td>1</td>\n",
       "      <td>116266</td>\n",
       "      <td>False</td>\n",
       "      <td>False</td>\n",
       "      <td>5761</td>\n",
       "      <td>3044</td>\n",
       "      <td>False</td>\n",
       "      <td>1487870</td>\n",
       "    </tr>\n",
       "    <tr>\n",
       "      <th>2</th>\n",
       "      <td>QTW28IRG36</td>\n",
       "      <td>23</td>\n",
       "      <td>Rudy Mancuso</td>\n",
       "      <td>4191209.0</td>\n",
       "      <td>Racist Superman | Rudy Mancuso, King Bach &amp; Le...</td>\n",
       "      <td>racist superman|rudy|mancuso|king|bach|racist|...</td>\n",
       "      <td>WATCH MY PREVIOUS VIDEO ▶ \\n\\nSUBSCRIBE ► http...</td>\n",
       "      <td>10.0</td>\n",
       "      <td>22</td>\n",
       "      <td>3</td>\n",
       "      <td>257850</td>\n",
       "      <td>False</td>\n",
       "      <td>True</td>\n",
       "      <td>0</td>\n",
       "      <td>0</td>\n",
       "      <td>True</td>\n",
       "      <td>1502102</td>\n",
       "    </tr>\n",
       "    <tr>\n",
       "      <th>3</th>\n",
       "      <td>MGL76WI]26</td>\n",
       "      <td>24</td>\n",
       "      <td>Good Mythical Morning</td>\n",
       "      <td>13186408.0</td>\n",
       "      <td>Nickelback Lyrics: Real or Fake?</td>\n",
       "      <td>rhett and link|gmm|good mythical morning|rhett...</td>\n",
       "      <td>Today we find out if Link is a Nickelback amat...</td>\n",
       "      <td>12.0</td>\n",
       "      <td>17</td>\n",
       "      <td>5</td>\n",
       "      <td>263939</td>\n",
       "      <td>False</td>\n",
       "      <td>True</td>\n",
       "      <td>0</td>\n",
       "      <td>0</td>\n",
       "      <td>True</td>\n",
       "      <td>3519302</td>\n",
       "    </tr>\n",
       "    <tr>\n",
       "      <th>4</th>\n",
       "      <td>TWP93KXT70</td>\n",
       "      <td>24</td>\n",
       "      <td>nigahiga</td>\n",
       "      <td>20563106.0</td>\n",
       "      <td>I Dare You: GOING BALD!?</td>\n",
       "      <td>ryan|higa|higatv|nigahiga|i dare you|idy|rhpc|...</td>\n",
       "      <td>I know it's been a while since we did this sho...</td>\n",
       "      <td>11.0</td>\n",
       "      <td>15</td>\n",
       "      <td>7</td>\n",
       "      <td>268085</td>\n",
       "      <td>False</td>\n",
       "      <td>True</td>\n",
       "      <td>0</td>\n",
       "      <td>0</td>\n",
       "      <td>True</td>\n",
       "      <td>4835374</td>\n",
       "    </tr>\n",
       "  </tbody>\n",
       "</table>\n",
       "</div>"
      ],
      "text/plain": [
       "     Video_id  category_id          channel_title  subscriber  \\\n",
       "0   HDR9SQc79           22           CaseyNeistat   9086142.0   \n",
       "1  KNH52UF?48           24        LastWeekTonight   5937292.0   \n",
       "2  QTW28IRG36           23           Rudy Mancuso   4191209.0   \n",
       "3  MGL76WI]26           24  Good Mythical Morning  13186408.0   \n",
       "4  TWP93KXT70           24               nigahiga  20563106.0   \n",
       "\n",
       "                                               title  \\\n",
       "0                 WE WANT TO TALK ABOUT OUR MARRIAGE   \n",
       "1  The Trump Presidency: Last Week Tonight with J...   \n",
       "2  Racist Superman | Rudy Mancuso, King Bach & Le...   \n",
       "3                   Nickelback Lyrics: Real or Fake?   \n",
       "4                           I Dare You: GOING BALD!?   \n",
       "\n",
       "                                                tags  \\\n",
       "0                                    SHANtell martin   \n",
       "1  last week tonight trump presidency|last week t...   \n",
       "2  racist superman|rudy|mancuso|king|bach|racist|...   \n",
       "3  rhett and link|gmm|good mythical morning|rhett...   \n",
       "4  ryan|higa|higatv|nigahiga|i dare you|idy|rhpc|...   \n",
       "\n",
       "                                         description  Trend_day_count  \\\n",
       "0  SHANTELL'S CHANNEL - https://www.youtube.com/s...              6.0   \n",
       "1  One year after the presidential election, John...              1.0   \n",
       "2  WATCH MY PREVIOUS VIDEO ▶ \\n\\nSUBSCRIBE ► http...             10.0   \n",
       "3  Today we find out if Link is a Nickelback amat...             12.0   \n",
       "4  I know it's been a while since we did this sho...             11.0   \n",
       "\n",
       "   Tag_count  Trend_tag_count  comment_count  comment_disabled  \\\n",
       "0         21                6              0              True   \n",
       "1         23                1         116266             False   \n",
       "2         22                3         257850             False   \n",
       "3         17                5         263939             False   \n",
       "4         15                7         268085             False   \n",
       "\n",
       "   like dislike disabled  likes  dislike  tag appered in title    views  \n",
       "0                  False  13342     6089                 False  1978978  \n",
       "1                  False   5761     3044                 False  1487870  \n",
       "2                   True      0        0                  True  1502102  \n",
       "3                   True      0        0                  True  3519302  \n",
       "4                   True      0        0                  True  4835374  "
      ]
     },
     "execution_count": 76,
     "metadata": {},
     "output_type": "execute_result"
    }
   ],
   "source": [
    "df.head()"
   ]
  },
  {
   "cell_type": "code",
   "execution_count": 77,
   "metadata": {},
   "outputs": [
    {
     "name": "stdout",
     "output_type": "stream",
     "text": [
      "<class 'pandas.core.frame.DataFrame'>\n",
      "RangeIndex: 3154 entries, 0 to 3153\n",
      "Data columns (total 17 columns):\n",
      " #   Column                 Non-Null Count  Dtype  \n",
      "---  ------                 --------------  -----  \n",
      " 0   Video_id               3154 non-null   object \n",
      " 1   category_id            3154 non-null   int64  \n",
      " 2   channel_title          3154 non-null   object \n",
      " 3   subscriber             3154 non-null   float64\n",
      " 4   title                  3154 non-null   object \n",
      " 5   tags                   3007 non-null   object \n",
      " 6   description            3090 non-null   object \n",
      " 7   Trend_day_count        3154 non-null   float64\n",
      " 8   Tag_count              3154 non-null   int64  \n",
      " 9   Trend_tag_count        3154 non-null   int64  \n",
      " 10  comment_count          3154 non-null   int64  \n",
      " 11  comment_disabled       3154 non-null   bool   \n",
      " 12  like dislike disabled  3154 non-null   bool   \n",
      " 13  likes                  3154 non-null   int64  \n",
      " 14  dislike                3154 non-null   int64  \n",
      " 15  tag appered in title   3154 non-null   bool   \n",
      " 16  views                  3154 non-null   int64  \n",
      "dtypes: bool(3), float64(2), int64(7), object(5)\n",
      "memory usage: 354.3+ KB\n"
     ]
    }
   ],
   "source": [
    "df.info()"
   ]
  },
  {
   "cell_type": "markdown",
   "metadata": {},
   "source": [
    "# Data Visualization"
   ]
  },
  {
   "cell_type": "code",
   "execution_count": 78,
   "metadata": {},
   "outputs": [],
   "source": [
    "df = pd.read_csv('youtube_cleaned.csv')"
   ]
  },
  {
   "cell_type": "code",
   "execution_count": 79,
   "metadata": {},
   "outputs": [
    {
     "data": {
      "text/html": [
       "<div>\n",
       "<style scoped>\n",
       "    .dataframe tbody tr th:only-of-type {\n",
       "        vertical-align: middle;\n",
       "    }\n",
       "\n",
       "    .dataframe tbody tr th {\n",
       "        vertical-align: top;\n",
       "    }\n",
       "\n",
       "    .dataframe thead th {\n",
       "        text-align: right;\n",
       "    }\n",
       "</style>\n",
       "<table border=\"1\" class=\"dataframe\">\n",
       "  <thead>\n",
       "    <tr style=\"text-align: right;\">\n",
       "      <th></th>\n",
       "      <th>Trend_day_count</th>\n",
       "    </tr>\n",
       "    <tr>\n",
       "      <th>category_id</th>\n",
       "      <th></th>\n",
       "    </tr>\n",
       "  </thead>\n",
       "  <tbody>\n",
       "    <tr>\n",
       "      <th>1</th>\n",
       "      <td>1109.0</td>\n",
       "    </tr>\n",
       "    <tr>\n",
       "      <th>2</th>\n",
       "      <td>266.0</td>\n",
       "    </tr>\n",
       "    <tr>\n",
       "      <th>10</th>\n",
       "      <td>2712.0</td>\n",
       "    </tr>\n",
       "    <tr>\n",
       "      <th>15</th>\n",
       "      <td>474.0</td>\n",
       "    </tr>\n",
       "    <tr>\n",
       "      <th>17</th>\n",
       "      <td>1282.0</td>\n",
       "    </tr>\n",
       "  </tbody>\n",
       "</table>\n",
       "</div>"
      ],
      "text/plain": [
       "             Trend_day_count\n",
       "category_id                 \n",
       "1                     1109.0\n",
       "2                      266.0\n",
       "10                    2712.0\n",
       "15                     474.0\n",
       "17                    1282.0"
      ]
     },
     "execution_count": 79,
     "metadata": {},
     "output_type": "execute_result"
    }
   ],
   "source": [
    "df1 = df[['category_id','Trend_day_count']]\n",
    "df1 = df1.groupby('category_id').sum()\n",
    "df1.head()"
   ]
  },
  {
   "cell_type": "code",
   "execution_count": 80,
   "metadata": {},
   "outputs": [
    {
     "data": {
      "text/plain": [
       "<AxesSubplot:xlabel='category_id', ylabel='Trend_day_count'>"
      ]
     },
     "execution_count": 80,
     "metadata": {},
     "output_type": "execute_result"
    },
    {
     "data": {
      "image/png": "[encoded data removed]",
      "text/plain": [
       "<Figure size 432x288 with 1 Axes>"
      ]
     },
     "metadata": {
      "needs_background": "light"
     },
     "output_type": "display_data"
    }
   ],
   "source": [
    "sns.barplot(x=df1.index,y='Trend_day_count',data=df1)"
   ]
  },
  {
   "cell_type": "code",
   "execution_count": 81,
   "metadata": {},
   "outputs": [
    {
     "data": {
      "text/html": [
       "<div>\n",
       "<style scoped>\n",
       "    .dataframe tbody tr th:only-of-type {\n",
       "        vertical-align: middle;\n",
       "    }\n",
       "\n",
       "    .dataframe tbody tr th {\n",
       "        vertical-align: top;\n",
       "    }\n",
       "\n",
       "    .dataframe thead th {\n",
       "        text-align: right;\n",
       "    }\n",
       "</style>\n",
       "<table border=\"1\" class=\"dataframe\">\n",
       "  <thead>\n",
       "    <tr style=\"text-align: right;\">\n",
       "      <th></th>\n",
       "      <th>Trend_day_count</th>\n",
       "    </tr>\n",
       "    <tr>\n",
       "      <th>tag appered in title</th>\n",
       "      <th></th>\n",
       "    </tr>\n",
       "  </thead>\n",
       "  <tbody>\n",
       "    <tr>\n",
       "      <th>False</th>\n",
       "      <td>7090.0</td>\n",
       "    </tr>\n",
       "    <tr>\n",
       "      <th>True</th>\n",
       "      <td>13656.0</td>\n",
       "    </tr>\n",
       "  </tbody>\n",
       "</table>\n",
       "</div>"
      ],
      "text/plain": [
       "                      Trend_day_count\n",
       "tag appered in title                 \n",
       "False                          7090.0\n",
       "True                          13656.0"
      ]
     },
     "execution_count": 81,
     "metadata": {},
     "output_type": "execute_result"
    }
   ],
   "source": [
    "df3 = df[['tag appered in title','Trend_day_count']].groupby('tag appered in title').sum()\n",
    "df3"
   ]
  },
  {
   "cell_type": "code",
   "execution_count": 82,
   "metadata": {},
   "outputs": [
    {
     "data": {
      "image/png": "[encoded data removed]",
      "text/plain": [
       "<Figure size 432x288 with 1 Axes>"
      ]
     },
     "metadata": {},
     "output_type": "display_data"
    }
   ],
   "source": [
    "plt.pie(df3['Trend_day_count'],labels=df3.index,autopct='%.3f')\n",
    "plt.show()"
   ]
  },
  {
   "cell_type": "code",
   "execution_count": 83,
   "metadata": {},
   "outputs": [],
   "source": [
    "df=df[~(df.views>1e7)]"
   ]
  },
  {
   "cell_type": "code",
   "execution_count": 84,
   "metadata": {},
   "outputs": [],
   "source": [
    "df.drop(list(df[df['subscriber']>df.subscriber.quantile(.999)].index),inplace=True)"
   ]
  },
  {
   "cell_type": "code",
   "execution_count": 85,
   "metadata": {},
   "outputs": [
    {
     "data": {
      "text/plain": [
       "(3147, 17)"
      ]
     },
     "execution_count": 85,
     "metadata": {},
     "output_type": "execute_result"
    }
   ],
   "source": [
    "df.shape"
   ]
  },
  {
   "cell_type": "code",
   "execution_count": 86,
   "metadata": {},
   "outputs": [
    {
     "data": {
      "text/plain": [
       "<AxesSubplot:xlabel='subscriber', ylabel='views'>"
      ]
     },
     "execution_count": 86,
     "metadata": {},
     "output_type": "execute_result"
    },
    {
     "data": {
      "image/png": "[encoded data removed]",
      "text/plain": [
       "<Figure size 432x288 with 1 Axes>"
      ]
     },
     "metadata": {
      "needs_background": "light"
     },
     "output_type": "display_data"
    }
   ],
   "source": [
    "sns.regplot(x='subscriber',y='views',data=df)"
   ]
  },
  {
   "cell_type": "code",
   "execution_count": 87,
   "metadata": {},
   "outputs": [],
   "source": [
    "df.drop(['comment_disabled','like dislike disabled'],inplace=True,axis=1)"
   ]
  },
  {
   "cell_type": "code",
   "execution_count": 88,
   "metadata": {},
   "outputs": [
    {
     "data": {
      "text/html": [
       "<div>\n",
       "<style scoped>\n",
       "    .dataframe tbody tr th:only-of-type {\n",
       "        vertical-align: middle;\n",
       "    }\n",
       "\n",
       "    .dataframe tbody tr th {\n",
       "        vertical-align: top;\n",
       "    }\n",
       "\n",
       "    .dataframe thead th {\n",
       "        text-align: right;\n",
       "    }\n",
       "</style>\n",
       "<table border=\"1\" class=\"dataframe\">\n",
       "  <thead>\n",
       "    <tr style=\"text-align: right;\">\n",
       "      <th></th>\n",
       "      <th>Video_id</th>\n",
       "      <th>category_id</th>\n",
       "      <th>channel_title</th>\n",
       "      <th>subscriber</th>\n",
       "      <th>title</th>\n",
       "      <th>tags</th>\n",
       "      <th>description</th>\n",
       "      <th>Trend_day_count</th>\n",
       "      <th>Tag_count</th>\n",
       "      <th>Trend_tag_count</th>\n",
       "      <th>comment_count</th>\n",
       "      <th>likes</th>\n",
       "      <th>dislike</th>\n",
       "      <th>tag appered in title</th>\n",
       "      <th>views</th>\n",
       "    </tr>\n",
       "  </thead>\n",
       "  <tbody>\n",
       "    <tr>\n",
       "      <th>0</th>\n",
       "      <td>HDR9SQc79</td>\n",
       "      <td>22</td>\n",
       "      <td>CaseyNeistat</td>\n",
       "      <td>9086142.0</td>\n",
       "      <td>WE WANT TO TALK ABOUT OUR MARRIAGE</td>\n",
       "      <td>SHANtell martin</td>\n",
       "      <td>SHANTELL'S CHANNEL - https://www.youtube.com/s...</td>\n",
       "      <td>6.0</td>\n",
       "      <td>21</td>\n",
       "      <td>6</td>\n",
       "      <td>0</td>\n",
       "      <td>13342</td>\n",
       "      <td>6089</td>\n",
       "      <td>False</td>\n",
       "      <td>1978978</td>\n",
       "    </tr>\n",
       "    <tr>\n",
       "      <th>1</th>\n",
       "      <td>KNH52UF?48</td>\n",
       "      <td>24</td>\n",
       "      <td>LastWeekTonight</td>\n",
       "      <td>5937292.0</td>\n",
       "      <td>The Trump Presidency: Last Week Tonight with J...</td>\n",
       "      <td>last week tonight trump presidency|last week t...</td>\n",
       "      <td>One year after the presidential election, John...</td>\n",
       "      <td>1.0</td>\n",
       "      <td>23</td>\n",
       "      <td>1</td>\n",
       "      <td>116266</td>\n",
       "      <td>5761</td>\n",
       "      <td>3044</td>\n",
       "      <td>False</td>\n",
       "      <td>1487870</td>\n",
       "    </tr>\n",
       "    <tr>\n",
       "      <th>2</th>\n",
       "      <td>QTW28IRG36</td>\n",
       "      <td>23</td>\n",
       "      <td>Rudy Mancuso</td>\n",
       "      <td>4191209.0</td>\n",
       "      <td>Racist Superman | Rudy Mancuso, King Bach &amp; Le...</td>\n",
       "      <td>racist superman|rudy|mancuso|king|bach|racist|...</td>\n",
       "      <td>WATCH MY PREVIOUS VIDEO ▶ \\n\\nSUBSCRIBE ► http...</td>\n",
       "      <td>10.0</td>\n",
       "      <td>22</td>\n",
       "      <td>3</td>\n",
       "      <td>257850</td>\n",
       "      <td>0</td>\n",
       "      <td>0</td>\n",
       "      <td>True</td>\n",
       "      <td>1502102</td>\n",
       "    </tr>\n",
       "    <tr>\n",
       "      <th>3</th>\n",
       "      <td>MGL76WI]26</td>\n",
       "      <td>24</td>\n",
       "      <td>Good Mythical Morning</td>\n",
       "      <td>13186408.0</td>\n",
       "      <td>Nickelback Lyrics: Real or Fake?</td>\n",
       "      <td>rhett and link|gmm|good mythical morning|rhett...</td>\n",
       "      <td>Today we find out if Link is a Nickelback amat...</td>\n",
       "      <td>12.0</td>\n",
       "      <td>17</td>\n",
       "      <td>5</td>\n",
       "      <td>263939</td>\n",
       "      <td>0</td>\n",
       "      <td>0</td>\n",
       "      <td>True</td>\n",
       "      <td>3519302</td>\n",
       "    </tr>\n",
       "    <tr>\n",
       "      <th>4</th>\n",
       "      <td>TWP93KXT70</td>\n",
       "      <td>24</td>\n",
       "      <td>nigahiga</td>\n",
       "      <td>20563106.0</td>\n",
       "      <td>I Dare You: GOING BALD!?</td>\n",
       "      <td>ryan|higa|higatv|nigahiga|i dare you|idy|rhpc|...</td>\n",
       "      <td>I know it's been a while since we did this sho...</td>\n",
       "      <td>11.0</td>\n",
       "      <td>15</td>\n",
       "      <td>7</td>\n",
       "      <td>268085</td>\n",
       "      <td>0</td>\n",
       "      <td>0</td>\n",
       "      <td>True</td>\n",
       "      <td>4835374</td>\n",
       "    </tr>\n",
       "  </tbody>\n",
       "</table>\n",
       "</div>"
      ],
      "text/plain": [
       "     Video_id  category_id          channel_title  subscriber  \\\n",
       "0   HDR9SQc79           22           CaseyNeistat   9086142.0   \n",
       "1  KNH52UF?48           24        LastWeekTonight   5937292.0   \n",
       "2  QTW28IRG36           23           Rudy Mancuso   4191209.0   \n",
       "3  MGL76WI]26           24  Good Mythical Morning  13186408.0   \n",
       "4  TWP93KXT70           24               nigahiga  20563106.0   \n",
       "\n",
       "                                               title  \\\n",
       "0                 WE WANT TO TALK ABOUT OUR MARRIAGE   \n",
       "1  The Trump Presidency: Last Week Tonight with J...   \n",
       "2  Racist Superman | Rudy Mancuso, King Bach & Le...   \n",
       "3                   Nickelback Lyrics: Real or Fake?   \n",
       "4                           I Dare You: GOING BALD!?   \n",
       "\n",
       "                                                tags  \\\n",
       "0                                    SHANtell martin   \n",
       "1  last week tonight trump presidency|last week t...   \n",
       "2  racist superman|rudy|mancuso|king|bach|racist|...   \n",
       "3  rhett and link|gmm|good mythical morning|rhett...   \n",
       "4  ryan|higa|higatv|nigahiga|i dare you|idy|rhpc|...   \n",
       "\n",
       "                                         description  Trend_day_count  \\\n",
       "0  SHANTELL'S CHANNEL - https://www.youtube.com/s...              6.0   \n",
       "1  One year after the presidential election, John...              1.0   \n",
       "2  WATCH MY PREVIOUS VIDEO ▶ \\n\\nSUBSCRIBE ► http...             10.0   \n",
       "3  Today we find out if Link is a Nickelback amat...             12.0   \n",
       "4  I know it's been a while since we did this sho...             11.0   \n",
       "\n",
       "   Tag_count  Trend_tag_count  comment_count  likes  dislike  \\\n",
       "0         21                6              0  13342     6089   \n",
       "1         23                1         116266   5761     3044   \n",
       "2         22                3         257850      0        0   \n",
       "3         17                5         263939      0        0   \n",
       "4         15                7         268085      0        0   \n",
       "\n",
       "   tag appered in title    views  \n",
       "0                 False  1978978  \n",
       "1                 False  1487870  \n",
       "2                  True  1502102  \n",
       "3                  True  3519302  \n",
       "4                  True  4835374  "
      ]
     },
     "execution_count": 88,
     "metadata": {},
     "output_type": "execute_result"
    }
   ],
   "source": [
    "df.head()"
   ]
  },
  {
   "cell_type": "code",
   "execution_count": 89,
   "metadata": {},
   "outputs": [
    {
     "data": {
      "text/plain": [
       "<AxesSubplot:xlabel='category_id', ylabel='likes'>"
      ]
     },
     "execution_count": 89,
     "metadata": {},
     "output_type": "execute_result"
    },
    {
     "data": {
      "image/png": "[encoded data removed]",
      "text/plain": [
       "<Figure size 432x288 with 1 Axes>"
      ]
     },
     "metadata": {
      "needs_background": "light"
     },
     "output_type": "display_data"
    }
   ],
   "source": [
    "sns.barplot(x='category_id',y='likes',data=df)"
   ]
  },
  {
   "cell_type": "code",
   "execution_count": 90,
   "metadata": {},
   "outputs": [
    {
     "data": {
      "text/plain": [
       "(3147, 15)"
      ]
     },
     "execution_count": 90,
     "metadata": {},
     "output_type": "execute_result"
    }
   ],
   "source": [
    "df.shape"
   ]
  },
  {
   "cell_type": "code",
   "execution_count": 91,
   "metadata": {},
   "outputs": [
    {
     "data": {
      "text/html": [
       "<div>\n",
       "<style scoped>\n",
       "    .dataframe tbody tr th:only-of-type {\n",
       "        vertical-align: middle;\n",
       "    }\n",
       "\n",
       "    .dataframe tbody tr th {\n",
       "        vertical-align: top;\n",
       "    }\n",
       "\n",
       "    .dataframe thead th {\n",
       "        text-align: right;\n",
       "    }\n",
       "</style>\n",
       "<table border=\"1\" class=\"dataframe\">\n",
       "  <thead>\n",
       "    <tr style=\"text-align: right;\">\n",
       "      <th></th>\n",
       "      <th>Video_id</th>\n",
       "      <th>category_id</th>\n",
       "      <th>channel_title</th>\n",
       "      <th>subscriber</th>\n",
       "      <th>title</th>\n",
       "      <th>tags</th>\n",
       "      <th>description</th>\n",
       "      <th>Trend_day_count</th>\n",
       "      <th>Tag_count</th>\n",
       "      <th>Trend_tag_count</th>\n",
       "      <th>comment_count</th>\n",
       "      <th>likes</th>\n",
       "      <th>dislike</th>\n",
       "      <th>tag appered in title</th>\n",
       "      <th>views</th>\n",
       "    </tr>\n",
       "  </thead>\n",
       "  <tbody>\n",
       "    <tr>\n",
       "      <th>4</th>\n",
       "      <td>TWP93KXT70</td>\n",
       "      <td>24</td>\n",
       "      <td>nigahiga</td>\n",
       "      <td>20563106.0</td>\n",
       "      <td>I Dare You: GOING BALD!?</td>\n",
       "      <td>ryan|higa|higatv|nigahiga|i dare you|idy|rhpc|...</td>\n",
       "      <td>I know it's been a while since we did this sho...</td>\n",
       "      <td>11.0</td>\n",
       "      <td>15</td>\n",
       "      <td>7</td>\n",
       "      <td>268085</td>\n",
       "      <td>0</td>\n",
       "      <td>0</td>\n",
       "      <td>True</td>\n",
       "      <td>4835374</td>\n",
       "    </tr>\n",
       "    <tr>\n",
       "      <th>31</th>\n",
       "      <td>JUF70OM?78</td>\n",
       "      <td>10</td>\n",
       "      <td>EminemVEVO</td>\n",
       "      <td>80.0</td>\n",
       "      <td>Eminem - Walk On Water (Audio) ft. Beyoncé</td>\n",
       "      <td>Eminem|Walk|On|Water|Aftermath/Shady/Interscop...</td>\n",
       "      <td>Eminem's new track Walk on Water ft. Beyoncé i...</td>\n",
       "      <td>1.0</td>\n",
       "      <td>20</td>\n",
       "      <td>1</td>\n",
       "      <td>44817</td>\n",
       "      <td>10563</td>\n",
       "      <td>4259</td>\n",
       "      <td>False</td>\n",
       "      <td>5459523</td>\n",
       "    </tr>\n",
       "    <tr>\n",
       "      <th>48</th>\n",
       "      <td>HOU55BHS75</td>\n",
       "      <td>24</td>\n",
       "      <td>FBE</td>\n",
       "      <td>16874196.0</td>\n",
       "      <td>ELDERS REACT TO iPHONE X (Facial Recognition, ...</td>\n",
       "      <td>iPhone X|animojis|facial recognition|ELDERS RE...</td>\n",
       "      <td>iPhone X (Facial Recognition, Animojis) reacte...</td>\n",
       "      <td>9.0</td>\n",
       "      <td>10</td>\n",
       "      <td>3</td>\n",
       "      <td>254649</td>\n",
       "      <td>13568</td>\n",
       "      <td>6060</td>\n",
       "      <td>True</td>\n",
       "      <td>4108108</td>\n",
       "    </tr>\n",
       "    <tr>\n",
       "      <th>51</th>\n",
       "      <td>DVF66YAa29</td>\n",
       "      <td>17</td>\n",
       "      <td>WWE</td>\n",
       "      <td>23182596.0</td>\n",
       "      <td>Wildest Superstar distractions: WWE Top 10, No...</td>\n",
       "      <td>wwe|world wrestling entertainment|wrestling|wr...</td>\n",
       "      <td>A timely distraction can create real trouble f...</td>\n",
       "      <td>4.0</td>\n",
       "      <td>14</td>\n",
       "      <td>2</td>\n",
       "      <td>33124</td>\n",
       "      <td>7281</td>\n",
       "      <td>4991</td>\n",
       "      <td>True</td>\n",
       "      <td>4818957</td>\n",
       "    </tr>\n",
       "    <tr>\n",
       "      <th>61</th>\n",
       "      <td>BDT46LFj5</td>\n",
       "      <td>24</td>\n",
       "      <td>YouTube Spotlight</td>\n",
       "      <td>27221198.0</td>\n",
       "      <td>#VeteransDay: Thank You for Everything</td>\n",
       "      <td>vets|veterans day|veterans|youtube|veteransday...</td>\n",
       "      <td>This #VeteransDay, we want to say thank you to...</td>\n",
       "      <td>3.0</td>\n",
       "      <td>25</td>\n",
       "      <td>6</td>\n",
       "      <td>0</td>\n",
       "      <td>10227</td>\n",
       "      <td>2920</td>\n",
       "      <td>True</td>\n",
       "      <td>5534788</td>\n",
       "    </tr>\n",
       "    <tr>\n",
       "      <th>...</th>\n",
       "      <td>...</td>\n",
       "      <td>...</td>\n",
       "      <td>...</td>\n",
       "      <td>...</td>\n",
       "      <td>...</td>\n",
       "      <td>...</td>\n",
       "      <td>...</td>\n",
       "      <td>...</td>\n",
       "      <td>...</td>\n",
       "      <td>...</td>\n",
       "      <td>...</td>\n",
       "      <td>...</td>\n",
       "      <td>...</td>\n",
       "      <td>...</td>\n",
       "      <td>...</td>\n",
       "    </tr>\n",
       "    <tr>\n",
       "      <th>2995</th>\n",
       "      <td>NAW79XTQ23</td>\n",
       "      <td>17</td>\n",
       "      <td>WWE</td>\n",
       "      <td>23182596.0</td>\n",
       "      <td>The Undertaker returns: Raw 25, Jan. 22, 2018</td>\n",
       "      <td>wwe|world wrestling entertainment|wrestling|wr...</td>\n",
       "      <td>On Raw's 25th Anniversary, The Deadman emerges...</td>\n",
       "      <td>4.0</td>\n",
       "      <td>10</td>\n",
       "      <td>2</td>\n",
       "      <td>253317</td>\n",
       "      <td>17224</td>\n",
       "      <td>12584</td>\n",
       "      <td>True</td>\n",
       "      <td>5329267</td>\n",
       "    </tr>\n",
       "    <tr>\n",
       "      <th>2996</th>\n",
       "      <td>ZGK86VQM32</td>\n",
       "      <td>23</td>\n",
       "      <td>Smosh</td>\n",
       "      <td>22919161.0</td>\n",
       "      <td>EVERY GAME STORE EVER</td>\n",
       "      <td>gamestore|game store|gamestop|every gamestop e...</td>\n",
       "      <td>Video Game Stores - whether it's getting rippe...</td>\n",
       "      <td>3.0</td>\n",
       "      <td>19</td>\n",
       "      <td>3</td>\n",
       "      <td>75425</td>\n",
       "      <td>8165</td>\n",
       "      <td>5189</td>\n",
       "      <td>True</td>\n",
       "      <td>4819662</td>\n",
       "    </tr>\n",
       "    <tr>\n",
       "      <th>3048</th>\n",
       "      <td>EQM80QUA86</td>\n",
       "      <td>17</td>\n",
       "      <td>WWE</td>\n",
       "      <td>23182596.0</td>\n",
       "      <td>D-Generation X and Scott Hall share a Too Swee...</td>\n",
       "      <td>wwe|world wrestling entertainment|wrestling|wr...</td>\n",
       "      <td>Every member of D-Generation X and Kliq member...</td>\n",
       "      <td>8.0</td>\n",
       "      <td>20</td>\n",
       "      <td>5</td>\n",
       "      <td>0</td>\n",
       "      <td>0</td>\n",
       "      <td>0</td>\n",
       "      <td>True</td>\n",
       "      <td>4689206</td>\n",
       "    </tr>\n",
       "    <tr>\n",
       "      <th>3127</th>\n",
       "      <td>KTO59HRN57</td>\n",
       "      <td>10</td>\n",
       "      <td>shakiraVEVO</td>\n",
       "      <td>19537583.0</td>\n",
       "      <td>Shakira - Trap (Official Video) ft. Maluma</td>\n",
       "      <td>Shakira ft. Maluma|Shakira ft. Maluma Music|Sh...</td>\n",
       "      <td>Shakira feat. Maluma - Trap (Official Music Vi...</td>\n",
       "      <td>6.0</td>\n",
       "      <td>24</td>\n",
       "      <td>3</td>\n",
       "      <td>241746</td>\n",
       "      <td>5280</td>\n",
       "      <td>1969</td>\n",
       "      <td>True</td>\n",
       "      <td>4478605</td>\n",
       "    </tr>\n",
       "    <tr>\n",
       "      <th>3138</th>\n",
       "      <td>BHF93SHA74</td>\n",
       "      <td>24</td>\n",
       "      <td>TheEllenShow</td>\n",
       "      <td>23760020.0</td>\n",
       "      <td>Momsplaining with Kristen Bell #KidsPartyGoals...</td>\n",
       "      <td>inspiring|ellen|ellen degeneres|the ellen show...</td>\n",
       "      <td>An expectant mom of two – soon to be three – g...</td>\n",
       "      <td>6.0</td>\n",
       "      <td>15</td>\n",
       "      <td>7</td>\n",
       "      <td>280581</td>\n",
       "      <td>12199</td>\n",
       "      <td>2992</td>\n",
       "      <td>False</td>\n",
       "      <td>5410655</td>\n",
       "    </tr>\n",
       "  </tbody>\n",
       "</table>\n",
       "<p>79 rows × 15 columns</p>\n",
       "</div>"
      ],
      "text/plain": [
       "        Video_id  category_id      channel_title  subscriber  \\\n",
       "4     TWP93KXT70           24           nigahiga  20563106.0   \n",
       "31    JUF70OM?78           10         EminemVEVO        80.0   \n",
       "48    HOU55BHS75           24                FBE  16874196.0   \n",
       "51    DVF66YAa29           17                WWE  23182596.0   \n",
       "61     BDT46LFj5           24  YouTube Spotlight  27221198.0   \n",
       "...          ...          ...                ...         ...   \n",
       "2995  NAW79XTQ23           17                WWE  23182596.0   \n",
       "2996  ZGK86VQM32           23              Smosh  22919161.0   \n",
       "3048  EQM80QUA86           17                WWE  23182596.0   \n",
       "3127  KTO59HRN57           10        shakiraVEVO  19537583.0   \n",
       "3138  BHF93SHA74           24       TheEllenShow  23760020.0   \n",
       "\n",
       "                                                  title  \\\n",
       "4                              I Dare You: GOING BALD!?   \n",
       "31           Eminem - Walk On Water (Audio) ft. Beyoncé   \n",
       "48    ELDERS REACT TO iPHONE X (Facial Recognition, ...   \n",
       "51    Wildest Superstar distractions: WWE Top 10, No...   \n",
       "61               #VeteransDay: Thank You for Everything   \n",
       "...                                                 ...   \n",
       "2995      The Undertaker returns: Raw 25, Jan. 22, 2018   \n",
       "2996                              EVERY GAME STORE EVER   \n",
       "3048  D-Generation X and Scott Hall share a Too Swee...   \n",
       "3127         Shakira - Trap (Official Video) ft. Maluma   \n",
       "3138  Momsplaining with Kristen Bell #KidsPartyGoals...   \n",
       "\n",
       "                                                   tags  \\\n",
       "4     ryan|higa|higatv|nigahiga|i dare you|idy|rhpc|...   \n",
       "31    Eminem|Walk|On|Water|Aftermath/Shady/Interscop...   \n",
       "48    iPhone X|animojis|facial recognition|ELDERS RE...   \n",
       "51    wwe|world wrestling entertainment|wrestling|wr...   \n",
       "61    vets|veterans day|veterans|youtube|veteransday...   \n",
       "...                                                 ...   \n",
       "2995  wwe|world wrestling entertainment|wrestling|wr...   \n",
       "2996  gamestore|game store|gamestop|every gamestop e...   \n",
       "3048  wwe|world wrestling entertainment|wrestling|wr...   \n",
       "3127  Shakira ft. Maluma|Shakira ft. Maluma Music|Sh...   \n",
       "3138  inspiring|ellen|ellen degeneres|the ellen show...   \n",
       "\n",
       "                                            description  Trend_day_count  \\\n",
       "4     I know it's been a while since we did this sho...             11.0   \n",
       "31    Eminem's new track Walk on Water ft. Beyoncé i...              1.0   \n",
       "48    iPhone X (Facial Recognition, Animojis) reacte...              9.0   \n",
       "51    A timely distraction can create real trouble f...              4.0   \n",
       "61    This #VeteransDay, we want to say thank you to...              3.0   \n",
       "...                                                 ...              ...   \n",
       "2995  On Raw's 25th Anniversary, The Deadman emerges...              4.0   \n",
       "2996  Video Game Stores - whether it's getting rippe...              3.0   \n",
       "3048  Every member of D-Generation X and Kliq member...              8.0   \n",
       "3127  Shakira feat. Maluma - Trap (Official Music Vi...              6.0   \n",
       "3138  An expectant mom of two – soon to be three – g...              6.0   \n",
       "\n",
       "      Tag_count  Trend_tag_count  comment_count  likes  dislike  \\\n",
       "4            15                7         268085      0        0   \n",
       "31           20                1          44817  10563     4259   \n",
       "48           10                3         254649  13568     6060   \n",
       "51           14                2          33124   7281     4991   \n",
       "61           25                6              0  10227     2920   \n",
       "...         ...              ...            ...    ...      ...   \n",
       "2995         10                2         253317  17224    12584   \n",
       "2996         19                3          75425   8165     5189   \n",
       "3048         20                5              0      0        0   \n",
       "3127         24                3         241746   5280     1969   \n",
       "3138         15                7         280581  12199     2992   \n",
       "\n",
       "      tag appered in title    views  \n",
       "4                     True  4835374  \n",
       "31                   False  5459523  \n",
       "48                    True  4108108  \n",
       "51                    True  4818957  \n",
       "61                    True  5534788  \n",
       "...                    ...      ...  \n",
       "2995                  True  5329267  \n",
       "2996                  True  4819662  \n",
       "3048                  True  4689206  \n",
       "3127                  True  4478605  \n",
       "3138                 False  5410655  \n",
       "\n",
       "[79 rows x 15 columns]"
      ]
     },
     "execution_count": 91,
     "metadata": {},
     "output_type": "execute_result"
    }
   ],
   "source": [
    "outliers = df[df['views'] > (df['views'].mean() + 3 * df['views'].std())]\n",
    "outliers"
   ]
  },
  {
   "cell_type": "code",
   "execution_count": 93,
   "metadata": {},
   "outputs": [],
   "source": [
    "df=df[~(df.likes>1e6)]"
   ]
  },
  {
   "cell_type": "code",
   "execution_count": 104,
   "metadata": {},
   "outputs": [
    {
     "data": {
      "text/plain": [
       "<seaborn.axisgrid.FacetGrid at 0x2616c561080>"
      ]
     },
     "execution_count": 104,
     "metadata": {},
     "output_type": "execute_result"
    },
    {
     "data": {
      "image/png": "[encoded data removed]",
      "text/plain": [
       "<Figure size 360x360 with 1 Axes>"
      ]
     },
     "metadata": {
      "needs_background": "light"
     },
     "output_type": "display_data"
    }
   ],
   "source": [
    "sns.relplot(x='subscriber',y='likes',data=df,markers='x',palette='r')"
   ]
  },
  {
   "cell_type": "code",
   "execution_count": 108,
   "metadata": {},
   "outputs": [
    {
     "data": {
      "text/plain": [
       "<seaborn.axisgrid.FacetGrid at 0x2616daad7f0>"
      ]
     },
     "execution_count": 108,
     "metadata": {},
     "output_type": "execute_result"
    },
    {
     "data": {
      "image/png": "[encoded data removed]",
      "text/plain": [
       "<Figure size 360x360 with 1 Axes>"
      ]
     },
     "metadata": {
      "needs_background": "light"
     },
     "output_type": "display_data"
    }
   ],
   "source": [
    "sns.lmplot(x='comment_count',y='views',data=df,markers='x',palette='r')"
   ]
  },
  {
   "cell_type": "code",
   "execution_count": 113,
   "metadata": {},
   "outputs": [
    {
     "data": {
      "text/plain": [
       "<AxesSubplot:xlabel='category_id', ylabel='views'>"
      ]
     },
     "execution_count": 113,
     "metadata": {},
     "output_type": "execute_result"
    },
    {
     "data": {
      "image/png": "[encoded data removed]",
      "text/plain": [
       "<Figure size 432x288 with 1 Axes>"
      ]
     },
     "metadata": {
      "needs_background": "light"
     },
     "output_type": "display_data"
    }
   ],
   "source": [
    "sns.barplot(x='category_id',y='views',data=df)"
   ]
  },
  {
   "cell_type": "code",
   "execution_count": 128,
   "metadata": {},
   "outputs": [],
   "source": [
    "from sklearn.ensemble import RandomForestRegressor\n",
    "from sklearn.linear_model import LinearRegression\n"
   ]
  },
  {
   "cell_type": "code",
   "execution_count": 109,
   "metadata": {},
   "outputs": [
    {
     "data": {
      "text/html": [
       "<div>\n",
       "<style scoped>\n",
       "    .dataframe tbody tr th:only-of-type {\n",
       "        vertical-align: middle;\n",
       "    }\n",
       "\n",
       "    .dataframe tbody tr th {\n",
       "        vertical-align: top;\n",
       "    }\n",
       "\n",
       "    .dataframe thead th {\n",
       "        text-align: right;\n",
       "    }\n",
       "</style>\n",
       "<table border=\"1\" class=\"dataframe\">\n",
       "  <thead>\n",
       "    <tr style=\"text-align: right;\">\n",
       "      <th></th>\n",
       "      <th>Video_id</th>\n",
       "      <th>category_id</th>\n",
       "      <th>channel_title</th>\n",
       "      <th>subscriber</th>\n",
       "      <th>title</th>\n",
       "      <th>tags</th>\n",
       "      <th>description</th>\n",
       "      <th>Trend_day_count</th>\n",
       "      <th>Tag_count</th>\n",
       "      <th>Trend_tag_count</th>\n",
       "      <th>comment_count</th>\n",
       "      <th>likes</th>\n",
       "      <th>dislike</th>\n",
       "      <th>tag appered in title</th>\n",
       "      <th>views</th>\n",
       "    </tr>\n",
       "  </thead>\n",
       "  <tbody>\n",
       "    <tr>\n",
       "      <th>0</th>\n",
       "      <td>HDR9SQc79</td>\n",
       "      <td>22</td>\n",
       "      <td>CaseyNeistat</td>\n",
       "      <td>9086142.0</td>\n",
       "      <td>WE WANT TO TALK ABOUT OUR MARRIAGE</td>\n",
       "      <td>SHANtell martin</td>\n",
       "      <td>SHANTELL'S CHANNEL - https://www.youtube.com/s...</td>\n",
       "      <td>6.0</td>\n",
       "      <td>21</td>\n",
       "      <td>6</td>\n",
       "      <td>0</td>\n",
       "      <td>13342</td>\n",
       "      <td>6089</td>\n",
       "      <td>False</td>\n",
       "      <td>1978978</td>\n",
       "    </tr>\n",
       "    <tr>\n",
       "      <th>1</th>\n",
       "      <td>KNH52UF?48</td>\n",
       "      <td>24</td>\n",
       "      <td>LastWeekTonight</td>\n",
       "      <td>5937292.0</td>\n",
       "      <td>The Trump Presidency: Last Week Tonight with J...</td>\n",
       "      <td>last week tonight trump presidency|last week t...</td>\n",
       "      <td>One year after the presidential election, John...</td>\n",
       "      <td>1.0</td>\n",
       "      <td>23</td>\n",
       "      <td>1</td>\n",
       "      <td>116266</td>\n",
       "      <td>5761</td>\n",
       "      <td>3044</td>\n",
       "      <td>False</td>\n",
       "      <td>1487870</td>\n",
       "    </tr>\n",
       "    <tr>\n",
       "      <th>2</th>\n",
       "      <td>QTW28IRG36</td>\n",
       "      <td>23</td>\n",
       "      <td>Rudy Mancuso</td>\n",
       "      <td>4191209.0</td>\n",
       "      <td>Racist Superman | Rudy Mancuso, King Bach &amp; Le...</td>\n",
       "      <td>racist superman|rudy|mancuso|king|bach|racist|...</td>\n",
       "      <td>WATCH MY PREVIOUS VIDEO ▶ \\n\\nSUBSCRIBE ► http...</td>\n",
       "      <td>10.0</td>\n",
       "      <td>22</td>\n",
       "      <td>3</td>\n",
       "      <td>257850</td>\n",
       "      <td>0</td>\n",
       "      <td>0</td>\n",
       "      <td>True</td>\n",
       "      <td>1502102</td>\n",
       "    </tr>\n",
       "    <tr>\n",
       "      <th>3</th>\n",
       "      <td>MGL76WI]26</td>\n",
       "      <td>24</td>\n",
       "      <td>Good Mythical Morning</td>\n",
       "      <td>13186408.0</td>\n",
       "      <td>Nickelback Lyrics: Real or Fake?</td>\n",
       "      <td>rhett and link|gmm|good mythical morning|rhett...</td>\n",
       "      <td>Today we find out if Link is a Nickelback amat...</td>\n",
       "      <td>12.0</td>\n",
       "      <td>17</td>\n",
       "      <td>5</td>\n",
       "      <td>263939</td>\n",
       "      <td>0</td>\n",
       "      <td>0</td>\n",
       "      <td>True</td>\n",
       "      <td>3519302</td>\n",
       "    </tr>\n",
       "    <tr>\n",
       "      <th>4</th>\n",
       "      <td>TWP93KXT70</td>\n",
       "      <td>24</td>\n",
       "      <td>nigahiga</td>\n",
       "      <td>20563106.0</td>\n",
       "      <td>I Dare You: GOING BALD!?</td>\n",
       "      <td>ryan|higa|higatv|nigahiga|i dare you|idy|rhpc|...</td>\n",
       "      <td>I know it's been a while since we did this sho...</td>\n",
       "      <td>11.0</td>\n",
       "      <td>15</td>\n",
       "      <td>7</td>\n",
       "      <td>268085</td>\n",
       "      <td>0</td>\n",
       "      <td>0</td>\n",
       "      <td>True</td>\n",
       "      <td>4835374</td>\n",
       "    </tr>\n",
       "  </tbody>\n",
       "</table>\n",
       "</div>"
      ],
      "text/plain": [
       "     Video_id  category_id          channel_title  subscriber  \\\n",
       "0   HDR9SQc79           22           CaseyNeistat   9086142.0   \n",
       "1  KNH52UF?48           24        LastWeekTonight   5937292.0   \n",
       "2  QTW28IRG36           23           Rudy Mancuso   4191209.0   \n",
       "3  MGL76WI]26           24  Good Mythical Morning  13186408.0   \n",
       "4  TWP93KXT70           24               nigahiga  20563106.0   \n",
       "\n",
       "                                               title  \\\n",
       "0                 WE WANT TO TALK ABOUT OUR MARRIAGE   \n",
       "1  The Trump Presidency: Last Week Tonight with J...   \n",
       "2  Racist Superman | Rudy Mancuso, King Bach & Le...   \n",
       "3                   Nickelback Lyrics: Real or Fake?   \n",
       "4                           I Dare You: GOING BALD!?   \n",
       "\n",
       "                                                tags  \\\n",
       "0                                    SHANtell martin   \n",
       "1  last week tonight trump presidency|last week t...   \n",
       "2  racist superman|rudy|mancuso|king|bach|racist|...   \n",
       "3  rhett and link|gmm|good mythical morning|rhett...   \n",
       "4  ryan|higa|higatv|nigahiga|i dare you|idy|rhpc|...   \n",
       "\n",
       "                                         description  Trend_day_count  \\\n",
       "0  SHANTELL'S CHANNEL - https://www.youtube.com/s...              6.0   \n",
       "1  One year after the presidential election, John...              1.0   \n",
       "2  WATCH MY PREVIOUS VIDEO ▶ \\n\\nSUBSCRIBE ► http...             10.0   \n",
       "3  Today we find out if Link is a Nickelback amat...             12.0   \n",
       "4  I know it's been a while since we did this sho...             11.0   \n",
       "\n",
       "   Tag_count  Trend_tag_count  comment_count  likes  dislike  \\\n",
       "0         21                6              0  13342     6089   \n",
       "1         23                1         116266   5761     3044   \n",
       "2         22                3         257850      0        0   \n",
       "3         17                5         263939      0        0   \n",
       "4         15                7         268085      0        0   \n",
       "\n",
       "   tag appered in title    views  \n",
       "0                 False  1978978  \n",
       "1                 False  1487870  \n",
       "2                  True  1502102  \n",
       "3                  True  3519302  \n",
       "4                  True  4835374  "
      ]
     },
     "execution_count": 109,
     "metadata": {},
     "output_type": "execute_result"
    }
   ],
   "source": [
    "df.head()"
   ]
  },
  {
   "cell_type": "code",
   "execution_count": 118,
   "metadata": {},
   "outputs": [
    {
     "data": {
      "text/plain": [
       "0    1978978\n",
       "1    1487870\n",
       "2    1502102\n",
       "3    3519302\n",
       "4    4835374\n",
       "Name: views, dtype: int64"
      ]
     },
     "execution_count": 118,
     "metadata": {},
     "output_type": "execute_result"
    }
   ],
   "source": [
    "y = df['views']\n",
    "y.head()"
   ]
  },
  {
   "cell_type": "code",
   "execution_count": 121,
   "metadata": {},
   "outputs": [
    {
     "data": {
      "text/html": [
       "<div>\n",
       "<style scoped>\n",
       "    .dataframe tbody tr th:only-of-type {\n",
       "        vertical-align: middle;\n",
       "    }\n",
       "\n",
       "    .dataframe tbody tr th {\n",
       "        vertical-align: top;\n",
       "    }\n",
       "\n",
       "    .dataframe thead th {\n",
       "        text-align: right;\n",
       "    }\n",
       "</style>\n",
       "<table border=\"1\" class=\"dataframe\">\n",
       "  <thead>\n",
       "    <tr style=\"text-align: right;\">\n",
       "      <th></th>\n",
       "      <th>category_id</th>\n",
       "      <th>subscriber</th>\n",
       "      <th>Trend_day_count</th>\n",
       "    </tr>\n",
       "  </thead>\n",
       "  <tbody>\n",
       "    <tr>\n",
       "      <th>0</th>\n",
       "      <td>22</td>\n",
       "      <td>9086142.0</td>\n",
       "      <td>6.0</td>\n",
       "    </tr>\n",
       "    <tr>\n",
       "      <th>1</th>\n",
       "      <td>24</td>\n",
       "      <td>5937292.0</td>\n",
       "      <td>1.0</td>\n",
       "    </tr>\n",
       "    <tr>\n",
       "      <th>2</th>\n",
       "      <td>23</td>\n",
       "      <td>4191209.0</td>\n",
       "      <td>10.0</td>\n",
       "    </tr>\n",
       "    <tr>\n",
       "      <th>3</th>\n",
       "      <td>24</td>\n",
       "      <td>13186408.0</td>\n",
       "      <td>12.0</td>\n",
       "    </tr>\n",
       "    <tr>\n",
       "      <th>4</th>\n",
       "      <td>24</td>\n",
       "      <td>20563106.0</td>\n",
       "      <td>11.0</td>\n",
       "    </tr>\n",
       "  </tbody>\n",
       "</table>\n",
       "</div>"
      ],
      "text/plain": [
       "   category_id  subscriber  Trend_day_count\n",
       "0           22   9086142.0              6.0\n",
       "1           24   5937292.0              1.0\n",
       "2           23   4191209.0             10.0\n",
       "3           24  13186408.0             12.0\n",
       "4           24  20563106.0             11.0"
      ]
     },
     "execution_count": 121,
     "metadata": {},
     "output_type": "execute_result"
    }
   ],
   "source": [
    "X = df[['category_id','subscriber','Trend_day_count']]\n",
    "X.head()"
   ]
  },
  {
   "cell_type": "code",
   "execution_count": 122,
   "metadata": {},
   "outputs": [],
   "source": [
    "from sklearn.model_selection import train_test_split\n",
    "X_train,X_test,y_train,y_test = train_test_split(X,y,test_size=0.2,shuffle=True)"
   ]
  },
  {
   "cell_type": "code",
   "execution_count": 125,
   "metadata": {},
   "outputs": [],
   "source": [
    "Rf =RandomForestRegressor()\n",
    "Rf.fit(X_train,y_train)\n",
    "pred = Rf.predict(X_test)"
   ]
  },
  {
   "cell_type": "code",
   "execution_count": 124,
   "metadata": {},
   "outputs": [],
   "source": [
    "from sklearn.metrics import r2_score"
   ]
  },
  {
   "cell_type": "code",
   "execution_count": 127,
   "metadata": {},
   "outputs": [
    {
     "data": {
      "text/plain": [
       "0.9773828743071352"
      ]
     },
     "execution_count": 127,
     "metadata": {},
     "output_type": "execute_result"
    }
   ],
   "source": [
    "Rf.score(X, y)"
   ]
  },
  {
   "cell_type": "code",
   "execution_count": 126,
   "metadata": {},
   "outputs": [
    {
     "data": {
      "text/plain": [
       "0.9389323068881407"
      ]
     },
     "execution_count": 126,
     "metadata": {},
     "output_type": "execute_result"
    }
   ],
   "source": [
    "r2_score(y_test,pred)"
   ]
  }
 ],
 "metadata": {
  "kernelspec": {
   "display_name": "Python 3",
   "language": "python",
   "name": "python3"
  },
  "language_info": {
   "codemirror_mode": {
    "name": "ipython",
    "version": 3
   },
   "file_extension": ".py",
   "mimetype": "text/x-python",
   "name": "python",
   "nbconvert_exporter": "python",
   "pygments_lexer": "ipython3",
   "version": "3.7.4"
  }
 },
 "nbformat": 4,
 "nbformat_minor": 2
}
